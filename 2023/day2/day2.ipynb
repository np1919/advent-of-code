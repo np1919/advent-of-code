{
 "cells": [
  {
   "cell_type": "code",
   "execution_count": 2,
   "metadata": {},
   "outputs": [
    {
     "name": "stdout",
     "output_type": "stream",
     "text": [
      "defaultdict(<class 'dict'>, {1: {'blue': 8, 'green': 6, 'red': 3}, 2: {'green': 18, 'blue': 6, 'red': 13}, 3: {'blue': 5, 'red': 11, 'green': 14}, 4: {'red': 6, 'blue': 6, 'green': 17}, 5: {'red': 11, 'green': 17, 'blue': 10}, 6: {'green': 6, 'blue': 18, 'red': 9}, 7: {'blue': 4, 'green': 15, 'red': 1}, 8: {'red': 10, 'blue': 17, 'green': 7}, 9: {'blue': 1, 'green': 7, 'red': 4}, 10: {'green': 14, 'blue': 6, 'red': 5}, 11: {'blue': 1, 'green': 4, 'red': 7}, 12: {'blue': 5, 'green': 14, 'red': 18}, 13: {'green': 8, 'red': 8, 'blue': 5}, 14: {'green': 19, 'blue': 11, 'red': 20}, 15: {'red': 14, 'green': 17, 'blue': 1}, 16: {'red': 3, 'green': 2, 'blue': 6}, 17: {'blue': 3, 'red': 8, 'green': 1}, 18: {'green': 11, 'red': 10, 'blue': 2}, 19: {'blue': 2, 'green': 7, 'red': 10}, 20: {'red': 12, 'green': 5, 'blue': 10}, 21: {'red': 5, 'blue': 18, 'green': 17}, 22: {'blue': 1, 'green': 14, 'red': 10}, 23: {'blue': 6, 'green': 14, 'red': 17}, 24: {'green': 5, 'blue': 8, 'red': 17}, 25: {'red': 19, 'blue': 9, 'green': 3}, 26: {'green': 12, 'blue': 12, 'red': 9}, 27: {'blue': 2, 'green': 11, 'red': 9}, 28: {'blue': 14, 'red': 20, 'green': 3}, 29: {'red': 15, 'blue': 1, 'green': 2}, 30: {'red': 1, 'blue': 19, 'green': 11}, 31: {'red': 15, 'green': 12, 'blue': 2}, 32: {'blue': 5, 'green': 5, 'red': 8}, 33: {'red': 1, 'green': 17, 'blue': 9}, 34: {'blue': 12, 'red': 13, 'green': 9}, 35: {'green': 6, 'red': 5, 'blue': 11}, 36: {'blue': 7, 'green': 14, 'red': 16}, 37: {'red': 13, 'blue': 10, 'green': 14}, 38: {'red': 3, 'blue': 13, 'green': 8}, 39: {'red': 15, 'blue': 8, 'green': 7}, 40: {'red': 16, 'green': 3, 'blue': 1}, 41: {'blue': 7, 'red': 5, 'green': 3}, 42: {'red': 13, 'green': 4, 'blue': 1}, 43: {'green': 14, 'red': 15, 'blue': 2}, 44: {'green': 15, 'blue': 14, 'red': 15}, 45: {'red': 16, 'blue': 8, 'green': 3}, 46: {'blue': 12, 'green': 6, 'red': 12}, 47: {'green': 10, 'red': 7, 'blue': 1}, 48: {'blue': 9, 'green': 14, 'red': 15}, 49: {'blue': 7, 'red': 3, 'green': 3}, 50: {'red': 9, 'green': 8, 'blue': 11}, 51: {'blue': 13, 'red': 1, 'green': 1}, 52: {'blue': 12, 'red': 2, 'green': 4}, 53: {'blue': 14, 'red': 14, 'green': 4}, 54: {'blue': 2, 'red': 14, 'green': 3}, 55: {'green': 7, 'red': 14, 'blue': 12}, 56: {'blue': 1, 'red': 5, 'green': 8}, 57: {'blue': 8, 'red': 13, 'green': 3}, 58: {'green': 11, 'red': 10, 'blue': 2}, 59: {'green': 16, 'blue': 2, 'red': 1}, 60: {'green': 6, 'blue': 5, 'red': 14}, 61: {'green': 2, 'red': 6, 'blue': 6}, 62: {'green': 18, 'blue': 13, 'red': 5}, 63: {'red': 13, 'blue': 4, 'green': 10}, 64: {'green': 1, 'red': 16, 'blue': 17}, 65: {'blue': 11, 'red': 13, 'green': 11}, 66: {'blue': 5, 'green': 2, 'red': 7}, 67: {'blue': 2, 'red': 9, 'green': 10}, 68: {'blue': 15, 'green': 11, 'red': 6}, 69: {'blue': 15, 'green': 4, 'red': 11}, 70: {'blue': 14, 'red': 7, 'green': 8}, 71: {'red': 14, 'blue': 6, 'green': 12}, 72: {'red': 10, 'green': 7, 'blue': 7}, 73: {'green': 4, 'red': 3, 'blue': 2}, 74: {'green': 13, 'red': 5, 'blue': 7}, 75: {'red': 12, 'green': 6, 'blue': 12}, 76: {'blue': 11, 'red': 7, 'green': 16}, 77: {'blue': 14, 'red': 18, 'green': 7}, 78: {'red': 9, 'green': 11, 'blue': 15}, 79: {'blue': 5, 'red': 1, 'green': 1}, 80: {'blue': 18, 'green': 14, 'red': 7}, 81: {'blue': 11, 'green': 13, 'red': 12}, 82: {'blue': 6, 'red': 20, 'green': 1}, 83: {'blue': 3, 'red': 4, 'green': 5}, 84: {'red': 15, 'blue': 10, 'green': 2}, 85: {'green': 15, 'red': 17, 'blue': 2}, 86: {'blue': 10, 'red': 1, 'green': 2}, 87: {'red': 18, 'blue': 9, 'green': 1}, 88: {'green': 19, 'blue': 7, 'red': 13}, 89: {'green': 8, 'red': 3, 'blue': 7}, 90: {'green': 11, 'red': 4, 'blue': 3}, 91: {'blue': 7, 'red': 2, 'green': 1}, 92: {'green': 11, 'blue': 16, 'red': 17}, 93: {'red': 15, 'blue': 1, 'green': 7}, 94: {'blue': 9, 'red': 5, 'green': 3}, 95: {'blue': 3, 'green': 6, 'red': 6}, 96: {'blue': 6, 'red': 9, 'green': 8}, 97: {'green': 10, 'blue': 8, 'red': 5}, 98: {'blue': 13, 'green': 6, 'red': 10}, 99: {'red': 15, 'green': 6, 'blue': 6}, 100: {'green': 14, 'blue': 7, 'red': 12}})\n"
     ]
    },
    {
     "data": {
      "text/plain": [
       "2369"
      ]
     },
     "execution_count": 2,
     "metadata": {},
     "output_type": "execute_result"
    }
   ],
   "source": [
    "#day two part one\n",
    "\n",
    "from collections import defaultdict\n",
    "games = defaultdict(dict)\n",
    "\n",
    "with open(\"puzzle_input.txt\", 'r') as f:\n",
    "    for idx, line in enumerate( f.readlines()):\n",
    "        # row_max = defaultdict()\n",
    "        line = line.strip('\\n').split(':')[1:][0].replace(';',',').split(',')\n",
    "        line = [x.strip() for x in line]\n",
    "        # print(line)\n",
    "        test = defaultdict(list)\n",
    "        for val in line:\n",
    "            v,k = val.split(' ')\n",
    "            # print(v,k)\n",
    "            test[k].append(int(v))\n",
    "        for colour in test:\n",
    "            games[idx+1][colour] = max(test[colour])\n",
    "print(games)\n",
    "possible = []\n",
    "impossible = []\n",
    "for idx in games:\n",
    "    if (games[idx]['red'] > 12) or (games[idx]['green']>13) or (games[idx]['blue']>14):\n",
    "        # print(games[idx])\n",
    "        impossible.append(idx)\n",
    "        pass\n",
    "    else:\n",
    "        possible.append(idx)\n",
    "assert (len(possible) + len(impossible) == len(games))\n",
    "\n",
    "sum(possible) # 2369 is correct -- watch for 0 indexing in dictionary."
   ]
  },
  {
   "cell_type": "code",
   "execution_count": 7,
   "metadata": {},
   "outputs": [
    {
     "name": "stdout",
     "output_type": "stream",
     "text": [
      "defaultdict(<class 'dict'>, {1: {'blue': 8, 'green': 6, 'red': 3}, 2: {'green': 18, 'blue': 6, 'red': 13}, 3: {'blue': 5, 'red': 11, 'green': 14}, 4: {'red': 6, 'blue': 6, 'green': 17}, 5: {'red': 11, 'green': 17, 'blue': 10}, 6: {'green': 6, 'blue': 18, 'red': 9}, 7: {'blue': 4, 'green': 15, 'red': 1}, 8: {'red': 10, 'blue': 17, 'green': 7}, 9: {'blue': 1, 'green': 7, 'red': 4}, 10: {'green': 14, 'blue': 6, 'red': 5}, 11: {'blue': 1, 'green': 4, 'red': 7}, 12: {'blue': 5, 'green': 14, 'red': 18}, 13: {'green': 8, 'red': 8, 'blue': 5}, 14: {'green': 19, 'blue': 11, 'red': 20}, 15: {'red': 14, 'green': 17, 'blue': 1}, 16: {'red': 3, 'green': 2, 'blue': 6}, 17: {'blue': 3, 'red': 8, 'green': 1}, 18: {'green': 11, 'red': 10, 'blue': 2}, 19: {'blue': 2, 'green': 7, 'red': 10}, 20: {'red': 12, 'green': 5, 'blue': 10}, 21: {'red': 5, 'blue': 18, 'green': 17}, 22: {'blue': 1, 'green': 14, 'red': 10}, 23: {'blue': 6, 'green': 14, 'red': 17}, 24: {'green': 5, 'blue': 8, 'red': 17}, 25: {'red': 19, 'blue': 9, 'green': 3}, 26: {'green': 12, 'blue': 12, 'red': 9}, 27: {'blue': 2, 'green': 11, 'red': 9}, 28: {'blue': 14, 'red': 20, 'green': 3}, 29: {'red': 15, 'blue': 1, 'green': 2}, 30: {'red': 1, 'blue': 19, 'green': 11}, 31: {'red': 15, 'green': 12, 'blue': 2}, 32: {'blue': 5, 'green': 5, 'red': 8}, 33: {'red': 1, 'green': 17, 'blue': 9}, 34: {'blue': 12, 'red': 13, 'green': 9}, 35: {'green': 6, 'red': 5, 'blue': 11}, 36: {'blue': 7, 'green': 14, 'red': 16}, 37: {'red': 13, 'blue': 10, 'green': 14}, 38: {'red': 3, 'blue': 13, 'green': 8}, 39: {'red': 15, 'blue': 8, 'green': 7}, 40: {'red': 16, 'green': 3, 'blue': 1}, 41: {'blue': 7, 'red': 5, 'green': 3}, 42: {'red': 13, 'green': 4, 'blue': 1}, 43: {'green': 14, 'red': 15, 'blue': 2}, 44: {'green': 15, 'blue': 14, 'red': 15}, 45: {'red': 16, 'blue': 8, 'green': 3}, 46: {'blue': 12, 'green': 6, 'red': 12}, 47: {'green': 10, 'red': 7, 'blue': 1}, 48: {'blue': 9, 'green': 14, 'red': 15}, 49: {'blue': 7, 'red': 3, 'green': 3}, 50: {'red': 9, 'green': 8, 'blue': 11}, 51: {'blue': 13, 'red': 1, 'green': 1}, 52: {'blue': 12, 'red': 2, 'green': 4}, 53: {'blue': 14, 'red': 14, 'green': 4}, 54: {'blue': 2, 'red': 14, 'green': 3}, 55: {'green': 7, 'red': 14, 'blue': 12}, 56: {'blue': 1, 'red': 5, 'green': 8}, 57: {'blue': 8, 'red': 13, 'green': 3}, 58: {'green': 11, 'red': 10, 'blue': 2}, 59: {'green': 16, 'blue': 2, 'red': 1}, 60: {'green': 6, 'blue': 5, 'red': 14}, 61: {'green': 2, 'red': 6, 'blue': 6}, 62: {'green': 18, 'blue': 13, 'red': 5}, 63: {'red': 13, 'blue': 4, 'green': 10}, 64: {'green': 1, 'red': 16, 'blue': 17}, 65: {'blue': 11, 'red': 13, 'green': 11}, 66: {'blue': 5, 'green': 2, 'red': 7}, 67: {'blue': 2, 'red': 9, 'green': 10}, 68: {'blue': 15, 'green': 11, 'red': 6}, 69: {'blue': 15, 'green': 4, 'red': 11}, 70: {'blue': 14, 'red': 7, 'green': 8}, 71: {'red': 14, 'blue': 6, 'green': 12}, 72: {'red': 10, 'green': 7, 'blue': 7}, 73: {'green': 4, 'red': 3, 'blue': 2}, 74: {'green': 13, 'red': 5, 'blue': 7}, 75: {'red': 12, 'green': 6, 'blue': 12}, 76: {'blue': 11, 'red': 7, 'green': 16}, 77: {'blue': 14, 'red': 18, 'green': 7}, 78: {'red': 9, 'green': 11, 'blue': 15}, 79: {'blue': 5, 'red': 1, 'green': 1}, 80: {'blue': 18, 'green': 14, 'red': 7}, 81: {'blue': 11, 'green': 13, 'red': 12}, 82: {'blue': 6, 'red': 20, 'green': 1}, 83: {'blue': 3, 'red': 4, 'green': 5}, 84: {'red': 15, 'blue': 10, 'green': 2}, 85: {'green': 15, 'red': 17, 'blue': 2}, 86: {'blue': 10, 'red': 1, 'green': 2}, 87: {'red': 18, 'blue': 9, 'green': 1}, 88: {'green': 19, 'blue': 7, 'red': 13}, 89: {'green': 8, 'red': 3, 'blue': 7}, 90: {'green': 11, 'red': 4, 'blue': 3}, 91: {'blue': 7, 'red': 2, 'green': 1}, 92: {'green': 11, 'blue': 16, 'red': 17}, 93: {'red': 15, 'blue': 1, 'green': 7}, 94: {'blue': 9, 'red': 5, 'green': 3}, 95: {'blue': 3, 'green': 6, 'red': 6}, 96: {'blue': 6, 'red': 9, 'green': 8}, 97: {'green': 10, 'blue': 8, 'red': 5}, 98: {'blue': 13, 'green': 6, 'red': 10}, 99: {'red': 15, 'green': 6, 'blue': 6}, 100: {'green': 14, 'blue': 7, 'red': 12}})\n"
     ]
    },
    {
     "data": {
      "text/plain": [
       "66363"
      ]
     },
     "execution_count": 7,
     "metadata": {},
     "output_type": "execute_result"
    }
   ],
   "source": [
    "#day two part two\n",
    "\n",
    "from collections import defaultdict\n",
    "games = defaultdict(dict)\n",
    "\n",
    "with open(\"puzzle_input.txt\", 'r') as f:\n",
    "    for idx, line in enumerate( f.readlines()):\n",
    "        line = line.strip('\\n').split(':')[1:][0].replace(';',',').split(',')\n",
    "        line = [x.strip() for x in line]\n",
    "        # print(line)\n",
    "        test = defaultdict(list)\n",
    "        for val in line:\n",
    "            v,k = val.split(' ')\n",
    "            # print(v,k)\n",
    "            test[k].append(int(v))\n",
    "        for colour in test:\n",
    "            games[idx+1][colour] = max(test[colour])\n",
    "            # print(games[idx+1][colour])\n",
    "            # \n",
    "print(games)\n",
    "\n",
    "powers = []\n",
    "for idx in games:\n",
    "    powers.append(games[idx]['red']* games[idx]['green'] * games[idx]['blue'])\n",
    "sum(powers)\n",
    "# 66363 is the right answer"
   ]
  },
  {
   "cell_type": "code",
   "execution_count": null,
   "metadata": {},
   "outputs": [],
   "source": []
  }
 ],
 "metadata": {
  "kernelspec": {
   "display_name": "Python 3",
   "language": "python",
   "name": "python3"
  },
  "language_info": {
   "codemirror_mode": {
    "name": "ipython",
    "version": 3
   },
   "file_extension": ".py",
   "mimetype": "text/x-python",
   "name": "python",
   "nbconvert_exporter": "python",
   "pygments_lexer": "ipython3",
   "version": "3.11.4"
  }
 },
 "nbformat": 4,
 "nbformat_minor": 2
}

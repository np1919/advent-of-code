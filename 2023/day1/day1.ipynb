{
 "cells": [
  {
   "cell_type": "markdown",
   "metadata": {},
   "source": [
    "https://adventofcode.com/2023/day/1"
   ]
  },
  {
   "cell_type": "code",
   "execution_count": 1,
   "metadata": {},
   "outputs": [
    {
     "data": {
      "text/plain": [
       "55488"
      ]
     },
     "execution_count": 1,
     "metadata": {},
     "output_type": "execute_result"
    }
   ],
   "source": [
    "# Day 1 Part 1\n",
    "# refer to the puzzle_input.txt file in the top-level directory\n",
    "# take the first and last numeric value in each string and concatenate the digits. \n",
    "# what is the sum of all of the 2-digit values?\n",
    "\n",
    "output = dict()\n",
    "\n",
    "with open('puzzle_input.txt', 'r') as f:\n",
    "    for idx, x in enumerate(f.readlines()):\n",
    "        numeric_strings = [i for i in x if i.isnumeric()]\n",
    "        output[idx] = numeric_strings[0] + numeric_strings[-1]\n",
    "\n",
    "assert [len(x)==2 for x in output.values()]\n",
    "\n",
    "sum(int(x) for x in output.values()) # 55488 is correct"
   ]
  },
  {
   "cell_type": "code",
   "execution_count": 2,
   "metadata": {},
   "outputs": [
    {
     "data": {
      "text/plain": [
       "55614"
      ]
     },
     "execution_count": 2,
     "metadata": {},
     "output_type": "execute_result"
    }
   ],
   "source": [
    "# Day 1 Part 2\n",
    "\n",
    "# some of the values are actually written as digits. zero is not included in the reference list\n",
    "\n",
    "import re\n",
    "# make a map\n",
    "str_digits = ['one', 'two', 'three', 'four', 'five', 'six', 'seven', 'eight', 'nine']\n",
    "integer_map = dict(zip(str_digits, (str(x) for x in range(1,10))))\n",
    "\n",
    "output = dict()\n",
    "\n",
    "with open('puzzle_input.txt', 'r') as f:\n",
    "    for idx, x in enumerate(f.readlines()):\n",
    "        # valid = re.findall(f'\\d|{\"|\".join(str_digits)}', x)\n",
    "        # valid = [ integer_map[x] if x in integer_map else x for x in valid ]\n",
    "\n",
    "        first = re.findall(f'\\d|{\"|\".join(str_digits)}', x)\n",
    "        second = re.findall(f'\\d|{\"|\".join((x[::-1] for x in str_digits))}', x[::-1])\n",
    "        second = [x[::-1] for x in second[::-1]]\n",
    "        valid = [integer_map[x] if x in integer_map else x for x in [first[0], second[-1]]]\n",
    "        output[idx] = valid[0] + valid[1]\n",
    "\n",
    "\n",
    "assert [len(x)==2 for x in output.values()]\n",
    "\n",
    "sum(int(x) for x in output.values()) # 55614 is correct\n"
   ]
  }
 ],
 "metadata": {
  "kernelspec": {
   "display_name": "Python 3",
   "language": "python",
   "name": "python3"
  },
  "language_info": {
   "codemirror_mode": {
    "name": "ipython",
    "version": 3
   },
   "file_extension": ".py",
   "mimetype": "text/x-python",
   "name": "python",
   "nbconvert_exporter": "python",
   "pygments_lexer": "ipython3",
   "version": "3.11.4"
  }
 },
 "nbformat": 4,
 "nbformat_minor": 2
}

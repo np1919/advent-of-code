{
 "cells": [
  {
   "cell_type": "markdown",
   "metadata": {},
   "source": [
    "--- Day 6: Guard Gallivant ---\n",
    "The Historians use their fancy device again, this time to whisk you all away to the North Pole prototype suit manufacturing lab... in the year 1518! It turns out that having direct access to history is very convenient for a group of historians.\n",
    "\n",
    "You still have to be careful of time paradoxes, and so it will be important to avoid anyone from 1518 while The Historians search for the Chief. Unfortunately, a single guard is patrolling this part of the lab.\n",
    "\n",
    "Maybe you can work out where the guard will go ahead of time so that The Historians can search safely?\n",
    "\n",
    "You start by making a map (your puzzle input) of the situation. For example:\n",
    "\n",
    "....#.....\n",
    ".........#\n",
    "..........\n",
    "..#.......\n",
    ".......#..\n",
    "..........\n",
    ".#..^.....\n",
    "........#.\n",
    "#.........\n",
    "......#...\n",
    "The map shows the current position of the guard with ^ (to indicate the guard is currently facing up from the perspective of the map). Any obstructions - crates, desks, alchemical reactors, etc. - are shown as #.\n",
    "\n",
    "Lab guards in 1518 follow a very strict patrol protocol which involves repeatedly following these steps:\n",
    "\n",
    "If there is something directly in front of you, turn right 90 degrees.\n",
    "Otherwise, take a step forward.\n",
    "Following the above protocol, the guard moves up several times until she reaches an obstacle (in this case, a pile of failed suit prototypes):\n",
    "\n",
    "....#.....\n",
    "....^....#\n",
    "..........\n",
    "..#.......\n",
    ".......#..\n",
    "..........\n",
    ".#........\n",
    "........#.\n",
    "#.........\n",
    "......#...\n",
    "Because there is now an obstacle in front of the guard, she turns right before continuing straight in her new facing direction:\n",
    "\n",
    "....#.....\n",
    "........>#\n",
    "..........\n",
    "..#.......\n",
    ".......#..\n",
    "..........\n",
    ".#........\n",
    "........#.\n",
    "#.........\n",
    "......#...\n",
    "Reaching another obstacle (a spool of several very long polymers), she turns right again and continues downward:\n",
    "\n",
    "....#.....\n",
    ".........#\n",
    "..........\n",
    "..#.......\n",
    ".......#..\n",
    "..........\n",
    ".#......v.\n",
    "........#.\n",
    "#.........\n",
    "......#...\n",
    "This process continues for a while, but the guard eventually leaves the mapped area (after walking past a tank of universal solvent):\n",
    "\n",
    "....#.....\n",
    ".........#\n",
    "..........\n",
    "..#.......\n",
    ".......#..\n",
    "..........\n",
    ".#........\n",
    "........#.\n",
    "#.........\n",
    "......#v..\n",
    "By predicting the guard's route, you can determine which specific positions in the lab will be in the patrol path. Including the guard's starting position, the positions visited by the guard before leaving the area are marked with an X:\n",
    "\n",
    "....#.....\n",
    "....XXXXX#\n",
    "....X...X.\n",
    "..#.X...X.\n",
    "..XXXXX#X.\n",
    "..X.X.X.X.\n",
    ".#XXXXXXX.\n",
    ".XXXXXXX#.\n",
    "#XXXXXXX..\n",
    "......#X..\n",
    "In this example, the guard will visit 41 distinct positions on your map.\n",
    "\n",
    "Predict the path of the guard. How many distinct positions will the guard visit before leaving the mapped area?"
   ]
  },
  {
   "cell_type": "code",
   "execution_count": 1,
   "metadata": {},
   "outputs": [],
   "source": [
    "def load_data():\n",
    "    grid = dict()\n",
    "    with open('data.txt') as f:\n",
    "        for row_idx, _ in enumerate(f.readlines()):\n",
    "            for ch_idx, ch in enumerate(_):\n",
    "                grid[(row_idx, ch_idx)] = ch\n",
    "                if ch == '^':\n",
    "                    grid['start'] = (row_idx, ch_idx)\n",
    "    return grid\n",
    "\n",
    "grid = load_data()"
   ]
  },
  {
   "cell_type": "code",
   "execution_count": 2,
   "metadata": {},
   "outputs": [],
   "source": [
    "def visualize_grid(grid):\n",
    "    cols = max(x[0] for x in grid.keys() if type(x) == tuple)\n",
    "    rows = max(x[1] for x in grid.keys() if type(x) == tuple)\n",
    "    \n",
    "    for x in range(rows):\n",
    "        row = \"\".join(grid[x,y] for y in range(cols))\n",
    "        print(row)\n",
    "\n",
    "    # print(cols, rows)"
   ]
  },
  {
   "cell_type": "code",
   "execution_count": 3,
   "metadata": {},
   "outputs": [],
   "source": [
    "#visualize_grid(grid)"
   ]
  },
  {
   "cell_type": "code",
   "execution_count": 13,
   "metadata": {},
   "outputs": [],
   "source": [
    "\n",
    "def traverse_grid(grid):\n",
    "\n",
    "    x,y=grid['start']\n",
    "    used_symbol = 'U'\n",
    "    direction = (-1,0) # direction is row/column index addition, NOT x/y coords\n",
    "    visited = {(x,y)}\n",
    "    def rotate_direction(direction):\n",
    "        # N to E\n",
    "        if direction == (-1,0): \n",
    "            return (0,1)\n",
    "        # E to S\n",
    "        if direction == (0,1): \n",
    "            return (1,0)  \n",
    "        # S to W\n",
    "        if direction == (1,0):\n",
    "            return (0,-1)\n",
    "        # W to N\n",
    "        if direction == (0,-1): \n",
    "            return (-1,0)\n",
    "    \n",
    "    while True:\n",
    "    # cols = max(x[0] for x in grid.keys() if type(x) == tuple)\n",
    "    # rows = max(x[1] for x in grid.keys() if type(x) == tuple)\n",
    "    \n",
    "        next_pos = (x+direction[0],y+direction[1])\n",
    "        try:\n",
    "            if grid[next_pos] == '#':\n",
    "                    direction = rotate_direction(direction)\n",
    "            else:\n",
    "                x,y = next_pos\n",
    "                visited.add((x,y))\n",
    "                #grid[(x,y)] = used_symbol\n",
    "        except KeyError:\n",
    "            break\n",
    "    \n",
    "    # sum_used = len([x for x in grid if grid[x] == used_symbol])\n",
    "    # return sum_used + 1\n",
    "    return len(visited)\n"
   ]
  },
  {
   "cell_type": "code",
   "execution_count": 14,
   "metadata": {},
   "outputs": [
    {
     "data": {
      "text/plain": [
       "5129"
      ]
     },
     "execution_count": 14,
     "metadata": {},
     "output_type": "execute_result"
    }
   ],
   "source": [
    "grid = load_data()\n",
    "# 5129 is correct.\n",
    "traverse_grid(grid)"
   ]
  },
  {
   "cell_type": "markdown",
   "metadata": {},
   "source": [
    "--- Part Two ---\n",
    "While The Historians begin working around the guard's patrol route, you borrow their fancy device and step outside the lab. From the safety of a supply closet, you time travel through the last few months and record the nightly status of the lab's guard post on the walls of the closet.\n",
    "\n",
    "Returning after what seems like only a few seconds to The Historians, they explain that the guard's patrol area is simply too large for them to safely search the lab without getting caught.\n",
    "\n",
    "Fortunately, they are pretty sure that adding a single new obstruction won't cause a time paradox. They'd like to place the new obstruction in such a way that the guard will get stuck in a loop, making the rest of the lab safe to search.\n",
    "\n",
    "To have the lowest chance of creating a time paradox, The Historians would like to know all of the possible positions for such an obstruction. The new obstruction can't be placed at the guard's starting position - the guard is there right now and would notice.\n",
    "\n",
    "In the above example, there are only 6 different positions where a new obstruction would cause the guard to get stuck in a loop. The diagrams of these six situations use O to mark the new obstruction, | to show a position where the guard moves up/down, - to show a position where the guard moves left/right, and + to show a position where the guard moves both up/down and left/right.\n",
    "\n",
    "Option one, put a printing press next to the guard's starting position:\n",
    "\n",
    "....#.....\n",
    "....+---+#\n",
    "....|...|.\n",
    "..#.|...|.\n",
    "....|..#|.\n",
    "....|...|.\n",
    ".#.O^---+.\n",
    "........#.\n",
    "#.........\n",
    "......#...\n",
    "Option two, put a stack of failed suit prototypes in the bottom right quadrant of the mapped area:\n",
    "\n",
    "\n",
    "....#.....\n",
    "....+---+#\n",
    "....|...|.\n",
    "..#.|...|.\n",
    "..+-+-+#|.\n",
    "..|.|.|.|.\n",
    ".#+-^-+-+.\n",
    "......O.#.\n",
    "#.........\n",
    "......#...\n",
    "Option three, put a crate of chimney-squeeze prototype fabric next to the standing desk in the bottom right quadrant:\n",
    "\n",
    "....#.....\n",
    "....+---+#\n",
    "....|...|.\n",
    "..#.|...|.\n",
    "..+-+-+#|.\n",
    "..|.|.|.|.\n",
    ".#+-^-+-+.\n",
    ".+----+O#.\n",
    "#+----+...\n",
    "......#...\n",
    "Option four, put an alchemical retroencabulator near the bottom left corner:\n",
    "\n",
    "....#.....\n",
    "....+---+#\n",
    "....|...|.\n",
    "..#.|...|.\n",
    "..+-+-+#|.\n",
    "..|.|.|.|.\n",
    ".#+-^-+-+.\n",
    "..|...|.#.\n",
    "#O+---+...\n",
    "......#...\n",
    "Option five, put the alchemical retroencabulator a bit to the right instead:\n",
    "\n",
    "....#.....\n",
    "....+---+#\n",
    "....|...|.\n",
    "..#.|...|.\n",
    "..+-+-+#|.\n",
    "..|.|.|.|.\n",
    ".#+-^-+-+.\n",
    "....|.|.#.\n",
    "#..O+-+...\n",
    "......#...\n",
    "Option six, put a tank of sovereign glue right next to the tank of universal solvent:\n",
    "\n",
    "....#.....\n",
    "....+---+#\n",
    "....|...|.\n",
    "..#.|...|.\n",
    "..+-+-+#|.\n",
    "..|.|.|.|.\n",
    ".#+-^-+-+.\n",
    ".+----++#.\n",
    "#+----++..\n",
    "......#O..\n",
    "It doesn't really matter what you choose to use as an obstacle so long as you and The Historians can put it into position without the guard noticing. The important thing is having enough options that you can find one that minimizes time paradoxes, and in this example, there are 6 different positions you could choose.\n",
    "\n",
    "You need to get the guard stuck in a loop by adding a single new obstruction. How many different positions could you choose for this obstruction?"
   ]
  },
  {
   "cell_type": "code",
   "execution_count": 9,
   "metadata": {},
   "outputs": [],
   "source": [
    "# the (new) barrier(s) will always be to the North, East, South, West -- but may occur in different orders. The first barrier you hit may not have a loop.\n",
    "\n",
    "# This is easiest to do DURING the traversal itself... whenever you intersect your own path?\n",
    "\n",
    "\n",
    "# when you hit point which creates a loop, it has:\n",
    "# been traversed.\n",
    "# has a barrier NORTH of it. \n",
    "    # that barrier has a barrier to EAST of it, minus one row\n",
    "        # that barrier has a barrier to the SOUTH of it, minus one column\n",
    "            # this point would now be blocked by a new barrier, to the WEST of the intersection with the path.\n",
    "\n",
    "\n",
    "\n",
    "# the second example creates a barrier to the south of a path intersection. it has:\n",
    "# been traversed. \n",
    "# has a barrier to the WEST of it\n",
    "    # which has a barrier NORTH of it, and one col east\n",
    "        # which has a barrier to the EAST of it, one row south\n",
    "            # which is now blocked by this new barrier to the SOUTH of it, one row west. \n",
    "                \n"
   ]
  },
  {
   "cell_type": "code",
   "execution_count": 16,
   "metadata": {},
   "outputs": [
    {
     "data": {
      "text/plain": [
       "(129, 130)"
      ]
     },
     "execution_count": 16,
     "metadata": {},
     "output_type": "execute_result"
    }
   ],
   "source": [
    "cols = max(x[0] for x in grid.keys() if type(x) == tuple)\n",
    "rows = max(x[1] for x in grid.keys() if type(x) == tuple)\n",
    "cols, rows\n"
   ]
  },
  {
   "cell_type": "code",
   "execution_count": null,
   "metadata": {},
   "outputs": [],
   "source": [
    "for i in range(cols):\n",
    "    for j in range(rows):\n",
    "        if grid[i,j] == '#':\n",
    "            # check if the NEXT hash on the row(below?) to the EAST is  "
   ]
  },
  {
   "cell_type": "code",
   "execution_count": null,
   "metadata": {},
   "outputs": [
    {
     "data": {
      "text/plain": [
       "813"
      ]
     },
     "metadata": {},
     "output_type": "display_data"
    }
   ],
   "source": [
    "def traverse_grid(grid):\n",
    "\n",
    "    x,y=grid['start']\n",
    "    used_symbol = 'U'\n",
    "    direction = (-1,0) # direction is row/column index addition, NOT x/y coords\n",
    "    visited = {(x,y)}\n",
    "    def rotate_direction(direction):\n",
    "        # N to E\n",
    "        if direction == (-1,0): \n",
    "            return (0,1)\n",
    "        # E to S\n",
    "        if direction == (0,1): \n",
    "            return (1,0)  \n",
    "        # S to W\n",
    "        if direction == (1,0):\n",
    "            return (0,-1)\n",
    "        # W to N\n",
    "        if direction == (0,-1): \n",
    "            return (-1,0)\n",
    "    \n",
    "    while True:\n",
    "    # cols = max(x[0] for x in grid.keys() if type(x) == tuple)\n",
    "    # rows = max(x[1] for x in grid.keys() if type(x) == tuple)\n",
    "    \n",
    "        next_pos = (x+direction[0],y+direction[1])\n",
    "        try:\n",
    "            if grid[next_pos] == '#':\n",
    "                    direction = rotate_direction(direction)\n",
    "            else:\n",
    "                x,y = next_pos\n",
    "                visited.add((x,y))\n",
    "                #grid[(x,y)] = used_symbol\n",
    "        except KeyError:\n",
    "            break\n",
    "    \n",
    "    # sum_used = len([x for x in grid if grid[x] == used_symbol])\n",
    "    # return sum_used + 1\n",
    "    return len(visited)\n"
   ]
  },
  {
   "cell_type": "code",
   "execution_count": null,
   "metadata": {},
   "outputs": [
    {
     "data": {
      "text/plain": [
       "813"
      ]
     },
     "metadata": {},
     "output_type": "display_data"
    }
   ],
   "source": [
    "# def check_for_loop(loc, visited, grid):\n",
    "#     \"\"\"given these 3 variables, can you determine if a loop can be formed?\"\"\"\n",
    "\n"
   ]
  },
  {
   "cell_type": "code",
   "execution_count": null,
   "metadata": {},
   "outputs": [],
   "source": []
  }
 ],
 "metadata": {
  "kernelspec": {
   "display_name": "Python 3",
   "language": "python",
   "name": "python3"
  },
  "language_info": {
   "codemirror_mode": {
    "name": "ipython",
    "version": 3
   },
   "file_extension": ".py",
   "mimetype": "text/x-python",
   "name": "python",
   "nbconvert_exporter": "python",
   "pygments_lexer": "ipython3",
   "version": "3.11.4"
  }
 },
 "nbformat": 4,
 "nbformat_minor": 2
}

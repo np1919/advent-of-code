{
 "cells": [
  {
   "cell_type": "markdown",
   "metadata": {},
   "source": [
    "--- Day 5: Print Queue ---\n",
    "Satisfied with their search on Ceres, the squadron of scholars suggests subsequently scanning the stationery stacks of sub-basement 17.\n",
    "\n",
    "The North Pole printing department is busier than ever this close to Christmas, and while The Historians continue their search of this historically significant facility, an Elf operating a very familiar printer beckons you over.\n",
    "\n",
    "The Elf must recognize you, because they waste no time explaining that the new sleigh launch safety manual updates won't print correctly. Failure to update the safety manuals would be dire indeed, so you offer your services.\n",
    "\n",
    "Safety protocols clearly indicate that new pages for the safety manuals must be printed in a very specific order. The notation X|Y means that if both page number X and page number Y are to be produced as part of an update, page number X must be printed at some point before page number Y.\n",
    "\n",
    "The Elf has for you both the page ordering rules and the pages to produce in each update (your puzzle input), but can't figure out whether each update has the pages in the right order.\n",
    "\n",
    "For example:\n",
    "\n",
    "47|53\n",
    "97|13\n",
    "97|61\n",
    "97|47\n",
    "75|29\n",
    "61|13\n",
    "75|53\n",
    "29|13\n",
    "97|29\n",
    "53|29\n",
    "61|53\n",
    "97|53\n",
    "61|29\n",
    "47|13\n",
    "75|47\n",
    "97|75\n",
    "47|61\n",
    "75|61\n",
    "47|29\n",
    "75|13\n",
    "53|13\n",
    "\n",
    "75,47,61,53,29\n",
    "97,61,53,29,13\n",
    "75,29,13\n",
    "75,97,47,61,53\n",
    "61,13,29\n",
    "97,13,75,29,47\n",
    "The first section specifies the page ordering rules, one per line. The first rule, 47|53, means that if an update includes both page number 47 and page number 53, then page number 47 must be printed at some point before page number 53. (47 doesn't necessarily need to be immediately before 53; other pages are allowed to be between them.)\n",
    "\n",
    "The second section specifies the page numbers of each update. Because most safety manuals are different, the pages needed in the updates are different too. The first update, 75,47,61,53,29, means that the update consists of page numbers 75, 47, 61, 53, and 29.\n",
    "\n",
    "To get the printers going as soon as possible, start by identifying which updates are already in the right order.\n",
    "\n",
    "In the above example, the first update (75,47,61,53,29) is in the right order:\n",
    "\n",
    "75 is correctly first because there are rules that put each other page after it: 75|47, 75|61, 75|53, and 75|29.\n",
    "47 is correctly second because 75 must be before it (75|47) and every other page must be after it according to 47|61, 47|53, and 47|29.\n",
    "61 is correctly in the middle because 75 and 47 are before it (75|61 and 47|61) and 53 and 29 are after it (61|53 and 61|29).\n",
    "53 is correctly fourth because it is before page number 29 (53|29).\n",
    "29 is the only page left and so is correctly last.\n",
    "Because the first update does not include some page numbers, the ordering rules involving those missing page numbers are ignored.\n",
    "\n",
    "The second and third updates are also in the correct order according to the rules. Like the first update, they also do not include every page number, and so only some of the ordering rules apply - within each update, the ordering rules that involve missing page numbers are not used.\n",
    "\n",
    "The fourth update, 75,97,47,61,53, is not in the correct order: it would print 75 before 97, which violates the rule 97|75.\n",
    "\n",
    "The fifth update, 61,13,29, is also not in the correct order, since it breaks the rule 29|13.\n",
    "\n",
    "The last update, 97,13,75,29,47, is not in the correct order due to breaking several rules.\n",
    "\n",
    "For some reason, the Elves also need to know the middle page number of each update being printed. Because you are currently only printing the correctly-ordered updates, you will need to find the middle page number of each correctly-ordered update. In the above example, the correctly-ordered updates are:\n",
    "\n",
    "75,47,61,53,29\n",
    "97,61,53,29,13\n",
    "75,29,13\n",
    "These have middle page numbers of 61, 53, and 29 respectively. Adding these page numbers together gives 143.\n",
    "\n",
    "Of course, you'll need to be careful: the actual list of page ordering rules is bigger and more complicated than the above example.\n",
    "\n",
    "Determine which updates are already in the correct order. What do you get if you add up the middle page number from those correctly-ordered updates?"
   ]
  },
  {
   "cell_type": "code",
   "execution_count": 1,
   "metadata": {},
   "outputs": [],
   "source": [
    "\n",
    "def load_data():\n",
    "\n",
    "    data = dict()\n",
    "\n",
    "    with open('data.txt') as f:\n",
    "        for row in f.readlines():\n",
    "            row = [int(x) for x in row.strip('\\n').split('|')]\n",
    "            if row[0] in data:\n",
    "                data[row[0]].append(row[1])\n",
    "            else:\n",
    "                data[row[0]] = [row[1]]\n",
    "    #return data\n",
    "        # data1 = {int(x[0]):int(x[1]) for x in [ for x in f.readlines()]}\n",
    "    \n",
    "\n",
    "    with open('data2.txt') as f:\n",
    "        data2 = [x.strip('\\n') for x in f.readlines()]\n",
    "        data2 = [[int(g) for g in x.split(',')] for x in data2 if x != \"\"]\n",
    "    return data,data2\n",
    "\n",
    "\n",
    "\n",
    "precedent_map, page_numbers = load_data()\n",
    "\n",
    "\n",
    "# precedent_map = {int(x[0]):int(x[1]) for x in [x.strip('\\n').split('|') for x in \"\"\"47|53\n",
    "# 97|13\n",
    "# 97|61\n",
    "# 97|47\n",
    "# 75|29\n",
    "# 61|13\n",
    "# 75|53\n",
    "# 29|13\n",
    "# 97|29\n",
    "# 53|29\n",
    "# 61|53\n",
    "# 97|53\n",
    "# 61|29\n",
    "# 47|13\n",
    "# 75|47\n",
    "# 97|75\n",
    "# 47|61\n",
    "# 75|61\n",
    "# 47|29\n",
    "# 75|13\n",
    "# 53|13\"\"\".split()]}\n",
    "\n",
    "# page_numbers = [list(eval(x)) for x in \"\"\"75,47,61,53,29\n",
    "# 97,61,53,29,13\n",
    "# 75,29,13\n",
    "# 75,97,47,61,53\n",
    "# 61,13,29\n",
    "# 97,13,75,29,47\"\"\".split()]\n"
   ]
  },
  {
   "cell_type": "code",
   "execution_count": 2,
   "metadata": {},
   "outputs": [],
   "source": [
    "# set 1 is a set of rules: x must precede y, or else the page(integer) is invalid.\n",
    "\n",
    "# set 2 is a set of lists[int], where each integer represents a page number. \n",
    "# each page in the group must be evaluated in sequence, and if any rules are broken, creates an invalid group\n",
    "# find the middle number of all valid groups, and sum them ."
   ]
  },
  {
   "cell_type": "code",
   "execution_count": 3,
   "metadata": {},
   "outputs": [],
   "source": [
    "# precedent_map_mirror = dict()\n",
    "\n",
    "# for x in precedent_map:\n",
    "#     if x in precedent_map_mirror:\n",
    "#         precedent_map_mirror[x].append(x)\n",
    "#     else:\n",
    "#         precedent_map_mirror[x] = [x]\n",
    "# max([len(precedent_map_mirror[y]) for y in precedent_map_mirror])"
   ]
  },
  {
   "cell_type": "code",
   "execution_count": 4,
   "metadata": {},
   "outputs": [],
   "source": [
    "# any([len(x)%2==0 for x in page_numbers])"
   ]
  },
  {
   "cell_type": "code",
   "execution_count": 5,
   "metadata": {},
   "outputs": [],
   "source": [
    "# precedent_map = {int(x[0]):int(x[1]) for x in [x.strip('\\n').split('|') for x in \"\"\"47|53\n",
    "# 97|13\n",
    "# 97|61\n",
    "# 97|47\n",
    "# 75|29\n",
    "# 61|13\n",
    "# 75|53\n",
    "# 29|13\n",
    "# 97|29\n",
    "# 53|29\n",
    "# 61|53\n",
    "# 97|53\n",
    "# 61|29\n",
    "# 47|13\n",
    "# 75|47\n",
    "# 97|75\n",
    "# 47|61\n",
    "# 75|61\n",
    "# 47|29\n",
    "# 75|13\n",
    "# 53|13\"\"\".split()]}\n",
    "\n",
    "# page_numbers = [list(eval(x)) for x in \"\"\"75,47,61,53,29\n",
    "# 97,61,53,29,13\n",
    "# 75,29,13\n",
    "# 75,97,47,61,53\n",
    "# 61,13,29\n",
    "# 97,13,75,29,47\"\"\".split()]\n",
    "\n",
    "\n",
    "# In the above example, the first update (75,47,61,53,29) is in the right order:\n",
    "# 75 is correctly first because there are rules that put each other page after it: 75|47, 75|61, 75|53, and 75|29.\n",
    "# 47 is correctly second because 75 must be before it (75|47) and every other page must be after it according to 47|61, 47|53, and 47|29.\n",
    "# 61 is correctly in the middle because 75 and 47 are before it (75|61 and 47|61) and 53 and 29 are after it (61|53 and 61|29).\n",
    "# 53 is correctly fourth because it is before page number 29 (53|29).\n",
    "# 29 is the only page left and so is correctly last.\n",
    "\n",
    "# Because the first update does not include some page numbers, the ordering rules involving those missing page numbers are ignored.\n",
    "# The second and third updates are also in the correct order according to the rules. \n",
    "# Like the first update, they also do not include every page number, and so only some of the ordering rules apply - \n",
    "# within each update, the ordering rules that involve missing page numbers are not used.\n",
    "\n",
    "\n",
    "\n",
    "# The fourth update, 75,97,47,61,53, is not in the correct order: it would print 75 before 97, which violates the rule 97|75.\n",
    "# The fifth update, 61,13,29, is also not in the correct order, since it breaks the rule 29|13.\n",
    "# The last update, 97,13,75,29,47, is not in the correct order due to breaking several rules."
   ]
  },
  {
   "cell_type": "code",
   "execution_count": 15,
   "metadata": {},
   "outputs": [],
   "source": [
    "def lookup_page(pg_no, precedent_map):\n",
    "    if pg_no in precedent_map:\n",
    "        print(f\"{pg_no} is a key in the precedent map. it must occur before {precedent_map[pg_no]}\")\n",
    "    \n",
    "    if pg_no in precedent_map.values():\n",
    "        print(f\"{pg_no} is a value in the precedent map\")#.{precedent_map[pg_no]}\")\n",
    " "
   ]
  },
  {
   "cell_type": "code",
   "execution_count": 16,
   "metadata": {},
   "outputs": [],
   "source": [
    "# sorted(precedent_map)"
   ]
  },
  {
   "cell_type": "code",
   "execution_count": 17,
   "metadata": {},
   "outputs": [
    {
     "name": "stdout",
     "output_type": "stream",
     "text": [
      "75 is a key in the precedent map. it must occur before [94, 91, 87, 17, 56, 27, 33, 67, 78, 55, 18, 86, 63, 16, 52, 29, 72, 22, 39, 35, 26, 41, 15, 88]\n"
     ]
    }
   ],
   "source": [
    "lookup_page(75, precedent_map)"
   ]
  },
  {
   "cell_type": "code",
   "execution_count": 9,
   "metadata": {},
   "outputs": [],
   "source": [
    "def check_sequence(update:list[int], precedent_map=precedent_map):\n",
    "    \"\"\"return the middle number of the sequence if it is a valid sequence\"\"\"\n",
    "    # print(update)\n",
    "    for idx, page in enumerate(update):\n",
    "        if page in precedent_map:\n",
    "            # print(page, update, precedent_map[page])\n",
    "            for ele in precedent_map[page]:\n",
    "                if ele in update[:idx]:\n",
    "                    # print(f'{ele} is in {update[:idx]}, but must be subsequent to {page}')\n",
    "                    return False\n",
    "\n",
    "    if len(update) % 2 != 0:\n",
    "        return update[int(len(update)//2)]      \n",
    "\n",
    "# The fourth update, 75,97,47,61,53, is not in the correct order: it would print 75 before 97, which violates the rule 97|75.\n",
    "# The fifth update, 61,13,29, is also not in the correct order, since it breaks the rule 29|13.\n",
    "# The last update, 97,13,75,29,47, is not in the correct order due to breaking several rules.\n"
   ]
  },
  {
   "cell_type": "code",
   "execution_count": 10,
   "metadata": {},
   "outputs": [],
   "source": [
    "sums = 0\n",
    "for x in page_numbers:\n",
    "    sums += check_sequence(x)"
   ]
  },
  {
   "cell_type": "code",
   "execution_count": 11,
   "metadata": {},
   "outputs": [
    {
     "data": {
      "text/plain": [
       "5713"
      ]
     },
     "execution_count": 11,
     "metadata": {},
     "output_type": "execute_result"
    }
   ],
   "source": [
    "sums # 6920 is too high.\n",
    "# 5713 is the correct answer"
   ]
  },
  {
   "cell_type": "markdown",
   "metadata": {},
   "source": [
    "--- Part Two ---\n",
    "While the Elves get to work printing the correctly-ordered updates, you have a little time to fix the rest of them.\n",
    "\n",
    "For each of the incorrectly-ordered updates, use the page ordering rules to put the page numbers in the right order. For the above example, here are the three incorrectly-ordered updates and their correct orderings:\n",
    "\n",
    "75,97,47,61,53 becomes 97,75,47,61,53.\n",
    "61,13,29 becomes 61,29,13.\n",
    "97,13,75,29,47 becomes 97,75,47,29,13.\n",
    "After taking only the incorrectly-ordered updates and ordering them correctly, their middle page numbers are 47, 29, and 47. Adding these together produces 123.\n",
    "\n",
    "Find the updates which are not in the correct order. What do you get if you add up the middle page numbers after correctly ordering just those updates?"
   ]
  },
  {
   "cell_type": "code",
   "execution_count": 51,
   "metadata": {},
   "outputs": [
    {
     "name": "stdout",
     "output_type": "stream",
     "text": [
      "[49, 85, 73, 74, 96, 32, 76, 58, 95, 57, 13, 93, 14, 99, 56, 47, 75]\n"
     ]
    }
   ],
   "source": [
    "precedent_map, page_numbers = load_data()\n",
    "test = page_numbers[0]\n",
    "print(test)"
   ]
  },
  {
   "cell_type": "code",
   "execution_count": 29,
   "metadata": {},
   "outputs": [],
   "source": [
    "#[(x,precedent_map[x]) for x in test if x in precedent_map]"
   ]
  },
  {
   "cell_type": "code",
   "execution_count": 28,
   "metadata": {},
   "outputs": [
    {
     "data": {
      "text/plain": [
       "False"
      ]
     },
     "execution_count": 28,
     "metadata": {},
     "output_type": "execute_result"
    }
   ],
   "source": [
    "# while not check_sequence(test):\n",
    "\n",
    "# if you bump to front or end it might be bad. bump right behind the element.\n",
    "\n"
   ]
  },
  {
   "cell_type": "code",
   "execution_count": 70,
   "metadata": {},
   "outputs": [
    {
     "name": "stdout",
     "output_type": "stream",
     "text": [
      "[49, 85, 73, 74, 96, 32, 76, 58, 95, 57, 13, 93, 14, 99, 56, 47, 75]\n"
     ]
    }
   ],
   "source": [
    "precedent_map, page_numbers = load_data()\n",
    "test = page_numbers[0]\n",
    "print(test)"
   ]
  },
  {
   "cell_type": "code",
   "execution_count": 81,
   "metadata": {},
   "outputs": [],
   "source": [
    "def reorder_elements(update:list, precedent_map:dict=precedent_map):\n",
    "    # look up all elements with constraints\n",
    "    # place them into an order which works. but how to ensure it will work?\n",
    "    # this feels like a graph problem.\n",
    "    while check_sequence(update) == False:\n",
    "        for idx, page in enumerate(update):\n",
    "            if page in precedent_map:\n",
    "                # print(page, update, precedent_map[page])\n",
    "                for ele in precedent_map[page]:\n",
    "                    if ele in update[:idx]:\n",
    "                        # print(f'{ele} is in {update[:idx]}, but must be subsequent to {page}')\n",
    "                        update.insert(update.index(ele), update.pop(idx))\n",
    "                        break\n",
    "                # return update\n",
    "\n",
    "    #if len(update) % 2 != 0:\n",
    "    return update[int(len(update)//2)]    "
   ]
  },
  {
   "cell_type": "code",
   "execution_count": 82,
   "metadata": {},
   "outputs": [
    {
     "name": "stdout",
     "output_type": "stream",
     "text": [
      "[49, 85, 73, 74, 96, 32, 76, 58, 95, 57, 13, 93, 14, 99, 56, 47, 75]\n"
     ]
    }
   ],
   "source": [
    "precedent_map, page_numbers = load_data()\n",
    "test = page_numbers[0]\n",
    "print(test)"
   ]
  },
  {
   "cell_type": "code",
   "execution_count": 83,
   "metadata": {},
   "outputs": [
    {
     "data": {
      "text/plain": [
       "False"
      ]
     },
     "execution_count": 83,
     "metadata": {},
     "output_type": "execute_result"
    }
   ],
   "source": [
    "check_sequence(test)"
   ]
  },
  {
   "cell_type": "code",
   "execution_count": 84,
   "metadata": {},
   "outputs": [
    {
     "data": {
      "text/plain": [
       "14"
      ]
     },
     "execution_count": 84,
     "metadata": {},
     "output_type": "execute_result"
    }
   ],
   "source": [
    "reorder_elements(test)"
   ]
  },
  {
   "cell_type": "code",
   "execution_count": 85,
   "metadata": {},
   "outputs": [
    {
     "name": "stdout",
     "output_type": "stream",
     "text": [
      "[73, 57, 93, 95, 85, 32, 58, 13, 14, 99, 76, 74, 47, 96, 49, 75, 56]\n"
     ]
    },
    {
     "data": {
      "text/plain": [
       "14"
      ]
     },
     "execution_count": 85,
     "metadata": {},
     "output_type": "execute_result"
    }
   ],
   "source": [
    "print(test)\n",
    "check_sequence(test) \n"
   ]
  },
  {
   "cell_type": "code",
   "execution_count": 86,
   "metadata": {},
   "outputs": [],
   "source": [
    "# find only the updates which are not in the right order...\n",
    "precedent_map, page_numbers = load_data()\n",
    "\n",
    "wrong_answers_only = []\n",
    "for x in page_numbers:\n",
    "    if check_sequence(x) == False:\n",
    "        wrong_answers_only.append(x)"
   ]
  },
  {
   "cell_type": "code",
   "execution_count": null,
   "metadata": {},
   "outputs": [],
   "source": []
  },
  {
   "cell_type": "code",
   "execution_count": 87,
   "metadata": {},
   "outputs": [],
   "source": [
    "sums = 0\n",
    "for x in wrong_answers_only:\n",
    "    sums += reorder_elements(x)"
   ]
  },
  {
   "cell_type": "code",
   "execution_count": 88,
   "metadata": {},
   "outputs": [
    {
     "data": {
      "text/plain": [
       "5180"
      ]
     },
     "execution_count": 88,
     "metadata": {},
     "output_type": "execute_result"
    }
   ],
   "source": [
    "sums # 5180 is the correct answer"
   ]
  },
  {
   "cell_type": "code",
   "execution_count": null,
   "metadata": {},
   "outputs": [],
   "source": []
  }
 ],
 "metadata": {
  "kernelspec": {
   "display_name": "Python 3",
   "language": "python",
   "name": "python3"
  },
  "language_info": {
   "codemirror_mode": {
    "name": "ipython",
    "version": 3
   },
   "file_extension": ".py",
   "mimetype": "text/x-python",
   "name": "python",
   "nbconvert_exporter": "python",
   "pygments_lexer": "ipython3",
   "version": "3.11.4"
  }
 },
 "nbformat": 4,
 "nbformat_minor": 2
}

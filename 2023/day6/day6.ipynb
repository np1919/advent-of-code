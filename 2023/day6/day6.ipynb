{
 "cells": [
  {
   "cell_type": "code",
   "execution_count": 25,
   "metadata": {},
   "outputs": [],
   "source": [
    "puzzle_input = {\"Time\":       [ 46,     85,     75,     82],\n",
    "\"Distance\":   [208,   1412,   1257,   1410]}\n",
    "\n",
    "races = list(zip(puzzle_input['Time'], puzzle_input['Distance']))"
   ]
  },
  {
   "cell_type": "code",
   "execution_count": 26,
   "metadata": {},
   "outputs": [
    {
     "data": {
      "text/plain": [
       "[(46, 208), (85, 1412), (75, 1257), (82, 1410)]"
      ]
     },
     "execution_count": 26,
     "metadata": {},
     "output_type": "execute_result"
    }
   ],
   "source": [
    "races\n",
    "\n",
    "# the boat will increase in speed by 1 millimeter/millisecond for each millisecond spent charging\n",
    "\n",
    "# how many ways can you beat the existing record? "
   ]
  },
  {
   "cell_type": "code",
   "execution_count": 27,
   "metadata": {},
   "outputs": [],
   "source": [
    "# races = [(7,9), (15,40), (30,200)]"
   ]
  },
  {
   "cell_type": "code",
   "execution_count": 28,
   "metadata": {},
   "outputs": [],
   "source": [
    "\n",
    "def calculate_winning_options(race):\n",
    "    time,record = race \n",
    "\n",
    "    output = []\n",
    "\n",
    "    for i in range(time+1):\n",
    "        charge = i\n",
    "        remaining_time = time-i\n",
    "        traveled = remaining_time * charge\n",
    "\n",
    "        if traveled > record:\n",
    "            # print(record)\n",
    "            output.append((i, traveled)) #charge time, distance traveled\n",
    "    return output"
   ]
  },
  {
   "cell_type": "code",
   "execution_count": 29,
   "metadata": {},
   "outputs": [],
   "source": [
    "from math import prod\n",
    "num_options = []\n",
    "for race in races:\n",
    "    num_options.append(len(calculate_winning_options(race)))"
   ]
  },
  {
   "cell_type": "code",
   "execution_count": 31,
   "metadata": {},
   "outputs": [
    {
     "data": {
      "text/plain": [
       "1108800"
      ]
     },
     "execution_count": 31,
     "metadata": {},
     "output_type": "execute_result"
    }
   ],
   "source": [
    "prod(num_options)\n",
    "#1108800"
   ]
  },
  {
   "cell_type": "markdown",
   "metadata": {},
   "source": [
    "### day 6 part 2"
   ]
  },
  {
   "cell_type": "code",
   "execution_count": 36,
   "metadata": {},
   "outputs": [],
   "source": [
    "race = [46857582,208141212571410] # could break this in half, since it follows a predictable pattern? or even more ?"
   ]
  },
  {
   "cell_type": "code",
   "execution_count": 38,
   "metadata": {},
   "outputs": [
    {
     "data": {
      "text/plain": [
       "36919753"
      ]
     },
     "execution_count": 38,
     "metadata": {},
     "output_type": "execute_result"
    }
   ],
   "source": [
    "\n",
    "len(calculate_winning_options(race))\n",
    "#36919753"
   ]
  }
 ],
 "metadata": {
  "kernelspec": {
   "display_name": "Python 3",
   "language": "python",
   "name": "python3"
  },
  "language_info": {
   "codemirror_mode": {
    "name": "ipython",
    "version": 3
   },
   "file_extension": ".py",
   "mimetype": "text/x-python",
   "name": "python",
   "nbconvert_exporter": "python",
   "pygments_lexer": "ipython3",
   "version": "3.11.4"
  }
 },
 "nbformat": 4,
 "nbformat_minor": 2
}

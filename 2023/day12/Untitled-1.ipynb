{
 "cells": [
  {
   "cell_type": "code",
   "execution_count": 169,
   "metadata": {},
   "outputs": [],
   "source": [
    "import math\n",
    "\n",
    "\n",
    "def subprodlessthank(nums:list, k):\n",
    "    '''number of continuous subarrays such that the product of all the elements is strictly less than K\n",
    "    \n",
    "    all elements will be positive'''\n",
    "\n",
    "\n",
    "    # how many continuous subarrays? (O) N*N worst case\n",
    "    # n--> > k * n\n",
    "\n",
    "    assert all([x>0 for x in nums])\n",
    "    #assert all([k>n for n in nums])\n",
    "    output = []\n",
    "\n",
    "    for idx, element in enumerate(nums):\n",
    "\n",
    "        product = element\n",
    "        idx_diff = 0\n",
    "        while product < k:\n",
    "            idx_diff += 1\n",
    "            try:\n",
    "                product = product*nums[idx+idx_diff]\n",
    "                output.append(nums[idx:idx+idx_diff])\n",
    "            except IndexError:\n",
    "                break\n",
    "        \n",
    "    return output"
   ]
  },
  {
   "cell_type": "code",
   "execution_count": 170,
   "metadata": {},
   "outputs": [
    {
     "data": {
      "text/plain": [
       "[[2], [2, 4], [4], [6], [8], [10]]"
      ]
     },
     "execution_count": 170,
     "metadata": {},
     "output_type": "execute_result"
    }
   ],
   "source": [
    "\n",
    "subprodlessthank([2,4,6,8,10,25], 20) # --> [[2], [2,4],]"
   ]
  },
  {
   "cell_type": "code",
   "execution_count": 171,
   "metadata": {},
   "outputs": [
    {
     "data": {
      "text/plain": [
       "[[10], [10, 5], [5], [5, 2], [2]]"
      ]
     },
     "execution_count": 171,
     "metadata": {},
     "output_type": "execute_result"
    }
   ],
   "source": [
    "subprodlessthank([10,5,2,6], 100) # --> [[2], [2,4],]"
   ]
  },
  {
   "cell_type": "code",
   "execution_count": 208,
   "metadata": {},
   "outputs": [],
   "source": [
    "import math\n",
    "\n",
    "\n",
    "def subprodlessthank(nums:list, k):\n",
    "    '''number of continuous subarrays such that the product of all the elements is strictly less than K\n",
    "    \n",
    "    all elements will be positive'''\n",
    "    output = 0\n",
    "    l = 0\n",
    "    product = 1\n",
    "    for r, _ in enumerate(nums):\n",
    "        product *= nums[r]\n",
    "        while l <= r and  product >= k:\n",
    "            #nums[l]\n",
    "            product = product // nums[l]\n",
    "            l += 1\n",
    "        output += (r - l + 1)\n",
    "        # print(left_pointer, right_pointer)\n",
    "        # substring = nums[left_pointer:right_pointer]\n",
    "        # # print(substring)\n",
    "        # # print(math.prod(substring))\n",
    "\n",
    "        # if math.prod(substring) < k:\n",
    "        #     output.append(substring)\n",
    "        # else:\n",
    "        #     while len(substring) < 0:\n",
    "        #         substring.pop(0)\n",
    "        #         print('hello')\n",
    "        #         output.append(substring)\n",
    "        #     # for i in range(left_pointer, right_pointer):\n",
    "        #     #     output.append(substring[i+1:right_pointer])\n",
    "        #     left_pointer += 1\n",
    "\n",
    "\n",
    "\n",
    "        \n",
    "    return output"
   ]
  },
  {
   "cell_type": "code",
   "execution_count": 209,
   "metadata": {},
   "outputs": [
    {
     "data": {
      "text/plain": [
       "8"
      ]
     },
     "execution_count": 209,
     "metadata": {},
     "output_type": "execute_result"
    }
   ],
   "source": [
    "subprodlessthank([10,5,2,6], 100) # --> [[2], [2,4],]"
   ]
  },
  {
   "cell_type": "code",
   "execution_count": null,
   "metadata": {},
   "outputs": [],
   "source": []
  }
 ],
 "metadata": {
  "kernelspec": {
   "display_name": "Python 3",
   "language": "python",
   "name": "python3"
  },
  "language_info": {
   "codemirror_mode": {
    "name": "ipython",
    "version": 3
   },
   "file_extension": ".py",
   "mimetype": "text/x-python",
   "name": "python",
   "nbconvert_exporter": "python",
   "pygments_lexer": "ipython3",
   "version": "3.11.4"
  }
 },
 "nbformat": 4,
 "nbformat_minor": 2
}

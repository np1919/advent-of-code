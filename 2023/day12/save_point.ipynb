{
 "cells": [
  {
   "cell_type": "code",
   "execution_count": 1,
   "metadata": {},
   "outputs": [
    {
     "data": {
      "text/plain": [
       "1"
      ]
     },
     "execution_count": 1,
     "metadata": {},
     "output_type": "execute_result"
    }
   ],
   "source": [
    "from itertools import permutations, product\n",
    "# len(set(permutations(\"?###????????\")))\n",
    "from collections import Counter\n",
    "\n",
    "len(set(permutations(\"???????\")))\n"
   ]
  },
  {
   "cell_type": "code",
   "execution_count": 2,
   "metadata": {},
   "outputs": [],
   "source": [
    "from collections import defaultdict\n",
    "def return_combinations(string, integer_values, output=defaultdict(set)):\n",
    "\n",
    "    # base cases: string, integer_values are gone\n",
    "    if len(string) == 0 and len(integer_values)==0:\n",
    "        return [\"\"] # maybe its integer 3, 4, or 5 -- you finished gracefully.\n",
    "    elif (len(integer_values) == 0) or len(string) == 0:\n",
    "        return []\n",
    "\n",
    "\n",
    "\n",
    "\n",
    "    # otherwise, we're going to be adding the recursive calls to a list and returning the possibles back up the chain.\n",
    "    #output = dict()\n",
    "    current_value = integer_values.pop(0) # leave the original in place to dive into the tree\n",
    "    requisite_suffix_length = len(integer_values) + sum(integer_values)\n",
    "    #substring = string[:len(string)-requisite_suffix_length]\n",
    "    # print(f\"for the string {string} and the integer {current_value}, {requisite_suffix_length} values are reserved from the end leaving {substring}\")\n",
    "    # print(string[-requisite_suffix_length:])\n",
    "    \n",
    "    # if it beats the base case, it should have a separator as a suffix = '.'\n",
    "\n",
    "\n",
    "    # for every possible substring\n",
    "        # which meets these requirements (is winning...)\n",
    "            # there is a remainder. \n",
    "            # call recursively on the remainder (see which one of those branches reaches an appropriate base case -- the list and string run out at the same time)\n",
    "            # for each recursive call which returns a list of strings\n",
    "            # append the prefix to that string. When you've iterated through all \n",
    "\n",
    "\n",
    "    for idx, _ in enumerate(string): # limit the remaining indices?\n",
    "        substring = string[:idx]\n",
    "        # print(substring)\n",
    "        ### finding a winner ### \n",
    "        mutable_indices = [idx for idx, _ in enumerate(substring) if _ == '?' and idx <= len(substring)]  # only change the values which can be changed; and only look for combinations which have at least as many '#' as we need\n",
    "        all_combos = set(permutations('#'*current_value+'.'*len(mutable_indices), len(mutable_indices))) # you could count existing '#'? \n",
    "        # all_combos = # print(all_combos)\n",
    "        for values_tuple in all_combos:\n",
    "            newstring = list(substring[:])\n",
    "            values_list = list(values_tuple) \n",
    "            #assert len(values_tuple)==len(mutable_indices)\n",
    "            # impute the new valus as defined by all_combos -- \n",
    "            for idx, val in zip(mutable_indices, values_list):\n",
    "                newstring[idx] = val\n",
    "\n",
    "            newstring = \"\".join(newstring).replace('?','.')\n",
    "            if Counter(newstring)['#'] == current_value and '#'*current_value in newstring and len(newstring) <= len(string) - requisite_suffix_length:\n",
    "                if newstring[-1] == '.':\n",
    "                    output[len(integer_values)].add(\"\".join(newstring))\n",
    "                elif len(integer_values) == 0:\n",
    "                        output[len(integer_values)].add(\"\".join(newstring))\n",
    "\n",
    "        return_combinations(string[idx:], integer_values[:])\n",
    "        # output[len(integer_values)].append(combinations)\n",
    "\n",
    "\n",
    "\n",
    "        # for sofar_sogood in combinations:\n",
    "            \n",
    "\n",
    "        \n",
    "\n",
    "        # eliminate any combinations which don't match the pattern\n",
    "        # combinations = [x.replace('?','.') for x in combinations if (Counter(x)['#']==current_value) and ('#' * current_value in x)]\n",
    "        # output.append(combinations)\n",
    "        # for x in return_combinations()\n",
    "    return output\n",
    "\n",
    "# output = return_combinations(\n",
    "# output\n",
    "\n",
    "def all_combinations(string, list_of_integers):\n",
    "    output = return_combinations(string, list_of_integers)\n",
    "    for x in output:\n",
    "        output[x] = list(output[x])\n",
    "        reversed_keys = sorted(output.keys())[::-1]\n",
    "\n",
    "        lists = [list(output[x]) for x in reversed_keys]\n",
    "\n",
    "        return set(\"\".join(x) for x in product(*lists) if len(\"\".join(x))==len(string))\n",
    "    \n",
    "output = all_combinations('?###????????', [3,2,1])"
   ]
  },
  {
   "cell_type": "code",
   "execution_count": 3,
   "metadata": {},
   "outputs": [
    {
     "data": {
      "text/plain": [
       "{'.###.##.#...',\n",
       " '.###.##..#..',\n",
       " '.###.##...#.',\n",
       " '.###.##....#',\n",
       " '.###..##.#..',\n",
       " '.###..##..#.',\n",
       " '.###..##...#',\n",
       " '.###...##.#.',\n",
       " '.###...##..#',\n",
       " '.###....##.#'}"
      ]
     },
     "execution_count": 3,
     "metadata": {},
     "output_type": "execute_result"
    }
   ],
   "source": [
    "output"
   ]
  },
  {
   "cell_type": "code",
   "execution_count": 182,
   "metadata": {},
   "outputs": [
    {
     "data": {
      "text/plain": [
       "{'.###.##.#...',\n",
       " '.###.##..#..',\n",
       " '.###.##...#.',\n",
       " '.###.##....#',\n",
       " '.###..##.#..',\n",
       " '.###..##..#.',\n",
       " '.###..##...#',\n",
       " '.###...##.#.',\n",
       " '.###...##..#',\n",
       " '.###....##.#'}"
      ]
     },
     "execution_count": 182,
     "metadata": {},
     "output_type": "execute_result"
    }
   ],
   "source": [
    "for x in output:\n",
    "    output[x] = list(output[x])\n",
    "reversed_keys = sorted(output.keys())[::-1]\n",
    "\n",
    "lists = [list(output[x]) for x in reversed_keys]\n",
    "\n",
    "set(\"\".join(x) for x in product(*lists) if len(\"\".join(x))==12)\n"
   ]
  },
  {
   "cell_type": "code",
   "execution_count": 175,
   "metadata": {},
   "outputs": [],
   "source": [
    "\n",
    "valids = [x + y + z for x in output[2] for y in output[1] for z in output[0]]"
   ]
  },
  {
   "cell_type": "code",
   "execution_count": 176,
   "metadata": {},
   "outputs": [
    {
     "data": {
      "text/plain": [
       "{'.###.##.#...',\n",
       " '.###.##..#..',\n",
       " '.###.##...#.',\n",
       " '.###.##....#',\n",
       " '.###..##.#..',\n",
       " '.###..##..#.',\n",
       " '.###..##...#',\n",
       " '.###...##.#.',\n",
       " '.###...##..#',\n",
       " '.###....##.#'}"
      ]
     },
     "execution_count": 176,
     "metadata": {},
     "output_type": "execute_result"
    }
   ],
   "source": [
    "set([x for x in valids if len(x) == len(string)])"
   ]
  },
  {
   "cell_type": "code",
   "execution_count": 132,
   "metadata": {},
   "outputs": [
    {
     "data": {
      "text/plain": [
       "defaultdict(set,\n",
       "            {0: {'#',\n",
       "              '#.',\n",
       "              '#..',\n",
       "              '#...',\n",
       "              '#....',\n",
       "              '#.....',\n",
       "              '.#',\n",
       "              '.#.',\n",
       "              '.#..',\n",
       "              '.#...',\n",
       "              '.#....',\n",
       "              '..#',\n",
       "              '..#.',\n",
       "              '..#..',\n",
       "              '..#...',\n",
       "              '...#',\n",
       "              '...#.',\n",
       "              '...#..',\n",
       "              '....#',\n",
       "              '....#.',\n",
       "              '.....#'},\n",
       "             1: {'##',\n",
       "              '##.',\n",
       "              '##..',\n",
       "              '##...',\n",
       "              '.##',\n",
       "              '.##.',\n",
       "              '.##..',\n",
       "              '..##',\n",
       "              '..##.',\n",
       "              '...##'},\n",
       "             2: {'###', '.###', '.###.', '.###..'}})"
      ]
     },
     "execution_count": 132,
     "metadata": {},
     "output_type": "execute_result"
    }
   ],
   "source": [
    "\n",
    "output = return_combinations('?###???????', [3,2,1])"
   ]
  },
  {
   "cell_type": "code",
   "execution_count": null,
   "metadata": {},
   "outputs": [],
   "source": [
    "string = \"???????\"\n",
    "values_list = [2,1]\n",
    "\n",
    "#for level in values_list:\n",
    "    \n",
    "for branch in return_combinations(string, 2):\n",
    "    if branch[0] == '.':\n",
    "        print(branch)\n",
    "\n",
    "\n",
    "        end_group = branch.rindex('#')\n",
    "        # print(end_group)\n",
    "        for leaf in return_combinations(string[end_group:], 1):\n",
    "            #print(leaf)\n",
    "            if len(branch+leaf) == len(string):\n",
    "                print(branch+leaf)\n",
    "        \n",
    "    # short_index = \n",
    "    # return_combinations(branch[branch.rindex('#'+1):], 1)"
   ]
  },
  {
   "cell_type": "code",
   "execution_count": 60,
   "metadata": {},
   "outputs": [
    {
     "name": "stdout",
     "output_type": "stream",
     "text": [
      ".###........\n",
      ".###........\n",
      ".###........\n"
     ]
    }
   ],
   "source": [
    "string = \"?###????????\"\n",
    "values_list = 3,[2,1]\n",
    "\n",
    "#for level in values_list:\n",
    "    \n",
    "for branch in return_combinations(string, 2):\n",
    "    if branch[0] == '.':\n",
    "        print(branch)\n",
    "\n",
    "\n",
    "        end_group = branch.rindex('#')\n",
    "        # print(end_group)\n",
    "        for leaf in return_combinations(string[end_group:], 1):\n",
    "            #print(leaf)\n",
    "            if len(branch+leaf) == len(string):\n",
    "                print(branch+leaf)\n",
    "        \n",
    "    # short_index = \n",
    "    # return_combinations(branch[branch.rindex('#'+1):], 1)"
   ]
  },
  {
   "cell_type": "code",
   "execution_count": 55,
   "metadata": {},
   "outputs": [
    {
     "ename": "TypeError",
     "evalue": "object of type 'int' has no len()",
     "output_type": "error",
     "traceback": [
      "\u001b[1;31m---------------------------------------------------------------------------\u001b[0m",
      "\u001b[1;31mTypeError\u001b[0m                                 Traceback (most recent call last)",
      "Cell \u001b[1;32mIn[55], line 28\u001b[0m\n\u001b[0;32m     25\u001b[0m     combinations \u001b[38;5;241m=\u001b[39m [x\u001b[38;5;241m.\u001b[39mreplace(\u001b[38;5;124m'\u001b[39m\u001b[38;5;124m?\u001b[39m\u001b[38;5;124m'\u001b[39m,\u001b[38;5;124m'\u001b[39m\u001b[38;5;124m.\u001b[39m\u001b[38;5;124m'\u001b[39m) \u001b[38;5;28;01mfor\u001b[39;00m x \u001b[38;5;129;01min\u001b[39;00m combinations \u001b[38;5;28;01mif\u001b[39;00m (Counter(x)[\u001b[38;5;124m'\u001b[39m\u001b[38;5;124m#\u001b[39m\u001b[38;5;124m'\u001b[39m]\u001b[38;5;241m==\u001b[39mcurrent_value) \u001b[38;5;129;01mand\u001b[39;00m (\u001b[38;5;124m'\u001b[39m\u001b[38;5;124m#\u001b[39m\u001b[38;5;124m'\u001b[39m \u001b[38;5;241m*\u001b[39m current_value \u001b[38;5;129;01min\u001b[39;00m x)]\n\u001b[0;32m     26\u001b[0m     \u001b[38;5;28;01mreturn\u001b[39;00m combinations\n\u001b[1;32m---> 28\u001b[0m \u001b[43mreturn_combinations\u001b[49m\u001b[43m(\u001b[49m\u001b[38;5;124;43m'\u001b[39;49m\u001b[38;5;124;43m?###\u001b[39;49m\u001b[38;5;124;43m'\u001b[39;49m\u001b[43m,\u001b[49m\u001b[43m \u001b[49m\u001b[38;5;241;43m3\u001b[39;49m\u001b[43m)\u001b[49m\n",
      "Cell \u001b[1;32mIn[55], line 3\u001b[0m, in \u001b[0;36mreturn_combinations\u001b[1;34m(string, integer_map)\u001b[0m\n\u001b[0;32m      1\u001b[0m \u001b[38;5;28;01mdef\u001b[39;00m \u001b[38;5;21mreturn_combinations\u001b[39m(string, integer_map):\n\u001b[1;32m----> 3\u001b[0m     \u001b[38;5;28;01mif\u001b[39;00m \u001b[38;5;28;43mlen\u001b[39;49m\u001b[43m(\u001b[49m\u001b[43minteger_map\u001b[49m\u001b[43m)\u001b[49m \u001b[38;5;241m==\u001b[39m \u001b[38;5;241m0\u001b[39m \u001b[38;5;129;01mand\u001b[39;00m \u001b[38;5;28mlen\u001b[39m(string) \u001b[38;5;241m==\u001b[39m \u001b[38;5;241m0\u001b[39m:\n\u001b[0;32m      4\u001b[0m         \u001b[38;5;28;01mreturn\u001b[39;00m []\n\u001b[0;32m      6\u001b[0m     \u001b[38;5;28;01massert\u001b[39;00m \u001b[38;5;28mlen\u001b[39m(string) \u001b[38;5;241m>\u001b[39m \u001b[38;5;241m0\u001b[39m\n",
      "\u001b[1;31mTypeError\u001b[0m: object of type 'int' has no len()"
     ]
    }
   ],
   "source": [
    "\n",
    "def return_combinations(string, integer_map):\n",
    "\n",
    "    if len(integer_map) == 0 and len(string) == 0:\n",
    "        return []\n",
    "\n",
    "    assert len(string) > 0\n",
    "\n",
    "    mutable_indices = [idx for idx, _ in enumerate(string) if _ == '?']\n",
    "\n",
    "    for current_value in integer_map:\n",
    "        local_combinations = []\n",
    "        all_combos = set(permutations('#'*current_value+'.'*len(mutable_indices), len(mutable_indices)))\n",
    "        \n",
    "        combinations =[]\n",
    "        for values_tuple in all_combos:\n",
    "            # for all possible values of substring...\n",
    "            newstring = list(string[:])\n",
    "            values_list = list(values_tuple) \n",
    "            assert len(values_tuple)==len(mutable_indices)\n",
    "            for idx, val in zip(mutable_indices, values_list):\n",
    "                newstring[idx] = val\n",
    "            local_combinations.append(\"\".join(newstring))\n",
    "\n",
    "        combinations.append(local_combinations)\n",
    "    combinations = [x.replace('?','.') for x in combinations if (Counter(x)['#']==current_value) and ('#' * current_value in x)]\n",
    "    return combinations\n",
    "\n",
    "return_combinations('?###', 3)"
   ]
  },
  {
   "cell_type": "code",
   "execution_count": null,
   "metadata": {},
   "outputs": [],
   "source": []
  },
  {
   "cell_type": "code",
   "execution_count": 53,
   "metadata": {},
   "outputs": [
    {
     "name": "stdout",
     "output_type": "stream",
     "text": [
      ".##....\n",
      ".....##\n",
      "..##...\n",
      "...##..\n",
      "....##.\n"
     ]
    }
   ],
   "source": [
    "string = \"???????\"\n",
    "values_list = [2,1]\n",
    "\n",
    "#for level in values_list:\n",
    "    \n",
    "for branch in return_combinations(string, 2):\n",
    "    if branch[0] == '.':\n",
    "        print(branch)\n",
    "\n",
    "\n",
    "        end_group = branch.rindex('#')\n",
    "        # print(end_group)\n",
    "        for leaf in return_combinations(string[end_group:], 1):\n",
    "            #print(leaf)\n",
    "            if len(branch+leaf) == len(string):\n",
    "                print(branch+leaf)\n",
    "        \n",
    "    # short_index = \n",
    "    # return_combinations(branch[branch.rindex('#'+1):], 1)"
   ]
  },
  {
   "cell_type": "code",
   "execution_count": 11,
   "metadata": {},
   "outputs": [
    {
     "data": {
      "text/plain": [
       "[0, 1, 2, 3, 4, 5, 6]"
      ]
     },
     "execution_count": 11,
     "metadata": {},
     "output_type": "execute_result"
    }
   ],
   "source": [
    "\n",
    "string = \"???????\"\n",
    "current_value = 2\n",
    "mutable_indices = [idx for idx, _ in enumerate(string) if _ == '?']\n",
    "mutable_indices\n",
    "\n"
   ]
  },
  {
   "cell_type": "code",
   "execution_count": 19,
   "metadata": {},
   "outputs": [
    {
     "data": {
      "text/plain": [
       "{('#', '#', '.', '.', '.', '.', '.'),\n",
       " ('#', '.', '#', '.', '.', '.', '.'),\n",
       " ('#', '.', '.', '#', '.', '.', '.'),\n",
       " ('#', '.', '.', '.', '#', '.', '.'),\n",
       " ('#', '.', '.', '.', '.', '#', '.'),\n",
       " ('#', '.', '.', '.', '.', '.', '#'),\n",
       " ('#', '.', '.', '.', '.', '.', '.'),\n",
       " ('.', '#', '#', '.', '.', '.', '.'),\n",
       " ('.', '#', '.', '#', '.', '.', '.'),\n",
       " ('.', '#', '.', '.', '#', '.', '.'),\n",
       " ('.', '#', '.', '.', '.', '#', '.'),\n",
       " ('.', '#', '.', '.', '.', '.', '#'),\n",
       " ('.', '#', '.', '.', '.', '.', '.'),\n",
       " ('.', '.', '#', '#', '.', '.', '.'),\n",
       " ('.', '.', '#', '.', '#', '.', '.'),\n",
       " ('.', '.', '#', '.', '.', '#', '.'),\n",
       " ('.', '.', '#', '.', '.', '.', '#'),\n",
       " ('.', '.', '#', '.', '.', '.', '.'),\n",
       " ('.', '.', '.', '#', '#', '.', '.'),\n",
       " ('.', '.', '.', '#', '.', '#', '.'),\n",
       " ('.', '.', '.', '#', '.', '.', '#'),\n",
       " ('.', '.', '.', '#', '.', '.', '.'),\n",
       " ('.', '.', '.', '.', '#', '#', '.'),\n",
       " ('.', '.', '.', '.', '#', '.', '#'),\n",
       " ('.', '.', '.', '.', '#', '.', '.'),\n",
       " ('.', '.', '.', '.', '.', '#', '#'),\n",
       " ('.', '.', '.', '.', '.', '#', '.'),\n",
       " ('.', '.', '.', '.', '.', '.', '#'),\n",
       " ('.', '.', '.', '.', '.', '.', '.')}"
      ]
     },
     "execution_count": 19,
     "metadata": {},
     "output_type": "execute_result"
    }
   ],
   "source": [
    "\n",
    "all_combos = set(permutations('#'*current_value+'.'*len(mutable_indices), len(mutable_indices)))\n",
    "all_combos # to replace the values in the actual string...\n"
   ]
  },
  {
   "cell_type": "code",
   "execution_count": 20,
   "metadata": {},
   "outputs": [
    {
     "data": {
      "text/plain": [
       "['.##....', '##.....', '..##...', '...##..', '....##.']"
      ]
     },
     "execution_count": 20,
     "metadata": {},
     "output_type": "execute_result"
    }
   ],
   "source": [
    "for x in all_combos:\n",
    "    x = \"\".join(x)\n",
    "    \n",
    "[\"\".join(x) for x in all_combos if (Counter(x)['#']==current_value) and ('#' * current_value in \"\".join(x)) and (x[-1] == '.')]"
   ]
  },
  {
   "cell_type": "code",
   "execution_count": 9,
   "metadata": {},
   "outputs": [
    {
     "data": {
      "text/plain": [
       "['.###.']"
      ]
     },
     "execution_count": 9,
     "metadata": {},
     "output_type": "execute_result"
    }
   ],
   "source": [
    "combinations =[]\n",
    "\n",
    "for values_tuple in all_combos:\n",
    "    newstring = list(string[:])\n",
    "    values_list = list(values_tuple) \n",
    "    assert len(values_tuple)==len(mutable_indices)\n",
    "    for idx, val in zip(mutable_indices, values_list):\n",
    "        newstring[idx] = val\n",
    "    combinations.append(\"\".join(newstring))\n",
    "\n",
    "combinations = [x.replace('?','.') for x in combinations if (Counter(x)['#']==current_value) and ('#' * current_value in x)]\n",
    "combinations"
   ]
  },
  {
   "cell_type": "code",
   "execution_count": null,
   "metadata": {},
   "outputs": [],
   "source": []
  }
 ],
 "metadata": {
  "kernelspec": {
   "display_name": "Python 3",
   "language": "python",
   "name": "python3"
  },
  "language_info": {
   "codemirror_mode": {
    "name": "ipython",
    "version": 3
   },
   "file_extension": ".py",
   "mimetype": "text/x-python",
   "name": "python",
   "nbconvert_exporter": "python",
   "pygments_lexer": "ipython3",
   "version": "3.11.4"
  }
 },
 "nbformat": 4,
 "nbformat_minor": 2
}

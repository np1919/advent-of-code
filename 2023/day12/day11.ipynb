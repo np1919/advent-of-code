{
 "cells": [
  {
   "cell_type": "code",
   "execution_count": 19,
   "metadata": {},
   "outputs": [
    {
     "name": "stdout",
     "output_type": "stream",
     "text": [
      "[['???.###', '1,1,3'], ['.??..??...?##.', '1,1,3'], ['?#?#?#?#?#?#?#?', '1,3,1,6'], ['????.#...#...', '4,1,1'], ['????.######..#####.', '1,6,5'], ['?###????????', '3,2,1']]\n"
     ]
    }
   ],
   "source": [
    "\n",
    "with open('puzzle_input.txt') as f:\n",
    "    data = [x.strip('\\n').split(' ') for x in f.readlines()]\n",
    "\n",
    "data = [x.split(' ') for x in \"\"\"#.#.### 1,1,3\n",
    ".#...#....###. 1,1,3\n",
    ".#.###.#.###### 1,3,1,6\n",
    "####.#...#... 4,1,1\n",
    "#....######..#####. 1,6,5\n",
    ".###.##....# 3,2,1\"\"\".split('\\n')]\n",
    "\n",
    "data = [x.split(' ') for x in \"\"\"???.### 1,1,3\n",
    ".??..??...?##. 1,1,3\n",
    "?#?#?#?#?#?#?#? 1,3,1,6\n",
    "????.#...#... 4,1,1\n",
    "????.######..#####. 1,6,5\n",
    "?###???????? 3,2,1\"\"\".split('\\n')]\n",
    "\n",
    "\n",
    "print(data)\n",
    "pairs = dict()\n",
    "for index, row in enumerate(data):\n",
    "    #print(len(row.split()))\n",
    "    #x,y) = row.split()\n",
    "    (x, y) = row\n",
    "    y = [int(num) for num in y.split(',')]\n",
    "    pairs[index] = x, y\n",
    "   "
   ]
  },
  {
   "cell_type": "code",
   "execution_count": 20,
   "metadata": {},
   "outputs": [
    {
     "name": "stdout",
     "output_type": "stream",
     "text": [
      "('???.###', [1, 1, 3])\n"
     ]
    },
    {
     "name": "stdout",
     "output_type": "stream",
     "text": [
      "{'.#.#.#.', '.#.#..#', '..#.#.#', '.#..#.#', '.#.##.#'}\n",
      "('.??..??...?##.', [1, 1, 3])\n",
      "{'.###..##..###.', '.#.#........#.', '..#...##.#....', '.###..##...###', '.###...##.#...', '.#....##...#..', '.#.#....######', '..#..#....###.', '.#..##....#...', '.#.##.....#...', '.....#....##.#', '..#..##.....#.', '.#.......##.#.', '.#...#.######.', '.###....##..#.', '.#..#...#.....', '.###..##...#..', '.#...#....#...', '.#.##.......#.', '.#......#....#', '.#.....##.###.', '..#....##....#', '.#......##..#.', '..#......##.#.', '.###..#.....#.', '.....#..##.#..', '......#.#.#...', '.....#..#..#..', '.###.......#.#', '..#.#..#......', '.#....##..###.', '.#...#......#.', '..#..##......#', '.#...#....###.', '..#.#..######.', '..#....#....#.', '..#.##...#....', '..#....#..#...', '.#..##......#.', '..#...##..###.', '..#...#.....#.', '.###..##.#....', '.#..##.....#..', '.###.....#..#.', '.#....##..#...', '......#..##..#', '......#.#....#', '.#....#.#.....', '..#.##.######.', '..#.#......#..', '.#....#...#...', '.#...#.....###', '.....#....#..#', '.#.....##....#', '.###..##..#...', '.#....##.#....', '.#..##....###.', '......#.#..#..', '..#.#.#.......', '.....#.#....#.', '.....#....#.#.', '..#..##...#...', '.#...#.....#..', '.#....#....#..', '.#.......##..#', '.###....#...#.', '.#..#...######', '.#...##.#.....', '.#....#.....#.', '.###...#...###', '.#...##....#..', '.#....#..#....', '..#....##..#..', '.#...##...###.', '.#...##....###', '..#...##...#..', '.#.#...######.', '.###...#..###.', '..#..##..#....', '.#.##.....###.', '.#.#.........#', '.#......##.#..', '.###.#......#.', '.#.........#.#', '..#.....##...#', '.#...##.....#.', '.#...#..#.....', '.....#.##.###.', '.#........#.#.', '.#..#..#......', '.#....#...###.', '.###.##.#.....', '.###.##.....#.', '..#.#.......#.', '.###.##....#..', '.###..##.....#', '..#..#.....#..', '.....#.##.#...', '.....#...#.#..', '..#......##..#', '.###..#..#....', '..#....##...#.', '......#...#.#.', '..#...##...###', '.#..#......###', '......#...#..#', '.###.##....###', '..#.#....#....', '......#..##.#.', '.###......#..#', '..#....#..###.', '.###.##...#...', '.#.#......###.', '......#.##..#.', '.###..#....#..', '.#...#.......#', '.....#.#..#...', '.#.......#.#..', '..#.##....#...', '..#.....##.#..', '.###.#.#......', '..#....#.....#', '.....#..##..#.', '.###.....##..#', '.#....##.....#', '.###....##...#', '..#..#......#.', '..#.......##.#', '.#.##...#.....', '.#..#....#....', '..#.##......#.', '..#...#..#....', '.....#.#...#..', '.#...##...#...', '.#..##.....###', '.#.#....#.....', '......#.#...#.', '......#.#.###.', '.#..#.....#...', '.###.#...#....', '.#.....#.#....', '.....#..#.#...', '.#......#..#..', '.#..##.......#', '.#.....##...#.', '......#.##...#', '.###..#...###.', '.....#..#....#', '.#..##.#......', '.###.##......#', '..#.....#...#.', '......#..#...#', '..#.......#..#', '..#....#...#..', '..#..##...###.', '..#.....#.###.', '.###...#...#..', '..#....##.#...', '..#.##.#......', '.#......#.###.', '.###...##.###.', '.###.#.......#', '......#..#..#.', '.#.....#...#..', '.###.....#...#', '..#..##....###', '.#....##....#.', '..#...##..#...', '..#.##....###.', '.....#...##.#.', '..#.##.....###', '.###.....#.#..', '......#..#.#..', '.#........##.#', '..#....#.#....', '.#..#.......#.', '.#....##...###', '.#....#......#', '.###.#....###.', '..#..#.######.', '.#..#........#', '..#...##.....#', '.###......##.#', '.#.#......#...', '.#........#..#', '..#.##..######', '..#..##.#.....', '.###..#....###', '.#.....##.#...', '..#...#...###.', '.#.#...#......', '.....#.##....#', '.###..##....#.', '.#.##..######.', '.###......#.#.', '..#..##....#..', '......#....#.#', '.###...##..#..', '.....#.#.#....', '.#.....#.....#', '.#.##.#.......', '..#.#...######', '..#.##.......#', '.###....#..#..', '.#.....#..#...', '.###....#.###.', '..#..#.....###', '.###.##..#....', '.###...#....#.', '.#...#...#....', '..#.##..#.....', '.....#.#...###', '.###.#.....#..', '.#.....##..#..', '.#.##......#..', '.#.....#...###', '..#..#..######', '..#.#......###', '..#...#.#.....', '.....#..##...#', '.###...#.....#', '..#....#...###', '.###.#....#...', '.#.#.....#....', '.###....##.#..', '.#..#.....###.', '..#.....#....#', '.#......##...#', '.#..##.######.', '.....#...#...#', '..#....##.###.', '.#..#..######.', '..#..#....#...', '..#......#.#..', '..#..#.......#', '..#.....#.#...', '.###.#.######.', '.###...#.#....', '..#...#....#..', '.....#...##..#', '.....#.##..#..', '..#..#.#......', '.#..##..######', '.....#.#.....#', '.#...#..######', '.#.......#...#', '.....#..#.###.', '.#..##..#.....', '.#.#.......#..', '..#.#.....#...', '..#........#.#', '.###...##....#', '.#......#...#.', '.#..##...#....', '.#...##......#', '.....#.....#.#', '.#.#..#.......', '.###.#..#.....', '.###.....##.#.', '.###..#......#', '.#..#......#..', '..#...#....###', '.#.#.......###', '.#...#.#......', '.#.....#..###.', '.#.##..#......', '.#......#.#...', '.#.##......###', '.#.......#..#.', '.#...##..#....', '.#....#....###', '..#......#..#.', '.###...##...#.', '..#.##.....#..', '.###.#.....###', '..#.#.....###.', '..#...#...#...', '.###..#...#...', '..#..#...#....', '..#......#...#', '......#.##.#..', '.###.#..######', '..#.....##..#.', '.###.##...###.', '.#.##...######', '..#.#........#', '..#..#..#.....', '.....#...#..#.', '.....#..#...#.', '.#.##........#', '......#...##.#', '..#...#......#', '..#.....#..#..', '.###...#..#...', '.###....#....#', '.#..#.#.......', '.#.....#....#.', '..#.#...#.....', '..#...##....#.', '.....#.#..###.', '.....#.##...#.', '..#.......#.#.', '.###..#.#.....', '.###....#.#...', '.#.##....#....'}\n",
      "('?#?#?#?#?#?#?#?', [1, 3, 1, 6])\n"
     ]
    },
    {
     "ename": "KeyboardInterrupt",
     "evalue": "",
     "output_type": "error",
     "traceback": [
      "\u001b[1;31m---------------------------------------------------------------------------\u001b[0m",
      "\u001b[1;31mKeyboardInterrupt\u001b[0m                         Traceback (most recent call last)",
      "Cell \u001b[1;32mIn[20], line 4\u001b[0m\n\u001b[0;32m      2\u001b[0m \u001b[38;5;28mprint\u001b[39m(pairs[element])\n\u001b[0;32m      3\u001b[0m \u001b[38;5;66;03m# string, integerlist = pairs[element]\u001b[39;00m\n\u001b[1;32m----> 4\u001b[0m \u001b[38;5;28mprint\u001b[39m(\u001b[43mall_combinations\u001b[49m\u001b[43m(\u001b[49m\u001b[38;5;241;43m*\u001b[39;49m\u001b[43mpairs\u001b[49m\u001b[43m[\u001b[49m\u001b[43melement\u001b[49m\u001b[43m]\u001b[49m\u001b[43m)\u001b[49m)\n",
      "Cell \u001b[1;32mIn[15], line 76\u001b[0m, in \u001b[0;36mall_combinations\u001b[1;34m(string, list_of_integers)\u001b[0m\n\u001b[0;32m     75\u001b[0m \u001b[38;5;28;01mdef\u001b[39;00m \u001b[38;5;21mall_combinations\u001b[39m(string, list_of_integers):\n\u001b[1;32m---> 76\u001b[0m     output \u001b[38;5;241m=\u001b[39m \u001b[43mreturn_combinations\u001b[49m\u001b[43m(\u001b[49m\u001b[43mstring\u001b[49m\u001b[43m,\u001b[49m\u001b[43m \u001b[49m\u001b[43mlist_of_integers\u001b[49m\u001b[43m)\u001b[49m\n\u001b[0;32m     77\u001b[0m     \u001b[38;5;28;01mfor\u001b[39;00m x \u001b[38;5;129;01min\u001b[39;00m output:\n\u001b[0;32m     78\u001b[0m         output[x] \u001b[38;5;241m=\u001b[39m \u001b[38;5;28mlist\u001b[39m(output[x])\n",
      "Cell \u001b[1;32mIn[15], line 56\u001b[0m, in \u001b[0;36mreturn_combinations\u001b[1;34m(string, integer_values, output)\u001b[0m\n\u001b[0;32m     53\u001b[0m             \u001b[38;5;28;01mif\u001b[39;00m \u001b[38;5;28mlen\u001b[39m(integer_values) \u001b[38;5;241m==\u001b[39m \u001b[38;5;241m0\u001b[39m \u001b[38;5;129;01mand\u001b[39;00m \u001b[38;5;28mlen\u001b[39m(newstring) \u001b[38;5;241m==\u001b[39m \u001b[38;5;28mlen\u001b[39m(string):\n\u001b[0;32m     54\u001b[0m                     output[\u001b[38;5;28mlen\u001b[39m(integer_values)]\u001b[38;5;241m.\u001b[39mappend(\u001b[38;5;124m\"\u001b[39m\u001b[38;5;124m\"\u001b[39m\u001b[38;5;241m.\u001b[39mjoin(newstring))\n\u001b[1;32m---> 56\u001b[0m     \u001b[43mreturn_combinations\u001b[49m\u001b[43m(\u001b[49m\u001b[43mstring\u001b[49m\u001b[43m[\u001b[49m\u001b[43midx\u001b[49m\u001b[43m:\u001b[49m\u001b[43m]\u001b[49m\u001b[43m,\u001b[49m\u001b[43m \u001b[49m\u001b[43minteger_values\u001b[49m\u001b[43m[\u001b[49m\u001b[43m:\u001b[49m\u001b[43m]\u001b[49m\u001b[43m)\u001b[49m\n\u001b[0;32m     57\u001b[0m     \u001b[38;5;66;03m# output[len(integer_values)].append(combinations)\u001b[39;00m\n\u001b[0;32m     58\u001b[0m \n\u001b[0;32m     59\u001b[0m \n\u001b[1;32m   (...)\u001b[0m\n\u001b[0;32m     68\u001b[0m     \u001b[38;5;66;03m# output.append(combinations)\u001b[39;00m\n\u001b[0;32m     69\u001b[0m     \u001b[38;5;66;03m# for x in return_combinations()\u001b[39;00m\n\u001b[0;32m     70\u001b[0m \u001b[38;5;28;01mreturn\u001b[39;00m output\n",
      "Cell \u001b[1;32mIn[15], line 56\u001b[0m, in \u001b[0;36mreturn_combinations\u001b[1;34m(string, integer_values, output)\u001b[0m\n\u001b[0;32m     53\u001b[0m             \u001b[38;5;28;01mif\u001b[39;00m \u001b[38;5;28mlen\u001b[39m(integer_values) \u001b[38;5;241m==\u001b[39m \u001b[38;5;241m0\u001b[39m \u001b[38;5;129;01mand\u001b[39;00m \u001b[38;5;28mlen\u001b[39m(newstring) \u001b[38;5;241m==\u001b[39m \u001b[38;5;28mlen\u001b[39m(string):\n\u001b[0;32m     54\u001b[0m                     output[\u001b[38;5;28mlen\u001b[39m(integer_values)]\u001b[38;5;241m.\u001b[39mappend(\u001b[38;5;124m\"\u001b[39m\u001b[38;5;124m\"\u001b[39m\u001b[38;5;241m.\u001b[39mjoin(newstring))\n\u001b[1;32m---> 56\u001b[0m     \u001b[43mreturn_combinations\u001b[49m\u001b[43m(\u001b[49m\u001b[43mstring\u001b[49m\u001b[43m[\u001b[49m\u001b[43midx\u001b[49m\u001b[43m:\u001b[49m\u001b[43m]\u001b[49m\u001b[43m,\u001b[49m\u001b[43m \u001b[49m\u001b[43minteger_values\u001b[49m\u001b[43m[\u001b[49m\u001b[43m:\u001b[49m\u001b[43m]\u001b[49m\u001b[43m)\u001b[49m\n\u001b[0;32m     57\u001b[0m     \u001b[38;5;66;03m# output[len(integer_values)].append(combinations)\u001b[39;00m\n\u001b[0;32m     58\u001b[0m \n\u001b[0;32m     59\u001b[0m \n\u001b[1;32m   (...)\u001b[0m\n\u001b[0;32m     68\u001b[0m     \u001b[38;5;66;03m# output.append(combinations)\u001b[39;00m\n\u001b[0;32m     69\u001b[0m     \u001b[38;5;66;03m# for x in return_combinations()\u001b[39;00m\n\u001b[0;32m     70\u001b[0m \u001b[38;5;28;01mreturn\u001b[39;00m output\n",
      "Cell \u001b[1;32mIn[15], line 56\u001b[0m, in \u001b[0;36mreturn_combinations\u001b[1;34m(string, integer_values, output)\u001b[0m\n\u001b[0;32m     53\u001b[0m             \u001b[38;5;28;01mif\u001b[39;00m \u001b[38;5;28mlen\u001b[39m(integer_values) \u001b[38;5;241m==\u001b[39m \u001b[38;5;241m0\u001b[39m \u001b[38;5;129;01mand\u001b[39;00m \u001b[38;5;28mlen\u001b[39m(newstring) \u001b[38;5;241m==\u001b[39m \u001b[38;5;28mlen\u001b[39m(string):\n\u001b[0;32m     54\u001b[0m                     output[\u001b[38;5;28mlen\u001b[39m(integer_values)]\u001b[38;5;241m.\u001b[39mappend(\u001b[38;5;124m\"\u001b[39m\u001b[38;5;124m\"\u001b[39m\u001b[38;5;241m.\u001b[39mjoin(newstring))\n\u001b[1;32m---> 56\u001b[0m     \u001b[43mreturn_combinations\u001b[49m\u001b[43m(\u001b[49m\u001b[43mstring\u001b[49m\u001b[43m[\u001b[49m\u001b[43midx\u001b[49m\u001b[43m:\u001b[49m\u001b[43m]\u001b[49m\u001b[43m,\u001b[49m\u001b[43m \u001b[49m\u001b[43minteger_values\u001b[49m\u001b[43m[\u001b[49m\u001b[43m:\u001b[49m\u001b[43m]\u001b[49m\u001b[43m)\u001b[49m\n\u001b[0;32m     57\u001b[0m     \u001b[38;5;66;03m# output[len(integer_values)].append(combinations)\u001b[39;00m\n\u001b[0;32m     58\u001b[0m \n\u001b[0;32m     59\u001b[0m \n\u001b[1;32m   (...)\u001b[0m\n\u001b[0;32m     68\u001b[0m     \u001b[38;5;66;03m# output.append(combinations)\u001b[39;00m\n\u001b[0;32m     69\u001b[0m     \u001b[38;5;66;03m# for x in return_combinations()\u001b[39;00m\n\u001b[0;32m     70\u001b[0m \u001b[38;5;28;01mreturn\u001b[39;00m output\n",
      "Cell \u001b[1;32mIn[15], line 42\u001b[0m, in \u001b[0;36mreturn_combinations\u001b[1;34m(string, integer_values, output)\u001b[0m\n\u001b[0;32m     40\u001b[0m \u001b[38;5;66;03m# all_combos = # print(all_combos)\u001b[39;00m\n\u001b[0;32m     41\u001b[0m \u001b[38;5;28;01mfor\u001b[39;00m values_tuple \u001b[38;5;129;01min\u001b[39;00m all_combos:\n\u001b[1;32m---> 42\u001b[0m     newstring \u001b[38;5;241m=\u001b[39m \u001b[38;5;28mlist\u001b[39m(substring[:])\n\u001b[0;32m     43\u001b[0m     values_list \u001b[38;5;241m=\u001b[39m \u001b[38;5;28mlist\u001b[39m(values_tuple) \n\u001b[0;32m     44\u001b[0m     \u001b[38;5;66;03m#assert len(values_tuple)==len(mutable_indices)\u001b[39;00m\n\u001b[0;32m     45\u001b[0m     \u001b[38;5;66;03m# impute the new valus as defined by all_combos -- \u001b[39;00m\n",
      "\u001b[1;31mKeyboardInterrupt\u001b[0m: "
     ]
    }
   ],
   "source": [
    "\n",
    "for element in pairs:\n",
    "    print(pairs[element])\n",
    "    # string, integerlist = pairs[element]\n",
    "    print(all_combinations(*pairs[element]))"
   ]
  },
  {
   "cell_type": "code",
   "execution_count": 25,
   "metadata": {},
   "outputs": [],
   "source": [
    "from collections import defaultdict, Counter\n",
    "from itertools import product, permutations \n",
    "\n",
    "def return_combinations(string, integer_values, output=defaultdict(list)):\n",
    "\n",
    "    # base cases: string, integer_values are gone\n",
    "    if len(string) == 0 and len(integer_values)==0:\n",
    "        return [\"\"] # maybe its integer 3, 4, or 5 -- you finished gracefully.\n",
    "    elif (len(integer_values) == 0) or len(string) == 0:\n",
    "        return []\n",
    "\n",
    "\n",
    "\n",
    "\n",
    "    # otherwise, we're going to be adding the recursive calls to a list and returning the possibles back up the chain.\n",
    "    #output = dict()\n",
    "    current_value = integer_values.pop(0) # leave the original in place to dive into the tree\n",
    "    requisite_suffix_length = len(integer_values) + sum(integer_values)\n",
    "    #substring = string[:len(string)-requisite_suffix_length]\n",
    "    # print(f\"for the string {string} and the integer {current_value}, {requisite_suffix_length} values are reserved from the end leaving {substring}\")\n",
    "    # print(string[-requisite_suffix_length:])\n",
    "    \n",
    "    # if it beats the base case, it should have a separator as a suffix = '.'\n",
    "\n",
    "\n",
    "    # for every possible substring\n",
    "        # which meets these requirements (is winning...)\n",
    "            # there is a remainder. \n",
    "            # call recursively on the remainder (see which one of those branches reaches an appropriate base case -- the list and string run out at the same time)\n",
    "            # for each recursive call which returns a list of strings\n",
    "            # append the prefix to that string. When you've iterated through all \n",
    "\n",
    "\n",
    "    for idx, _ in enumerate(string): # limit the remaining indices?\n",
    "        substring = string[:idx+1]\n",
    "        # print(substring)\n",
    "        ### finding a winner ### \n",
    "        mutable_indices = [idx for idx, _ in enumerate(substring) if _ == '?' and idx <= len(substring)]  # only change the values which can be changed; and only look for combinations which have at least as many '#' as we need\n",
    "        all_combos = set(permutations('#'*current_value+'.'*len(mutable_indices), len(mutable_indices))) # you could count existing '#'? \n",
    "        # all_combos = # print(all_combos)\n",
    "        for values_tuple in all_combos:\n",
    "            newstring = list(substring[:])\n",
    "            values_list = list(values_tuple) \n",
    "            #assert len(values_tuple)==len(mutable_indices)\n",
    "            # impute the new valus as defined by all_combos -- \n",
    "            for idx, val in zip(mutable_indices, values_list):\n",
    "                newstring[idx] = val\n",
    "\n",
    "            newstring = \"\".join(newstring).replace('?','.')\n",
    "            if Counter(newstring)['#'] == current_value and '#'*current_value in newstring and len(newstring) <= len(string) - requisite_suffix_length:\n",
    "                if newstring[-1] == '.':\n",
    "                    output[len(integer_values)].append(\"\".join(newstring))\n",
    "                if len(integer_values) == 0 and len(newstring) == len(string):\n",
    "                        output[len(integer_values)].append(\"\".join(newstring))\n",
    "\n",
    "        return_combinations(string[idx:], integer_values[:])\n",
    "        # output[len(integer_values)].append(combinations)\n",
    "\n",
    "\n",
    "\n",
    "        # for sofar_sogood in combinations:\n",
    "            \n",
    "\n",
    "        \n",
    "\n",
    "        # eliminate any combinations which don't match the pattern\n",
    "        # combinations = [x.replace('?','.') for x in combinations if (Counter(x)['#']==current_value) and ('#' * current_value in x)]\n",
    "        # output.append(combinations)\n",
    "        # for x in return_combinations()\n",
    "    return output\n",
    "\n",
    "# output = return_combinations(\n",
    "# output\n",
    "\n",
    "def all_combinations(string, list_of_integers):\n",
    "    output = return_combinations(string, list_of_integers)\n",
    "    for x in output:\n",
    "        output[x] = list(output[x])\n",
    "        reversed_keys = sorted(output.keys())[::-1]\n",
    "        lists = [list(output[x]) for x in reversed_keys]\n",
    "        return len(set(\"\".join(x) for x in product(*lists) if len(\"\".join(x))==len(string)))\n",
    "    \n",
    "output = all_combinations('?###????????', [3,2,1])\n",
    "    "
   ]
  },
  {
   "cell_type": "code",
   "execution_count": 26,
   "metadata": {},
   "outputs": [
    {
     "data": {
      "text/plain": [
       "10"
      ]
     },
     "execution_count": 26,
     "metadata": {},
     "output_type": "execute_result"
    }
   ],
   "source": [
    "output"
   ]
  },
  {
   "cell_type": "code",
   "execution_count": 27,
   "metadata": {},
   "outputs": [
    {
     "data": {
      "text/plain": [
       "{0: ('???.###', [3]),\n",
       " 1: ('.??..??...?##.', [3]),\n",
       " 2: ('?#?#?#?#?#?#?#?', [1, 6]),\n",
       " 3: ('????.#...#...', [1, 1]),\n",
       " 4: ('????.######..#####.', [6, 5]),\n",
       " 5: ('?###????????', [2, 1])}"
      ]
     },
     "execution_count": 27,
     "metadata": {},
     "output_type": "execute_result"
    }
   ],
   "source": [
    "pairs"
   ]
  },
  {
   "cell_type": "code",
   "execution_count": 28,
   "metadata": {},
   "outputs": [
    {
     "name": "stdout",
     "output_type": "stream",
     "text": [
      "0\n",
      "24\n",
      "55\n",
      "41\n",
      "125\n",
      "28\n"
     ]
    }
   ],
   "source": [
    "for pair in pairs:\n",
    "    print(all_combinations(*pairs[pair]))"
   ]
  },
  {
   "cell_type": "code",
   "execution_count": null,
   "metadata": {},
   "outputs": [
    {
     "data": {
      "text/plain": [
       "1"
      ]
     },
     "execution_count": 20,
     "metadata": {},
     "output_type": "execute_result"
    }
   ],
   "source": [
    "# (\"?###????????\",[3,2,1])\n",
    "from itertools import permutations, product\n",
    "# len(set(permutations(\"?###????????\")))\n",
    "\n",
    "len(set(permutations(\"???????\")))\n",
    "\n",
    "string = \"?###?\"\n",
    "current_value = 3\n",
    "mutable_indices = [idx for idx, _ in enumerate(string) if _ == '?']\n",
    "mutable_indices\n",
    "\n",
    "\n",
    "all_combos = set(permutations(['#','.']*len(mutable_indices), len(mutable_indices)))\n",
    "all_combos\n",
    "combinations =[]\n",
    "from collections import Counter\n",
    "\n",
    "for values_tuple in all_combos:\n",
    "    newstring = list(string[:])\n",
    "    values_list = list(values_tuple) \n",
    "    assert len(values_tuple)==len(mutable_indices)\n",
    "    for idx, val in zip(mutable_indices, values_list):\n",
    "        newstring[idx] = val\n",
    "    combinations.append(\"\".join(newstring))\n",
    "\n",
    "combinations = [x.replace('?','.') for x in combinations if (Counter(x)['#']==current_value) and ('#' * current_value in x)]\n",
    "combinations"
   ]
  },
  {
   "cell_type": "code",
   "execution_count": null,
   "metadata": {},
   "outputs": [
    {
     "data": {
      "text/plain": [
       "[0]"
      ]
     },
     "execution_count": 45,
     "metadata": {},
     "output_type": "execute_result"
    }
   ],
   "source": [
    "string = \"?###?\"\n",
    "current_value = 3\n",
    "mutable_indices = [idx for idx, _ in enumerate(string) if _ == '?']\n",
    "mutable_indices\n",
    "\n",
    "\n",
    "all_combos = set(permutations(['#','.']*len(mutable_indices), len(mutable_indices)))\n",
    "all_combos\n",
    "combinations =[]\n",
    "from collections import Counter\n",
    "\n",
    "for values_tuple in all_combos:\n",
    "    newstring = list(string[:])\n",
    "    values_list = list(values_tuple) \n",
    "    assert len(values_tuple)==len(mutable_indices)\n",
    "    for idx, val in zip(mutable_indices, values_list):\n",
    "        newstring[idx] = val\n",
    "    combinations.append(\"\".join(newstring))\n",
    "\n",
    "combinations = [x.replace('?','.') for x in combinations if (Counter(x)['#']==current_value) and ('#' * current_value in x)]\n",
    "combinations"
   ]
  },
  {
   "cell_type": "code",
   "execution_count": null,
   "metadata": {},
   "outputs": [],
   "source": [
    "\n",
    "all_combos = set(permutations())\n",
    "len(all_combos)\n",
    "sorted([\"\".join(x) for x in all_combos])\n"
   ]
  },
  {
   "cell_type": "code",
   "execution_count": null,
   "metadata": {},
   "outputs": [
    {
     "data": {
      "text/plain": [
       "['.###', '###.']"
      ]
     },
     "execution_count": 12,
     "metadata": {},
     "output_type": "execute_result"
    }
   ],
   "source": [
    "valid_combos = [\"\".join(x).replace('?','.') for x in all_combos if '###' in \"\".join(x).replace('?','.')]\n",
    "valid_combos"
   ]
  },
  {
   "cell_type": "code",
   "execution_count": null,
   "metadata": {},
   "outputs": [],
   "source": [
    "data = (\"???\", [1])"
   ]
  },
  {
   "cell_type": "markdown",
   "metadata": {},
   "source": [
    "There could be optimizations which relate to the length of the string or distance between groups; the arbitrary limiting of scope which best aligns with the problem.m"
   ]
  },
  {
   "cell_type": "code",
   "execution_count": null,
   "metadata": {},
   "outputs": [],
   "source": [
    "[1,7,8]"
   ]
  },
  {
   "cell_type": "code",
   "execution_count": null,
   "metadata": {},
   "outputs": [
    {
     "data": {
      "text/plain": [
       "{(1, 1, 5, 7, 8),\n",
       " (1, 1, 5, 8, 7),\n",
       " (1, 1, 7, 5, 8),\n",
       " (1, 1, 7, 8, 5),\n",
       " (1, 1, 8, 5, 7),\n",
       " (1, 1, 8, 7, 5),\n",
       " (1, 5, 1, 7, 8),\n",
       " (1, 5, 1, 8, 7),\n",
       " (1, 5, 7, 1, 8),\n",
       " (1, 5, 7, 8, 1),\n",
       " (1, 5, 8, 1, 7),\n",
       " (1, 5, 8, 7, 1),\n",
       " (1, 7, 1, 5, 8),\n",
       " (1, 7, 1, 8, 5),\n",
       " (1, 7, 5, 1, 8),\n",
       " (1, 7, 5, 8, 1),\n",
       " (1, 7, 8, 1, 5),\n",
       " (1, 7, 8, 5, 1),\n",
       " (1, 8, 1, 5, 7),\n",
       " (1, 8, 1, 7, 5),\n",
       " (1, 8, 5, 1, 7),\n",
       " (1, 8, 5, 7, 1),\n",
       " (1, 8, 7, 1, 5),\n",
       " (1, 8, 7, 5, 1),\n",
       " (5, 1, 1, 7, 8),\n",
       " (5, 1, 1, 8, 7),\n",
       " (5, 1, 7, 1, 8),\n",
       " (5, 1, 7, 8, 1),\n",
       " (5, 1, 8, 1, 7),\n",
       " (5, 1, 8, 7, 1),\n",
       " (5, 7, 1, 1, 8),\n",
       " (5, 7, 1, 8, 1),\n",
       " (5, 7, 8, 1, 1),\n",
       " (5, 8, 1, 1, 7),\n",
       " (5, 8, 1, 7, 1),\n",
       " (5, 8, 7, 1, 1),\n",
       " (7, 1, 1, 5, 8),\n",
       " (7, 1, 1, 8, 5),\n",
       " (7, 1, 5, 1, 8),\n",
       " (7, 1, 5, 8, 1),\n",
       " (7, 1, 8, 1, 5),\n",
       " (7, 1, 8, 5, 1),\n",
       " (7, 5, 1, 1, 8),\n",
       " (7, 5, 1, 8, 1),\n",
       " (7, 5, 8, 1, 1),\n",
       " (7, 8, 1, 1, 5),\n",
       " (7, 8, 1, 5, 1),\n",
       " (7, 8, 5, 1, 1),\n",
       " (8, 1, 1, 5, 7),\n",
       " (8, 1, 1, 7, 5),\n",
       " (8, 1, 5, 1, 7),\n",
       " (8, 1, 5, 7, 1),\n",
       " (8, 1, 7, 1, 5),\n",
       " (8, 1, 7, 5, 1),\n",
       " (8, 5, 1, 1, 7),\n",
       " (8, 5, 1, 7, 1),\n",
       " (8, 5, 7, 1, 1),\n",
       " (8, 7, 1, 1, 5),\n",
       " (8, 7, 1, 5, 1),\n",
       " (8, 7, 5, 1, 1)}"
      ]
     },
     "execution_count": 90,
     "metadata": {},
     "output_type": "execute_result"
    }
   ],
   "source": [
    "# memo object only makes sense if you're storing (str, tuple[int]) keys.\n",
    "from itertools import product, permutations\n",
    "from collections import Counter\n"
   ]
  },
  {
   "cell_type": "code",
   "execution_count": null,
   "metadata": {},
   "outputs": [
    {
     "name": "stdout",
     "output_type": "stream",
     "text": [
      "3\n",
      "???\n",
      "[0, 1, 2] are the mutable indices\n",
      "0, ('#',)\n",
      "1, ('#',)\n",
      "2, ('#',)\n"
     ]
    },
    {
     "ename": "TypeError",
     "evalue": "can only concatenate str (not \"tuple\") to str",
     "output_type": "error",
     "traceback": [
      "\u001b[1;31m---------------------------------------------------------------------------\u001b[0m",
      "\u001b[1;31mTypeError\u001b[0m                                 Traceback (most recent call last)",
      "Cell \u001b[1;32mIn[118], line 61\u001b[0m\n\u001b[0;32m     49\u001b[0m                 \u001b[38;5;66;03m# temp= temp.split()\u001b[39;00m\n\u001b[0;32m     50\u001b[0m                 \u001b[38;5;66;03m# temp[idx] = option\u001b[39;00m\n\u001b[0;32m     51\u001b[0m                 \u001b[38;5;66;03m# temp = \"\".join(temp)\u001b[39;00m\n\u001b[1;32m   (...)\u001b[0m\n\u001b[0;32m     55\u001b[0m                 \u001b[38;5;66;03m#     print(f\"each is {each}\")\u001b[39;00m\n\u001b[0;32m     56\u001b[0m                 \u001b[38;5;66;03m#     local_possibles.append(branch+each)\u001b[39;00m\n\u001b[0;32m     58\u001b[0m     \u001b[38;5;28;01mreturn\u001b[39;00m local_possibles\n\u001b[1;32m---> 61\u001b[0m \u001b[43mrecursive_solve\u001b[49m\u001b[43m(\u001b[49m\u001b[38;5;124;43m\"\u001b[39;49m\u001b[38;5;124;43m???\u001b[39;49m\u001b[38;5;124;43m\"\u001b[39;49m\u001b[43m,\u001b[49m\u001b[43m \u001b[49m\u001b[43m[\u001b[49m\u001b[38;5;241;43m3\u001b[39;49m\u001b[43m]\u001b[49m\u001b[43m)\u001b[49m\n\u001b[0;32m     62\u001b[0m \u001b[38;5;66;03m# data[1][0].append(3)\u001b[39;00m\n",
      "Cell \u001b[1;32mIn[118], line 47\u001b[0m, in \u001b[0;36mrecursive_solve\u001b[1;34m(string, list_of_integers, memo)\u001b[0m\n\u001b[0;32m     42\u001b[0m     local_possibles\u001b[38;5;241m.\u001b[39mappend(branch\u001b[38;5;241m+\u001b[39mleaf)\n\u001b[0;32m     44\u001b[0m     \u001b[38;5;66;03m# for other_mutations in mutable_indices:\u001b[39;00m\n\u001b[0;32m     45\u001b[0m     \u001b[38;5;66;03m#     for option in ['#', '.']:\u001b[39;00m\n\u001b[0;32m     46\u001b[0m     \u001b[38;5;66;03m#         temp[]\u001b[39;00m\n\u001b[1;32m---> 47\u001b[0m branch \u001b[38;5;241m=\u001b[39m \u001b[43mtemp\u001b[49m\u001b[43m[\u001b[49m\u001b[43m:\u001b[49m\u001b[43midx\u001b[49m\u001b[43m]\u001b[49m\u001b[38;5;241;43m+\u001b[39;49m\u001b[43moption\u001b[49m\n\u001b[0;32m     48\u001b[0m \u001b[38;5;28mprint\u001b[39m(branch)\n\u001b[0;32m     49\u001b[0m     \u001b[38;5;66;03m# temp= temp.split()\u001b[39;00m\n\u001b[0;32m     50\u001b[0m     \u001b[38;5;66;03m# temp[idx] = option\u001b[39;00m\n\u001b[0;32m     51\u001b[0m     \u001b[38;5;66;03m# temp = \"\".join(temp)\u001b[39;00m\n\u001b[1;32m   (...)\u001b[0m\n\u001b[0;32m     55\u001b[0m     \u001b[38;5;66;03m#     print(f\"each is {each}\")\u001b[39;00m\n\u001b[0;32m     56\u001b[0m     \u001b[38;5;66;03m#     local_possibles.append(branch+each)\u001b[39;00m\n",
      "\u001b[1;31mTypeError\u001b[0m: can only concatenate str (not \"tuple\") to str"
     ]
    }
   ],
   "source": [
    "\n",
    "\n",
    "# for group in integer_list:\n",
    "    # for combination in winning_so_far:\n",
    "        # how many combinations resolve?\n",
    "            # resolution being defined as 0 elements in string and 0 integer list length\n",
    "memo = dict()\n",
    "def recursive_solve(string, list_of_integers, memo=memo):\n",
    "    \n",
    "    \n",
    "    #### base cases --> think about entry and exit from the string. boundary should exist to the left unless last value.\n",
    "    if len(list_of_integers) == 0:\n",
    "        if len(string) == 0:\n",
    "            print('you win')\n",
    "            return [\"\"] # you win. this combination is valid; begin a strike\n",
    "        elif len(string) != 0:\n",
    "            # print(string, list_of_integers)\n",
    "            # print('you lost')\n",
    "            return [] \n",
    "\n",
    "    # list of integers is greater than 1...\n",
    "    integer_value = list_of_integers.pop()\n",
    "    print(integer_value)\n",
    "    output = []\n",
    "    local_possibles = []\n",
    "\n",
    "    required_suffix_chars = len(list_of_integers) + sum(list_of_integers)\n",
    "    if required_suffix_chars > 0:\n",
    "        temp = string[:required_suffix_chars] # limit the range of values by a good amount.\n",
    "    else:\n",
    "        temp = string[:]\n",
    "    print(temp)\n",
    "    mutable_indices = sorted([idx for (idx, _) in enumerate(temp) if _ == '?'])\n",
    "    print(f\"{mutable_indices} are the mutable indices\")\n",
    "    for idx, _ in enumerate(temp):\n",
    "        for option in permutations(['#', '.'], len([index for index in mutable_indices if index <= idx])):\n",
    "            temp = temp.split()\n",
    "            for element in option:\n",
    "                for mutable_index in mutable_indices:\n",
    "                    print(f\"{mutable_index}, {option}\")\n",
    "                    # temp[mutable_index] = option\n",
    "                temp = \"\".join(temp)\n",
    "            for leaf in recursive_solve(temp, list_of_integers):\n",
    "                local_possibles.append(branch+leaf)\n",
    "                \n",
    "                # for other_mutations in mutable_indices:\n",
    "                #     for option in ['#', '.']:\n",
    "                #         temp[]\n",
    "            branch = temp[:idx]+option\n",
    "            print(branch)\n",
    "                # temp= temp.split()\n",
    "                # temp[idx] = option\n",
    "                # temp = \"\".join(temp)\n",
    "                \n",
    "                # remaining_chars = option + temp[idx:]\n",
    "                # for each in recursive_solve(remaining_chars, list_of_integers): # returning a list of strings, or a list of length 0\n",
    "                #     print(f\"each is {each}\")\n",
    "                #     local_possibles.append(branch+each)\n",
    "\n",
    "    return local_possibles\n",
    "\n",
    "\n",
    "recursive_solve(\"???\", [3])\n",
    "# data[1][0].append(3)\n"
   ]
  },
  {
   "cell_type": "code",
   "execution_count": null,
   "metadata": {},
   "outputs": [],
   "source": []
  },
  {
   "cell_type": "code",
   "execution_count": null,
   "metadata": {},
   "outputs": [],
   "source": []
  },
  {
   "cell_type": "code",
   "execution_count": null,
   "metadata": {},
   "outputs": [],
   "source": []
  },
  {
   "cell_type": "code",
   "execution_count": null,
   "metadata": {},
   "outputs": [],
   "source": []
  },
  {
   "cell_type": "code",
   "execution_count": null,
   "metadata": {},
   "outputs": [],
   "source": []
  },
  {
   "cell_type": "code",
   "execution_count": null,
   "metadata": {},
   "outputs": [],
   "source": []
  },
  {
   "cell_type": "code",
   "execution_count": null,
   "metadata": {},
   "outputs": [],
   "source": []
  },
  {
   "cell_type": "code",
   "execution_count": null,
   "metadata": {},
   "outputs": [],
   "source": []
  },
  {
   "cell_type": "code",
   "execution_count": null,
   "metadata": {},
   "outputs": [],
   "source": []
  },
  {
   "cell_type": "code",
   "execution_count": null,
   "metadata": {},
   "outputs": [],
   "source": []
  },
  {
   "cell_type": "code",
   "execution_count": null,
   "metadata": {},
   "outputs": [],
   "source": []
  },
  {
   "cell_type": "code",
   "execution_count": null,
   "metadata": {},
   "outputs": [
    {
     "data": {
      "text/plain": [
       "{3: {'.###', '.###.', '.###..'}, 2: {'##'}, 1: {'#'}}"
      ]
     },
     "execution_count": 75,
     "metadata": {},
     "output_type": "execute_result"
    }
   ],
   "source": [
    "from collections import Counter\n",
    "from itertools import permutations, product\n",
    "\n",
    "def allConstruct(string, list_of_integers, memo=dict()):\n",
    "    '''can you make the string with the list of substrings'''\n",
    "    output = [] #first call is big daddy tree.\n",
    "    # all combinations which create \n",
    "    list_of_potential_remaining_strings = []\n",
    "    req_suffix_length = len(list_of_integers[1:]) + sum(list_of_integers[1:])\n",
    "    remaining_chars = string[:-req_suffix_length]\n",
    "    \n",
    "\n",
    "    if len(list_of_integers) > 0:\n",
    "        current_value = list_of_integers[0]\n",
    "    else:\n",
    "        return []\n",
    "    \n",
    "    memo[len(list_of_integers)] = set()\n",
    "    desired_pattern = '#'* current_value\n",
    "\n",
    "    for idx, ch in enumerate(string):\n",
    "        if len(string[idx:]) > req_suffix_length:\n",
    "            available_chars = string[:idx]\n",
    "            # values_filter = [idx for (idx,_) in available_chars if _!='?']\n",
    "            # print(f\"{values_filter} are hardcoded.\")\n",
    "            # check if this substring wins. If so, ensure it's the only group in available_chars.\n",
    "            if desired_pattern in available_chars:\n",
    "                if Counter(available_chars)['#'] == current_value:\n",
    "                    memo[len(list_of_integers)].add(available_chars.replace('?', '.'))\n",
    "                    remaining_chars = string[idx:]\n",
    "                    # print('first section')\n",
    "                if Counter(available_chars)['#'] >= current_value:\n",
    "                    counter = 0\n",
    "                    for local_idx, last_first_index in enumerate(available_chars):\n",
    "                        if last_first_index == '#':\n",
    "                            counter +=1\n",
    "                        if counter == current_value:\n",
    "                            memo[len(list_of_integers)].add(available_chars[:local_idx+1].replace('?', '.'))\n",
    "                            remaining_chars = string[local_idx+1:]\n",
    "                            allConstruct(remaining_chars, list_of_integers[1:], memo)\n",
    "\n",
    "            # if there is more than one group\n",
    "            if (desired_pattern not in available_chars) and Counter(available_chars)['#'] >= current_value:\n",
    "                counter = 0\n",
    "                for local_idx, last_first_index in enumerate(available_chars):\n",
    "                    if last_first_index == '#':\n",
    "                        counter +=1\n",
    "                    if counter == current_value:\n",
    "                        memo[len(list_of_integers)].add(available_chars[:local_idx+1].replace('?', '.'))\n",
    "                        remaining_chars = string[local_idx+1:]\n",
    "                        allConstruct(remaining_chars, list_of_integers[1:], memo)\n",
    "\n",
    "            # if there is no group\n",
    "            if (desired_pattern not in available_chars) and Counter(available_chars)['#'] == 0:\n",
    "                # change question marks until you have the right number of hashes...\n",
    "                for local_idx, _ in enumerate(available_chars):\n",
    "                    for i in available_chars:#[:current_value - Counter(available_chars)['#']]:\n",
    "                        local_string = available_chars[:local_idx].replace('?', '#')\n",
    "\n",
    "                        if desired_pattern in local_string and Counter(local_string)['#'] == current_value:\n",
    "                            remaining_chars = string[local_idx:]\n",
    "                            memo[len(list_of_integers)].add(local_string.replace('?', '.'))\n",
    "                            allConstruct(remaining_chars, list_of_integers[1:], memo)\n",
    "                    \n",
    "            \n",
    "            \n",
    "    allConstruct(remaining_chars, list_of_integers[1:])\n",
    "            # list_of_potential_remaining_strings.append(string[idx:])\n",
    "\n",
    "\n",
    "    # for y in list_of_potential_remaining_strings:\n",
    "        \n",
    "    return memo\n",
    "        # call recursively\n",
    "\n",
    "\n",
    "\n",
    "\n",
    "output = allConstruct(\"?###????????\", [3,2,1])\n",
    "# [(sorted(x), [len(y) for y in sorted(x)]) for x in output.values()]\n",
    "output"
   ]
  },
  {
   "cell_type": "code",
   "execution_count": null,
   "metadata": {},
   "outputs": [],
   "source": []
  },
  {
   "cell_type": "code",
   "execution_count": null,
   "metadata": {},
   "outputs": [
    {
     "data": {
      "text/plain": [
       "{2: {'.###'},\n",
       " 1: {'..##', '..##....'},\n",
       " 0: {'.#',\n",
       "  '.##',\n",
       "  '.##.....',\n",
       "  '.#..',\n",
       "  '..#',\n",
       "  '..##....',\n",
       "  '..#.',\n",
       "  '...#',\n",
       "  '...##',\n",
       "  '...##...',\n",
       "  '....##',\n",
       "  '....##..',\n",
       "  '.....##',\n",
       "  '.....##.',\n",
       "  '......##'}}"
      ]
     },
     "execution_count": 42,
     "metadata": {},
     "output_type": "execute_result"
    }
   ],
   "source": [
    "from collections import Counter\n",
    "from itertools import permutations\n",
    "\n",
    "def limited_recursive_solve(string, list_of_integers, memo=dict()):\n",
    "    \n",
    "    # put an instance of this function with the appropriate substring separation on the stack for each combination tree.\n",
    "\n",
    "    for integer in list_of_integers:\n",
    "        # level setup\n",
    "        if len(string) == 0:\n",
    "            return []\n",
    "        try:\n",
    "            current_value = list_of_integers.pop(0)\n",
    "        except IndexError:\n",
    "            # base case, you run out of string.\n",
    "            return None\n",
    "        memo[len(list_of_integers)] = set()\n",
    "\n",
    "        # substring_specific = \n",
    "        req_suffix_characters = len(list_of_integers) + sum(list_of_integers)\n",
    "        # limited_scope = string[:req_suffix_characters]\n",
    "        remaining_characters = string[req_suffix_characters:] # this is a placeholder\n",
    "        max_available_characters = string[:-req_suffix_characters]\n",
    "\n",
    "        # the subsequence exists, and it's the only group in the (sub)string;\n",
    "        if ('#' * current_value in string) and (Counter(string)['#'] == current_value):\n",
    "            \n",
    "            group_start_index = string.rindex('#')+1 # max characters is too many. increase the remaining characters.\n",
    "            memo[len(list_of_integers)].add(string[:group_start_index].replace('?','.'))\n",
    "            remaining_characters = string[group_start_index:]\n",
    "            limited_recursive_solve(remaining_characters, list_of_integers, memo)\n",
    "\n",
    "        # #there is at least one existing group\n",
    "        elif ('#' in string):\n",
    "            # more than one existing group; find the cutoff point based on the existing string. \n",
    "            if (Counter(string)['#'] > current_value):\n",
    "                found = False\n",
    "                for idx, symbol in string:\n",
    "                    if symbol == '#':\n",
    "                        found = True\n",
    "                    elif found == True:\n",
    "                        # for the second '#' and all subsequent, contine\n",
    "                        if symbol != '#':\n",
    "                            last_index = idx\n",
    "                            break\n",
    "                remaining_characters = string[last_index:]\n",
    "                limited_recursive_solve(remaining_characters, list_of_integers, memo) # call recursively on the remaining characters\n",
    "                string = string[:last_index] # cut off the non-contiguous value; spacers are left-facing? be aware that this messes up the req_remaining_values pointer?\n",
    "                #remaining characters ? \n",
    "                all_combos = set([x for x in permutations(string) if '#'*current_value in \"\".join(x)])\n",
    "\n",
    "        # now, continue on with the truncated string (just a single group)\n",
    "\n",
    "        if Counter(string)['#'] < current_value:\n",
    "            string = [x for x in string.replace('?','#',current_value-Counter(string)['#'])] # replace the correct number of instances of ? with #\n",
    "\n",
    "            valid_combos = set([\"\".join(x) for x in permutations(string) if ('#'*current_value in \"\".join(x)) and (x[0] != '#')]) \n",
    "            # find all matching substrings; leave left-side spacer\n",
    "            # TODO: add an additional check to ensure no hardcoded '.' values were overriden...?\n",
    "            # print(valid_combos, list_of_integers, current_value)\n",
    "            for y in valid_combos:\n",
    "                y = y.replace('?', '.')\n",
    "                short = y.rstrip('.')\n",
    "                shift_left = y.ljust(len(string), '.')\n",
    "                shift_right = y.rjust(len(string), '.')\n",
    "                for val in [y, short, shift_left, shift_right]:\n",
    "                    #print(list_of_integers)\n",
    "                    memo[len(list_of_integers)].add(val)\n",
    "\n",
    "                    limited_recursive_solve(\"\".join(string[len(val):]), list_of_integers, memo)\n",
    "\n",
    "                # limited_recursive_solve(\"\".join(string)[len(short):], [*list_of_integers], memo)\n",
    "                # memo[len(list_of_integers)].append(short)\n",
    "\n",
    "                #ending_index = \"\".join(string).rindex('#')+1\n",
    "                # if there's enough space in the string to hold the remaining values\n",
    "                # if len(string[ending_index:]) > len(list_of_integers)+sum(list_of_integers):\n",
    "            \n",
    "            # for z in memo[len(list_of_integers)]:\n",
    "            #     limited_recursive_solve(\"\".join(string)[ending_index:], [current_value], memo)\n",
    "\n",
    "        # else:\n",
    "            # there is no existing group remaining in the string... find combos for all remaining question marks?\n",
    "            # all_combos = permutations(string)\n",
    "            # valid_combos = set()\n",
    "            # for x in all_combos:\n",
    "            #     if ('#' * current_value in string) and (Counter(string)['#'] == current_value):\n",
    "\n",
    "        #      print('error')\n",
    "            \n",
    "        #print(all_combos)\n",
    "\n",
    "\n",
    "                # valid_combos = [x for x in all_combos if x[i]==prefix_string[i] for ]\n",
    "            # \n",
    "            # else:\n",
    "\n",
    "                # take string up to the last value;\n",
    "                # starting from the left-most group, find the next non-hashmark value. Check that there are enough question marks to That is the new ending of this sequence; call recursively on the remaining \n",
    "            # check if there is an existing group; or more than one\n",
    "            # slice off the end of the string?\n",
    "                \n",
    "            # with one known value, change only the question marks attached to the group\n",
    "\n",
    "            #all_combos = permutations(string)\n",
    "\n",
    "\n",
    "\n",
    "\n",
    "\n",
    "    return memo\n",
    "\n",
    "output = limited_recursive_solve(\"?###????????\", [3,2,1])\n",
    "# [(sorted(x), [len(y) for y in sorted(x)]) for x in output.values()]\n",
    "output"
   ]
  },
  {
   "cell_type": "code",
   "execution_count": null,
   "metadata": {},
   "outputs": [
    {
     "name": "stdout",
     "output_type": "stream",
     "text": [
      "[1]\n",
      "[1]\n",
      "[]\n",
      "[]\n",
      "[]\n",
      "[]\n",
      "[]\n",
      "[]\n",
      "[]\n",
      "[]\n",
      "[]\n",
      "[]\n",
      "[]\n",
      "[]\n",
      "[1]\n",
      "[1]\n",
      "[1]\n",
      "[1]\n",
      "[]\n",
      "[]\n",
      "[]\n",
      "[]\n",
      "[1]\n",
      "[1]\n",
      "[1]\n",
      "[1]\n",
      "[1]\n",
      "[1]\n",
      "[1]\n",
      "[1]\n",
      "[1]\n",
      "[1]\n",
      "[1]\n",
      "[1]\n",
      "[]\n",
      "[]\n",
      "[]\n",
      "[]\n",
      "[]\n",
      "[]\n",
      "[]\n",
      "[]\n",
      "[1]\n",
      "[1]\n",
      "[1]\n",
      "[1]\n",
      "[]\n",
      "[]\n",
      "[]\n",
      "[]\n",
      "[]\n",
      "[]\n",
      "[]\n",
      "[]\n",
      "[]\n",
      "[]\n",
      "[]\n",
      "[]\n",
      "[]\n",
      "[]\n",
      "[]\n",
      "[]\n",
      "[1]\n",
      "[1]\n"
     ]
    },
    {
     "data": {
      "text/plain": [
       "['.###.##.#...',\n",
       " '.###.##..#..',\n",
       " '.###.##...#.',\n",
       " '.###.##....#',\n",
       " '.###..##...#',\n",
       " '.###...##..#',\n",
       " '.###....##.#']"
      ]
     },
     "execution_count": 38,
     "metadata": {},
     "output_type": "execute_result"
    }
   ],
   "source": [
    "\n",
    "from itertools import product\n",
    "lst = [x for x in limited_recursive_solve(\"?###????????\", [3,2,1]).values()]\n",
    "[\"\".join(x) for x in sorted(list(product(*lst))) if len(\"\".join(x)) == 12]"
   ]
  },
  {
   "cell_type": "code",
   "execution_count": null,
   "metadata": {},
   "outputs": [],
   "source": [
    "\n",
    "\n",
    "    def iterative_solve(self):\n",
    "        from itertools import permutations\n",
    "        the_string = self.string[:]\n",
    "        print(the_string, self.integers)\n",
    "\n",
    "        levels = dict()\n",
    "        start_index=0\n",
    "        for levelnum, level in enumerate(self.integers):\n",
    "            # print(levelnum, the_string)\n",
    "            levels[levelnum] = []\n",
    "           \n",
    "            # print(the_string)\n",
    "            current_integer = self.integers[levelnum]\n",
    "            remaining_int_list = self.integers[levelnum+1:]\n",
    "            req_suffix_characters = len(remaining_int_list) + sum(remaining_int_list) # 1 + len(group) for each remaining group MINIMUM, TO SET A BOUNDARY\n",
    "            # if levelnum > 0: # for each level past the first, only slice from known\n",
    "            # #     the_string = self.string[max(len(levels[levelnum-1])):]\n",
    "            #     the_string = the_string[start_index:-req_suffix_characters]\n",
    "            #     print(the_string)\n",
    "\n",
    "            print(f\"for the integer {level}; {the_string}; {remaining_int_list} remains, requiring at least {req_suffix_characters} character spaces to finish\") # the first value does not need a separator and is bounded by the start of the string. all subsequent groups inclusive will have a separator [1(2(3(4]\n",
    "\n",
    "            \n",
    "            if len(remaining_int_list) > 1:\n",
    "\n",
    "                # print(f\"req_suffix_char is {req_suffix_characters}\")\n",
    "                available_characters = the_string[:-req_suffix_characters]\n",
    "                # print(available_characters)\n",
    "                # max_substring_length = len(the_string) - req_suffix_characters\n",
    "            else:\n",
    "                available_characters = the_string\n",
    "            \n",
    "            # if the contiguous group already exists:\n",
    "            if '#'*level in available_characters:\n",
    "                start_index = available_characters.rindex('#')\n",
    "                print(f'found you. group ends after index {start_index}')\n",
    "                levels[levelnum].append(the_string[:start_index+1].replace('?','.'))\n",
    "                # print(levels[levelnum])\n",
    "                # print(f' forcing the string back to {start_index}')\n",
    "                the_string = the_string[start_index+1:]\n",
    "                # print(the_string)\n",
    "                \n",
    "            else:\n",
    "                print('no immediate match found')\n",
    "                from collections import Counter\n",
    "                # add additional combinations\n",
    "                winning_string = [x for x in available_characters]\n",
    "                winning_string[:level] = '#' * level\n",
    "                for combo in set(permutations(\"\".join(winning_string))):\n",
    "                    # print(combo)\n",
    "                    if ('#'*level in \"\".join(combo)) and (Counter(combo)['#'] ==level) and (combo[0] != '#'):\n",
    "                        valid_combo = \"\".join(combo).replace('?','.')[:\"\".join(combo).rindex('#')+1]\n",
    "                        levels[levelnum].append(valid_combo)\n",
    "                        # print(valid_combo, valid_combo.ljust(len(self.string), '.'))\n",
    "                        # valid_combo = \"\".join(combo).replace('?','.')\n",
    "                        levels[levelnum].append(\"\".join(combo).ljust(len(winning_string), '.').replace('?','.'))\n",
    "                        #     print([len(x) for x in levels[levelnum]])\n",
    "                    # the_string = the_string[min([len(x) for x in levels[levelnum]]):]\n",
    "                    #remaining_vals = self.string[:max(len(x) for x in level)]\n",
    "                min_length_of_level = min([len(x) for x in levels[levelnum]])\n",
    "                # print(min_length_of_level)\n",
    "                the_string = the_string[min_length_of_level:]\n",
    "            print(the_string)\n",
    "\n",
    "        return levels\n",
    "\n",
    "    # def main(self):"
   ]
  },
  {
   "cell_type": "code",
   "execution_count": null,
   "metadata": {},
   "outputs": [],
   "source": []
  },
  {
   "cell_type": "code",
   "execution_count": null,
   "metadata": {},
   "outputs": [],
   "source": [
    "\n",
    "class SubStringCount:\n",
    "\n",
    "\n",
    "    def __init__(self, string, integers):\n",
    "        self.string = string\n",
    "        self.integers = integers\n",
    "        self.memo = dict() # in this memo, your keys will be tuple(string, tuple(int))\n",
    "\n",
    "\n",
    "                                # BIGSTRING (string, tuple(int))\n",
    "            ### :4\n",
    "            ## CHUNK 1 WINDOW SIZES 1, --> len(BIGSTRING)\n",
    "            ## MUST BE BOUNDED BY THE LEFT SIDE\n",
    "            ## [(string[1:], tuple(int)[1:]) -->,... (string[n:], tuple(int)[1:])]\n",
    "        \n",
    "        ## CHUNK TWO WINDOW SIZES \n",
    "        ## [(string[2:], tuple(int[2:])], ... (string[n:], tuple(int[2:])])\n",
    "\n",
    "        ## CHUNK THREE WINDOW SIZE --> \n",
    "        ## (string[3:], tuple(int[3:])], ... (string[n:], tuple(int[3:])], ... \n",
    "\n",
    "        ## CHUNK FOUR + WINDOW SIZE ETC...\n",
    "        ## (string[4:], tuple(int[4:])], ... (string[n:], tuple(int[4:])], ... \n",
    "\n",
    "    def iterative_solve(self):\n",
    "        from itertools import permutations\n",
    "        the_string = self.string[:]\n",
    "        print(the_string, self.integers)\n",
    "\n",
    "        levels = dict()\n",
    "        start_index=0\n",
    "        for levelnum, level in enumerate(self.integers):\n",
    "            # print(levelnum, the_string)\n",
    "            levels[levelnum] = []\n",
    "           \n",
    "            # print(the_string)\n",
    "            current_integer = self.integers[levelnum]\n",
    "            remaining_int_list = self.integers[levelnum+1:]\n",
    "            req_suffix_characters = len(remaining_int_list) + sum(remaining_int_list) # 1 + len(group) for each remaining group MINIMUM, TO SET A BOUNDARY\n",
    "            # if levelnum > 0: # for each level past the first, only slice from known\n",
    "            # #     the_string = self.string[max(len(levels[levelnum-1])):]\n",
    "            #     the_string = the_string[start_index:-req_suffix_characters]\n",
    "            #     print(the_string)\n",
    "\n",
    "            print(f\"for the integer {level}; {the_string}; {remaining_int_list} remains, requiring at least {req_suffix_characters} character spaces to finish\") # the first value does not need a separator and is bounded by the start of the string. all subsequent groups inclusive will have a separator [1(2(3(4]\n",
    "\n",
    "            \n",
    "            if len(remaining_int_list) > 1:\n",
    "\n",
    "                # print(f\"req_suffix_char is {req_suffix_characters}\")\n",
    "                available_characters = the_string[:-req_suffix_characters]\n",
    "                # print(available_characters)\n",
    "                # max_substring_length = len(the_string) - req_suffix_characters\n",
    "            else:\n",
    "                available_characters = the_string\n",
    "            \n",
    "            # if the contiguous group already exists:\n",
    "            if '#'*level in available_characters:\n",
    "                start_index = available_characters.rindex('#')\n",
    "                print(f'found you. group ends after index {start_index}')\n",
    "                levels[levelnum].append(the_string[:start_index+1].replace('?','.'))\n",
    "                # print(levels[levelnum])\n",
    "                # print(f' forcing the string back to {start_index}')\n",
    "                the_string = the_string[start_index+1:]\n",
    "                # print(the_string)\n",
    "                \n",
    "            else:\n",
    "                print('no immediate match found')\n",
    "                from collections import Counter\n",
    "                # add additional combinations\n",
    "                winning_string = [x for x in available_characters]\n",
    "                winning_string[:level] = '#' * level\n",
    "                for combo in set(permutations(\"\".join(winning_string))):\n",
    "                    # print(combo)\n",
    "                    if ('#'*level in \"\".join(combo)) and (Counter(combo)['#'] ==level) and (combo[0] != '#'):\n",
    "                        valid_combo = \"\".join(combo).replace('?','.')[:\"\".join(combo).rindex('#')+1]\n",
    "                        levels[levelnum].append(valid_combo)\n",
    "                        # print(valid_combo, valid_combo.ljust(len(self.string), '.'))\n",
    "                        # valid_combo = \"\".join(combo).replace('?','.')\n",
    "                        levels[levelnum].append(\"\".join(combo).ljust(len(winning_string), '.').replace('?','.'))\n",
    "                        #     print([len(x) for x in levels[levelnum]])\n",
    "                    # the_string = the_string[min([len(x) for x in levels[levelnum]]):]\n",
    "                    #remaining_vals = self.string[:max(len(x) for x in level)]\n",
    "                min_length_of_level = min([len(x) for x in levels[levelnum]])\n",
    "                # print(min_length_of_level)\n",
    "                the_string = the_string[min_length_of_level:]\n",
    "            print(the_string)\n",
    "\n",
    "        return levels\n",
    "\n",
    "    def main(self):\n",
    "        from itertools import product\n",
    "\n",
    "        all_possibles = [\"\".join(x) for x in list(product(*self.iterative_solve().values()))]\n",
    "        return [y for y in all_possibles if len(y) == len(self.string)]\n",
    "        return all_possibles\n",
    "    \n"
   ]
  },
  {
   "cell_type": "code",
   "execution_count": null,
   "metadata": {},
   "outputs": [
    {
     "name": "stdout",
     "output_type": "stream",
     "text": [
      "?###???????? [3, 2, 1]\n",
      "for the integer 3; ?###????????; [2, 1] remains, requiring at least 5 character spaces to finish\n",
      "found you. group ends after index 3\n",
      "????????\n",
      "for the integer 2; ????????; [1] remains, requiring at least 2 character spaces to finish\n",
      "no immediate match found\n",
      "\n",
      "for the integer 1; ; [] remains, requiring at least 0 character spaces to finish\n",
      "no immediate match found\n"
     ]
    },
    {
     "ename": "ValueError",
     "evalue": "min() arg is an empty sequence",
     "output_type": "error",
     "traceback": [
      "\u001b[1;31m---------------------------------------------------------------------------\u001b[0m",
      "\u001b[1;31mValueError\u001b[0m                                Traceback (most recent call last)",
      "Cell \u001b[1;32mIn[346], line 3\u001b[0m\n\u001b[0;32m      1\u001b[0m \u001b[38;5;66;03m# SubStringCount(*pairs[2]).iterative_solve()\u001b[39;00m\n\u001b[1;32m----> 3\u001b[0m output \u001b[38;5;241m=\u001b[39m \u001b[43mSubStringCount\u001b[49m\u001b[43m(\u001b[49m\u001b[38;5;124;43m\"\u001b[39;49m\u001b[38;5;124;43m?###????????\u001b[39;49m\u001b[38;5;124;43m\"\u001b[39;49m\u001b[43m,\u001b[49m\u001b[43m \u001b[49m\u001b[43m[\u001b[49m\u001b[38;5;241;43m3\u001b[39;49m\u001b[43m,\u001b[49m\u001b[38;5;241;43m2\u001b[39;49m\u001b[43m,\u001b[49m\u001b[38;5;241;43m1\u001b[39;49m\u001b[43m]\u001b[49m\u001b[43m)\u001b[49m\u001b[38;5;241;43m.\u001b[39;49m\u001b[43miterative_solve\u001b[49m\u001b[43m(\u001b[49m\u001b[43m)\u001b[49m\n\u001b[0;32m      4\u001b[0m output\n",
      "Cell \u001b[1;32mIn[345], line 84\u001b[0m, in \u001b[0;36mSubStringCount.iterative_solve\u001b[1;34m(self)\u001b[0m\n\u001b[0;32m     80\u001b[0m         levels[levelnum]\u001b[38;5;241m.\u001b[39mappend(\u001b[38;5;124m\"\u001b[39m\u001b[38;5;124m\"\u001b[39m\u001b[38;5;241m.\u001b[39mjoin(combo)\u001b[38;5;241m.\u001b[39mljust(\u001b[38;5;28mlen\u001b[39m(winning_string), \u001b[38;5;124m'\u001b[39m\u001b[38;5;124m.\u001b[39m\u001b[38;5;124m'\u001b[39m)\u001b[38;5;241m.\u001b[39mreplace(\u001b[38;5;124m'\u001b[39m\u001b[38;5;124m?\u001b[39m\u001b[38;5;124m'\u001b[39m,\u001b[38;5;124m'\u001b[39m\u001b[38;5;124m.\u001b[39m\u001b[38;5;124m'\u001b[39m))\n\u001b[0;32m     81\u001b[0m         \u001b[38;5;66;03m#     print([len(x) for x in levels[levelnum]])\u001b[39;00m\n\u001b[0;32m     82\u001b[0m     \u001b[38;5;66;03m# the_string = the_string[min([len(x) for x in levels[levelnum]]):]\u001b[39;00m\n\u001b[0;32m     83\u001b[0m     \u001b[38;5;66;03m#remaining_vals = self.string[:max(len(x) for x in level)]\u001b[39;00m\n\u001b[1;32m---> 84\u001b[0m min_length_of_level \u001b[38;5;241m=\u001b[39m \u001b[38;5;28;43mmin\u001b[39;49m\u001b[43m(\u001b[49m\u001b[43m[\u001b[49m\u001b[38;5;28;43mlen\u001b[39;49m\u001b[43m(\u001b[49m\u001b[43mx\u001b[49m\u001b[43m)\u001b[49m\u001b[43m \u001b[49m\u001b[38;5;28;43;01mfor\u001b[39;49;00m\u001b[43m \u001b[49m\u001b[43mx\u001b[49m\u001b[43m \u001b[49m\u001b[38;5;129;43;01min\u001b[39;49;00m\u001b[43m \u001b[49m\u001b[43mlevels\u001b[49m\u001b[43m[\u001b[49m\u001b[43mlevelnum\u001b[49m\u001b[43m]\u001b[49m\u001b[43m]\u001b[49m\u001b[43m)\u001b[49m\n\u001b[0;32m     85\u001b[0m \u001b[38;5;66;03m# print(min_length_of_level)\u001b[39;00m\n\u001b[0;32m     86\u001b[0m the_string \u001b[38;5;241m=\u001b[39m the_string[min_length_of_level:]\n",
      "\u001b[1;31mValueError\u001b[0m: min() arg is an empty sequence"
     ]
    }
   ],
   "source": [
    "# SubStringCount(*pairs[2]).iterative_solve()\n",
    "\n",
    "output = SubStringCount(\"?###????????\", [3,2,1]).iterative_solve()\n",
    "output"
   ]
  },
  {
   "cell_type": "code",
   "execution_count": null,
   "metadata": {},
   "outputs": [
    {
     "data": {
      "text/plain": [
       "[('.###', '.##', '....#'),\n",
       " ('.###', '.##', '....#'),\n",
       " ('.###', '.##', '.#'),\n",
       " ('.###', '.##', '.#...'),\n",
       " ('.###', '.##', '...#'),\n",
       " ('.###', '.##', '...#.'),\n",
       " ('.###', '.##', '..#'),\n",
       " ('.###', '.##', '..#..'),\n",
       " ('.###', '.##.....', '....#'),\n",
       " ('.###', '.##.....', '....#'),\n",
       " ('.###', '.##.....', '.#'),\n",
       " ('.###', '.##.....', '.#...'),\n",
       " ('.###', '.##.....', '...#'),\n",
       " ('.###', '.##.....', '...#.'),\n",
       " ('.###', '.##.....', '..#'),\n",
       " ('.###', '.##.....', '..#..'),\n",
       " ('.###', '......##', '....#'),\n",
       " ('.###', '......##', '....#'),\n",
       " ('.###', '......##', '.#'),\n",
       " ('.###', '......##', '.#...'),\n",
       " ('.###', '......##', '...#'),\n",
       " ('.###', '......##', '...#.'),\n",
       " ('.###', '......##', '..#'),\n",
       " ('.###', '......##', '..#..'),\n",
       " ('.###', '......##', '....#'),\n",
       " ('.###', '......##', '....#'),\n",
       " ('.###', '......##', '.#'),\n",
       " ('.###', '......##', '.#...'),\n",
       " ('.###', '......##', '...#'),\n",
       " ('.###', '......##', '...#.'),\n",
       " ('.###', '......##', '..#'),\n",
       " ('.###', '......##', '..#..'),\n",
       " ('.###', '.....##', '....#'),\n",
       " ('.###', '.....##', '....#'),\n",
       " ('.###', '.....##', '.#'),\n",
       " ('.###', '.....##', '.#...'),\n",
       " ('.###', '.....##', '...#'),\n",
       " ('.###', '.....##', '...#.'),\n",
       " ('.###', '.....##', '..#'),\n",
       " ('.###', '.....##', '..#..'),\n",
       " ('.###', '.....##.', '....#'),\n",
       " ('.###', '.....##.', '....#'),\n",
       " ('.###', '.....##.', '.#'),\n",
       " ('.###', '.....##.', '.#...'),\n",
       " ('.###', '.....##.', '...#'),\n",
       " ('.###', '.....##.', '...#.'),\n",
       " ('.###', '.....##.', '..#'),\n",
       " ('.###', '.....##.', '..#..'),\n",
       " ('.###', '....##', '....#'),\n",
       " ('.###', '....##', '....#'),\n",
       " ('.###', '....##', '.#'),\n",
       " ('.###', '....##', '.#...'),\n",
       " ('.###', '....##', '...#'),\n",
       " ('.###', '....##', '...#.'),\n",
       " ('.###', '....##', '..#'),\n",
       " ('.###', '....##', '..#..'),\n",
       " ('.###', '....##..', '....#'),\n",
       " ('.###', '....##..', '....#'),\n",
       " ('.###', '....##..', '.#'),\n",
       " ('.###', '....##..', '.#...'),\n",
       " ('.###', '....##..', '...#'),\n",
       " ('.###', '....##..', '...#.'),\n",
       " ('.###', '....##..', '..#'),\n",
       " ('.###', '....##..', '..#..'),\n",
       " ('.###', '...##', '....#'),\n",
       " ('.###', '...##', '....#'),\n",
       " ('.###', '...##', '.#'),\n",
       " ('.###', '...##', '.#...'),\n",
       " ('.###', '...##', '...#'),\n",
       " ('.###', '...##', '...#.'),\n",
       " ('.###', '...##', '..#'),\n",
       " ('.###', '...##', '..#..'),\n",
       " ('.###', '...##...', '....#'),\n",
       " ('.###', '...##...', '....#'),\n",
       " ('.###', '...##...', '.#'),\n",
       " ('.###', '...##...', '.#...'),\n",
       " ('.###', '...##...', '...#'),\n",
       " ('.###', '...##...', '...#.'),\n",
       " ('.###', '...##...', '..#'),\n",
       " ('.###', '...##...', '..#..'),\n",
       " ('.###', '..##', '....#'),\n",
       " ('.###', '..##', '....#'),\n",
       " ('.###', '..##', '.#'),\n",
       " ('.###', '..##', '.#...'),\n",
       " ('.###', '..##', '...#'),\n",
       " ('.###', '..##', '...#.'),\n",
       " ('.###', '..##', '..#'),\n",
       " ('.###', '..##', '..#..'),\n",
       " ('.###', '..##....', '....#'),\n",
       " ('.###', '..##....', '....#'),\n",
       " ('.###', '..##....', '.#'),\n",
       " ('.###', '..##....', '.#...'),\n",
       " ('.###', '..##....', '...#'),\n",
       " ('.###', '..##....', '...#.'),\n",
       " ('.###', '..##....', '..#'),\n",
       " ('.###', '..##....', '..#..')]"
      ]
     },
     "execution_count": 340,
     "metadata": {},
     "output_type": "execute_result"
    }
   ],
   "source": [
    "list(product(*output.values()))"
   ]
  },
  {
   "cell_type": "code",
   "execution_count": null,
   "metadata": {},
   "outputs": [
    {
     "data": {
      "text/plain": [
       "12"
      ]
     },
     "execution_count": 330,
     "metadata": {},
     "output_type": "execute_result"
    }
   ],
   "source": [
    "len(\"?###????????\")"
   ]
  },
  {
   "cell_type": "code",
   "execution_count": null,
   "metadata": {},
   "outputs": [],
   "source": []
  },
  {
   "cell_type": "code",
   "execution_count": null,
   "metadata": {},
   "outputs": [
    {
     "data": {
      "text/plain": [
       "['.###.##....#', '.###....##.#', '.###...##..#', '.###..##...#']"
      ]
     },
     "execution_count": 331,
     "metadata": {},
     "output_type": "execute_result"
    }
   ],
   "source": [
    "[h for h in (list(\"\".join(y) for y in product(*output.values()))) if len(h) == 12]"
   ]
  },
  {
   "cell_type": "code",
   "execution_count": null,
   "metadata": {},
   "outputs": [
    {
     "data": {
      "text/plain": [
       "['....#',\n",
       " '????#.......',\n",
       " '.#',\n",
       " '?#???.......',\n",
       " '...#',\n",
       " '???#?.......',\n",
       " '..#',\n",
       " '??#??.......']"
      ]
     },
     "execution_count": 332,
     "metadata": {},
     "output_type": "execute_result"
    }
   ],
   "source": [
    "output[2]"
   ]
  },
  {
   "cell_type": "code",
   "execution_count": null,
   "metadata": {},
   "outputs": [
    {
     "data": {
      "text/plain": [
       "[1, 12, 8]"
      ]
     },
     "execution_count": 333,
     "metadata": {},
     "output_type": "execute_result"
    }
   ],
   "source": [
    "[len(x) for x in output.values()]"
   ]
  },
  {
   "cell_type": "code",
   "execution_count": null,
   "metadata": {},
   "outputs": [
    {
     "data": {
      "text/plain": [
       "['.###.##....#', '.###..##...#', '.###...##..#', '.###....##.#']"
      ]
     },
     "execution_count": 334,
     "metadata": {},
     "output_type": "execute_result"
    }
   ],
   "source": [
    "sorted([\"\".join(x) for x in list(product(*output.values())) if len(\"\".join(x)) == len(\"?###????????\")])"
   ]
  },
  {
   "cell_type": "code",
   "execution_count": null,
   "metadata": {},
   "outputs": [
    {
     "ename": "NameError",
     "evalue": "name 'self' is not defined",
     "output_type": "error",
     "traceback": [
      "\u001b[1;31m---------------------------------------------------------------------------\u001b[0m",
      "\u001b[1;31mNameError\u001b[0m                                 Traceback (most recent call last)",
      "Cell \u001b[1;32mIn[275], line 4\u001b[0m\n\u001b[0;32m      1\u001b[0m \u001b[38;5;28;01mfrom\u001b[39;00m \u001b[38;5;21;01mitertools\u001b[39;00m \u001b[38;5;28;01mimport\u001b[39;00m product\n\u001b[0;32m      3\u001b[0m all_possibles \u001b[38;5;241m=\u001b[39m [\u001b[38;5;124m\"\u001b[39m\u001b[38;5;124m\"\u001b[39m\u001b[38;5;241m.\u001b[39mjoin(x) \u001b[38;5;28;01mfor\u001b[39;00m x \u001b[38;5;129;01min\u001b[39;00m \u001b[38;5;28mlist\u001b[39m(product(\u001b[38;5;241m*\u001b[39moutput\u001b[38;5;241m.\u001b[39mvalues()))]\n\u001b[1;32m----> 4\u001b[0m \u001b[43m[\u001b[49m\u001b[43my\u001b[49m\u001b[43m \u001b[49m\u001b[38;5;28;43;01mfor\u001b[39;49;00m\u001b[43m \u001b[49m\u001b[43my\u001b[49m\u001b[43m \u001b[49m\u001b[38;5;129;43;01min\u001b[39;49;00m\u001b[43m \u001b[49m\u001b[43mall_possibles\u001b[49m\u001b[43m \u001b[49m\u001b[38;5;28;43;01mif\u001b[39;49;00m\u001b[43m \u001b[49m\u001b[38;5;28;43mlen\u001b[39;49m\u001b[43m(\u001b[49m\u001b[43my\u001b[49m\u001b[43m)\u001b[49m\u001b[43m \u001b[49m\u001b[38;5;241;43m==\u001b[39;49m\u001b[43m \u001b[49m\u001b[38;5;28;43mlen\u001b[39;49m\u001b[43m(\u001b[49m\u001b[38;5;28;43mself\u001b[39;49m\u001b[38;5;241;43m.\u001b[39;49m\u001b[43mstring\u001b[49m\u001b[43m)\u001b[49m\u001b[43m]\u001b[49m\n",
      "Cell \u001b[1;32mIn[275], line 4\u001b[0m, in \u001b[0;36m<listcomp>\u001b[1;34m(.0)\u001b[0m\n\u001b[0;32m      1\u001b[0m \u001b[38;5;28;01mfrom\u001b[39;00m \u001b[38;5;21;01mitertools\u001b[39;00m \u001b[38;5;28;01mimport\u001b[39;00m product\n\u001b[0;32m      3\u001b[0m all_possibles \u001b[38;5;241m=\u001b[39m [\u001b[38;5;124m\"\u001b[39m\u001b[38;5;124m\"\u001b[39m\u001b[38;5;241m.\u001b[39mjoin(x) \u001b[38;5;28;01mfor\u001b[39;00m x \u001b[38;5;129;01min\u001b[39;00m \u001b[38;5;28mlist\u001b[39m(product(\u001b[38;5;241m*\u001b[39moutput\u001b[38;5;241m.\u001b[39mvalues()))]\n\u001b[1;32m----> 4\u001b[0m [y \u001b[38;5;28;01mfor\u001b[39;00m y \u001b[38;5;129;01min\u001b[39;00m all_possibles \u001b[38;5;28;01mif\u001b[39;00m \u001b[38;5;28mlen\u001b[39m(y) \u001b[38;5;241m==\u001b[39m \u001b[38;5;28mlen\u001b[39m(\u001b[38;5;28;43mself\u001b[39;49m\u001b[38;5;241m.\u001b[39mstring)]\n",
      "\u001b[1;31mNameError\u001b[0m: name 'self' is not defined"
     ]
    }
   ],
   "source": [
    "from itertools import product\n",
    "\n",
    "all_possibles = [\"\".join(x) for x in list(product(*output.values()))]\n",
    "[y for y in all_possibles if len(y) == len(self.string)]"
   ]
  },
  {
   "cell_type": "code",
   "execution_count": null,
   "metadata": {},
   "outputs": [
    {
     "name": "stdout",
     "output_type": "stream",
     "text": [
      "#.#.### [1, 1, 3]\n",
      "for the integer 1; #.#.###; [1, 3] remains, requiring at least 6 character spaces to finish\n",
      "found one. group ends after index 0\n",
      " forcing the string back to 0\n",
      "#.#.###\n",
      "#.#\n",
      "for the integer 1; #.#; [3] remains, requiring at least 4 character spaces to finish\n",
      "\n",
      "for the integer 3; ; [] remains, requiring at least 0 character spaces to finish\n",
      ".#...#....###. [1, 1, 3]\n",
      "for the integer 1; .#...#....###.; [1, 3] remains, requiring at least 6 character spaces to finish\n",
      "found one. group ends after index 5\n",
      " forcing the string back to 5\n",
      "#....###.\n",
      "\n",
      "for the integer 1; ; [3] remains, requiring at least 4 character spaces to finish\n",
      "\n",
      "for the integer 3; ; [] remains, requiring at least 0 character spaces to finish\n",
      ".#.###.#.###### [1, 3, 1, 6]\n",
      "for the integer 1; .#.###.#.######; [3, 1, 6] remains, requiring at least 13 character spaces to finish\n",
      "found one. group ends after index 1\n",
      " forcing the string back to 1\n",
      "#.###.#.######\n",
      ".###\n",
      "for the integer 3; .###; [1, 6] remains, requiring at least 9 character spaces to finish\n",
      "\n",
      "for the integer 1; ; [6] remains, requiring at least 7 character spaces to finish\n",
      "\n",
      "for the integer 6; ; [] remains, requiring at least 0 character spaces to finish\n",
      "####.#...#... [4, 1, 1]\n",
      "for the integer 4; ####.#...#...; [1, 1] remains, requiring at least 4 character spaces to finish\n",
      "found one. group ends after index 5\n",
      " forcing the string back to 5\n",
      "#...#...\n",
      ".\n",
      "for the integer 1; .; [1] remains, requiring at least 2 character spaces to finish\n",
      "\n",
      "for the integer 1; ; [] remains, requiring at least 0 character spaces to finish\n",
      "#....######..#####. [1, 6, 5]\n",
      "for the integer 1; #....######..#####.; [6, 5] remains, requiring at least 13 character spaces to finish\n",
      "found one. group ends after index 5\n",
      " forcing the string back to 5\n",
      "######..#####.\n",
      "#..\n",
      "for the integer 6; #..; [5] remains, requiring at least 6 character spaces to finish\n",
      "\n",
      "for the integer 5; ; [] remains, requiring at least 0 character spaces to finish\n",
      ".###.##....# [3, 2, 1]\n",
      "for the integer 3; .###.##....#; [2, 1] remains, requiring at least 5 character spaces to finish\n",
      "found one. group ends after index 6\n",
      " forcing the string back to 6\n",
      "#....#\n",
      "\n",
      "for the integer 2; ; [1] remains, requiring at least 2 character spaces to finish\n",
      "\n",
      "for the integer 1; ; [] remains, requiring at least 0 character spaces to finish\n"
     ]
    }
   ],
   "source": [
    "for pair in pairs:\n",
    "    SubStringCount(*pairs[pair]).iterative_solve()"
   ]
  },
  {
   "cell_type": "code",
   "execution_count": null,
   "metadata": {},
   "outputs": [],
   "source": [
    "\n",
    "class SubStringCount:\n",
    "\n",
    "\n",
    "    def __init__(self, string, integers):\n",
    "        self.string = string\n",
    "        self.integers = integers\n",
    "        self.memo = dict() # in this memo, your keys will be tuple(string, tuple(int))\n",
    "\n",
    "\n",
    "                                # BIGSTRING (string, tuple(int))\n",
    "            ### :4\n",
    "            ## CHUNK 1 WINDOW SIZES 1, --> len(BIGSTRING)\n",
    "            ## MUST BE BOUNDED BY THE LEFT SIDE\n",
    "            ## [(string[1:], tuple(int)[1:]) -->,... (string[n:], tuple(int)[1:])]\n",
    "        \n",
    "        ## CHUNK TWO WINDOW SIZES \n",
    "        ## [(string[2:], tuple(int[2:])], ... (string[n:], tuple(int[2:])])\n",
    "\n",
    "        ## CHUNK THREE WINDOW SIZE --> \n",
    "        ## (string[3:], tuple(int[3:])], ... (string[n:], tuple(int[3:])], ... \n",
    "\n",
    "        ## CHUNK FOUR + WINDOW SIZE ETC...\n",
    "        ## (string[4:], tuple(int[4:])], ... (string[n:], tuple(int[4:])], ... \n",
    "\n",
    "    def iterative_solve(self):\n",
    "        output = []\n",
    "        starting_index = 0\n",
    "        print(self.integers)\n",
    "        for levelnum, level in enumerate(self.integers):\n",
    "            print(f\"for the integer {level}\")\n",
    "            all_groupings = []\n",
    "            # if there's no hash...\n",
    "            # create all combinations. you can assume that each integer will require a space in between; and that that will limit the remaining space for your integers.\n",
    "            remaining_int_list = self.integers[levelnum+1:]\n",
    "            print(f'the remaining integers are {self.integers[levelnum+1:]} and so the last {len(remaining_int_list) + sum(remaining_int_list)} values are reserved to include those values.')\n",
    "            max_substring_length = len(self.string) - (len(remaining_int_list) + sum(remaining_int_list))\n",
    "            print(f\"the max substring length is {max_substring_length}\")\n",
    "            print(self.string[:max_substring_length])\n",
    "            print(f\"the available values are {self.string[max_substring_length:]}\")\n",
    "            # lower_level_results = \n",
    "\n",
    "    def recursive_solve(self, starting_string_index=0, starting_integer_index=0):\n",
    "        # there will be a nesting for each element of the list. \n",
    "\n",
    "        # there will be one or many ways to create each grouping.\n",
    "\n",
    "        substring = [x for x in self.string]\n",
    "\n",
    "        # substring[:starting_integer_index] = ['.'*starting_integer_index]\n"
   ]
  },
  {
   "cell_type": "code",
   "execution_count": null,
   "metadata": {},
   "outputs": [
    {
     "name": "stdout",
     "output_type": "stream",
     "text": [
      "?###???????? [3, 2, 1]\n",
      "for the integer 3\n",
      "found you. group ends at 3\n",
      "????????\n",
      "for the integer 2\n",
      "for the integer 1\n"
     ]
    }
   ],
   "source": [
    "# SubStringCount(*pairs[2]).iterative_solve()\n",
    "\n",
    "SubStringCount(\"?###????????\", [3,2,1]).iterative_solve()"
   ]
  },
  {
   "cell_type": "code",
   "execution_count": null,
   "metadata": {},
   "outputs": [],
   "source": [
    "\n",
    "class SubStringCount:\n",
    "\n",
    "\n",
    "    def __init__(self, string, integers):\n",
    "        self.string = string\n",
    "        self.integers = integers\n",
    "        self.memo = dict() # in this memo, your keys will be tuple(string, tuple(int))\n",
    "\n",
    "\n",
    "                                # BIGSTRING (string, tuple(int))\n",
    "            ### :4\n",
    "            ## CHUNK 1 WINDOW SIZES 1, --> len(BIGSTRING)\n",
    "            ## MUST BE BOUNDED BY THE LEFT SIDE\n",
    "            ## [(string[1:], tuple(int)[1:]) -->,... (string[n:], tuple(int)[1:])]\n",
    "        \n",
    "        ## CHUNK TWO WINDOW SIZES \n",
    "        ## [(string[2:], tuple(int[2:])], ... (string[n:], tuple(int[2:])])\n",
    "\n",
    "        ## CHUNK THREE WINDOW SIZE --> \n",
    "        ## (string[3:], tuple(int[3:])], ... (string[n:], tuple(int[3:])], ... \n",
    "\n",
    "        ## CHUNK FOUR + WINDOW SIZE ETC...\n",
    "        ## (string[4:], tuple(int[4:])], ... (string[n:], tuple(int[4:])], ... \n",
    "\n",
    "    def iterative_solve(self):\n",
    "        output = []\n",
    "        starting_index = 0\n",
    "        print(self.integers)\n",
    "        for levelnum, level in enumerate(self.integers):\n",
    "            print(f\"for the integer {level}\")\n",
    "            all_groupings = []\n",
    "            # if there's no hash...\n",
    "            # create all combinations. you can assume that each integer will require a space in between; and that that will limit the remaining space for your integers.\n",
    "            remaining_int_list = self.integers[levelnum+1:]\n",
    "            print(f'the remaining integers are {self.integers[levelnum+1:]} and so the last {len(remaining_int_list) + sum(remaining_int_list)} values are reserved to include those values.')\n",
    "            max_substring_length = len(self.string) - (len(remaining_int_list) + sum(remaining_int_list))\n",
    "            print(f\"the max substring length is {max_substring_length}\")\n",
    "            print(self.string[:max_substring_length])\n",
    "            print(f\"the available values are {self.string[max_substring_length:]}\")\n",
    "            # lower_level_results = \n",
    "\n",
    "    def recursive_solve(self, starting_string_index=0, starting_integer_index=0):\n",
    "        # there will be a nesting for each element of the list. \n",
    "\n",
    "        # there will be one or many ways to create each grouping.\n",
    "\n",
    "        substring = [x for x in self.string]\n",
    "\n",
    "        # substring[:starting_integer_index] = ['.'*starting_integer_index]\n"
   ]
  },
  {
   "cell_type": "code",
   "execution_count": null,
   "metadata": {},
   "outputs": [
    {
     "name": "stdout",
     "output_type": "stream",
     "text": [
      "[1, 3, 1, 6]\n",
      "for the integer 1\n",
      "the remaining integers are [3, 1, 6] and so the last 13 values are reserved to include those values.\n",
      "the max substring length is 1\n",
      "#\n",
      "the available values are .###.#.######\n",
      "for the integer 3\n",
      "the remaining integers are [1, 6] and so the last 9 values are reserved to include those values.\n",
      "the max substring length is 5\n",
      "#.###\n",
      "the available values are .#.######\n",
      "for the integer 1\n",
      "the remaining integers are [6] and so the last 7 values are reserved to include those values.\n",
      "the max substring length is 7\n",
      "#.###.#\n",
      "the available values are .######\n",
      "for the integer 6\n",
      "the remaining integers are [] and so the last 0 values are reserved to include those values.\n",
      "the max substring length is 14\n",
      "#.###.#.######\n",
      "the available values are \n"
     ]
    }
   ],
   "source": [
    "# SubStringCount(\"?????#?????\", [2]).iterative_solve()\n",
    "SubStringCount(\"#.###.#.######\", [1,3,1,6]).iterative_solve()"
   ]
  },
  {
   "cell_type": "code",
   "execution_count": null,
   "metadata": {},
   "outputs": [],
   "source": [
    "test_strings = [(\"?????#?????\", [2]), # -->  should return 2? or two lists inside a list?\n",
    "                ] "
   ]
  },
  {
   "cell_type": "code",
   "execution_count": null,
   "metadata": {},
   "outputs": [],
   "source": [
    "def return_valid_combinations(string, lst):\n",
    "    '''accept a string and a list.\n",
    "    \n",
    "    return a list of strings of equal length to `string`.\n",
    "    each string much have all hardoded characters the same.\n",
    "    each string must have contiguous groups of the # symbol of lengths equal to the integer in `lst`'''\n",
    "    # count existing hashes.. assert they are contiguous\n",
    "    from collections import Counter\n",
    "    counter = Counter([x for x in string])\n",
    "    print(counter)\n",
    "    if '#'*lst in string[:string.rindex('#')]:\n",
    "        # value found. find all subsequences?\n",
    "    if counter['#'] == lst[0]\n",
    "    # only operate on the first hash.\n",
    "    first_hash = string.find('#')\n",
    "    # if contiguous, but insufficient to match the 0th lst value:\n",
    "    # the combinations exist alongside the given value. \n",
    "\n",
    "    # for all preceding characters, force to period. for the character following, force to period.\n",
    "\n",
    "\n",
    "    # continue the binary tree (As its easier to do so than it is to i)\n",
    "\n",
    "    # recognize the last element of `lst`. compute only those combinations which utilize the remaining character space\n",
    "    \n"
   ]
  },
  {
   "cell_type": "code",
   "execution_count": null,
   "metadata": {},
   "outputs": [],
   "source": []
  },
  {
   "cell_type": "code",
   "execution_count": null,
   "metadata": {},
   "outputs": [],
   "source": []
  },
  {
   "cell_type": "code",
   "execution_count": null,
   "metadata": {},
   "outputs": [],
   "source": [
    "# accept a string, return the length of each of the groups of hashes which are separated by a period symbol\n",
    "\n",
    "\n",
    "def accept_string(string):\n",
    "\n",
    "    hash_groups = [x for x in string.split('.') if len(x) > 0]\n",
    "\n",
    "    return [len(x) for x in hash_groups]"
   ]
  },
  {
   "cell_type": "code",
   "execution_count": null,
   "metadata": {},
   "outputs": [
    {
     "name": "stdout",
     "output_type": "stream",
     "text": [
      "[1, 1, 3]\n",
      "[1, 1, 3]\n",
      "[1, 3, 1, 6]\n",
      "[4, 1, 1]\n",
      "[1, 6, 5]\n",
      "[3, 2, 1]\n"
     ]
    }
   ],
   "source": [
    "for x in pairs:\n",
    "    print(accept_string(pairs[x][0]))"
   ]
  },
  {
   "cell_type": "code",
   "execution_count": null,
   "metadata": {},
   "outputs": [],
   "source": [
    "\n",
    "def recursive_string_search(string:str, target_values:list):\n",
    "\n",
    "    hash_groups = [x for x in string.split('.') if len(x) > 0]\n",
    "    print(hash_groups)\n",
    "\n",
    "    #return [len(x) for x in hash_groups]"
   ]
  },
  {
   "cell_type": "code",
   "execution_count": null,
   "metadata": {},
   "outputs": [
    {
     "name": "stdout",
     "output_type": "stream",
     "text": [
      "['#', '#', '###']\n"
     ]
    }
   ],
   "source": [
    "recursive_string_search(*pairs[0])"
   ]
  },
  {
   "cell_type": "code",
   "execution_count": null,
   "metadata": {},
   "outputs": [
    {
     "data": {
      "text/plain": [
       "['##?', '?##?', '??##?', '???##?', '????##?', '?????##?', '??????##']"
      ]
     },
     "execution_count": 59,
     "metadata": {},
     "output_type": "execute_result"
    }
   ],
   "source": [
    "# now we have to deal with some ambiguity.  For the next string, I want a function which returns a list of strings; \n",
    "# after hardcoding, we will introduce a memo object (for the next call). For now, simply return all substrings of the substring which create a group of length == target_value (2)\n",
    "mystring = \"?###????????\", [3,2,1]\n",
    "# assume we chopped off the first 5 characters -- this is the only combination of those values which produces a single continguous group of length 3, the first target.\n",
    "mystring = \"???????\"\n",
    "\n",
    "def accept_ambiguity(substring, target_value):\n",
    "    #target_value = target_values.pop(0)\n",
    "    all_valid = []\n",
    "    # print(target_value)\n",
    "    all_prefixes = []\n",
    "    for idx, ch in enumerate(substring):\n",
    "        try:\n",
    "            new_out = [x for x in substring]\n",
    "            new_out[idx:idx+1] = '#' * target_value\n",
    "            cutoff = \"\".join(new_out).rindex('#')+target_value # bounded separation\n",
    "            valid_prefix = \"\".join(new_out[:cutoff])\n",
    "            remaining_string = \"\".join(substring[cutoff:]) \n",
    "            all_valid.append(valid_prefix)\n",
    "            # print(valid_prefix, remaining_string)\n",
    "        except IndexError:\n",
    "            pass\n",
    "    \n",
    "    # for prefix in all_prefixes:\n",
    "    #         valid_suffixes = accept_ambiguity(remaining_string, [target_values[0]])\n",
    "    #         for valid_suffix in valid_suffixes:\n",
    "    #                 print(valid_suffix)\n",
    "    #                 all_valid.append(valid_prefix + valid_suffix)\n",
    "                    # print(all_valid)\n",
    "\n",
    "        # \"\".join(new_out[:cutoff])\n",
    "    return all_valid\n",
    "accept_ambiguity('???????', 2)"
   ]
  },
  {
   "cell_type": "code",
   "execution_count": null,
   "metadata": {},
   "outputs": [],
   "source": [
    "output = list()\n",
    "\n",
    "for valid_prefix in accept_ambiguity('???????', 2):\n",
    "    remaining_string = '???????'[len(valid_prefix):]\n",
    "    for valid_suffix in accept_ambiguity(remaining_string, 1):\n",
    "        valid_string = valid_prefix + valid_suffix\n",
    "        if len(valid_string) == 7:# length of original substring\n",
    "            output.append(valid_string)\n",
    "    "
   ]
  },
  {
   "cell_type": "code",
   "execution_count": null,
   "metadata": {},
   "outputs": [
    {
     "data": {
      "text/plain": [
       "['##????#', '?##???#', '??##??#', '???##?#']"
      ]
     },
     "execution_count": 63,
     "metadata": {},
     "output_type": "execute_result"
    }
   ],
   "source": [
    "[x for x in output if len(x) == 7]# and ([len(y) for y in x.replace('?','.').split('.') if len(y) > 0] == [2,1])]"
   ]
  },
  {
   "cell_type": "code",
   "execution_count": null,
   "metadata": {},
   "outputs": [
    {
     "ename": "TypeError",
     "evalue": "'set' object is not subscriptable",
     "output_type": "error",
     "traceback": [
      "\u001b[1;31m---------------------------------------------------------------------------\u001b[0m",
      "\u001b[1;31mTypeError\u001b[0m                                 Traceback (most recent call last)",
      "Cell \u001b[1;32mIn[55], line 2\u001b[0m\n\u001b[0;32m      1\u001b[0m \u001b[38;5;66;03m# [x for x in output if \u001b[39;00m\n\u001b[1;32m----> 2\u001b[0m \u001b[43moutput\u001b[49m\u001b[43m[\u001b[49m\u001b[38;5;241;43m0\u001b[39;49m\u001b[43m]\u001b[49m\u001b[38;5;241m.\u001b[39mreplace(\u001b[38;5;124m'\u001b[39m\u001b[38;5;124m?\u001b[39m\u001b[38;5;124m'\u001b[39m,\u001b[38;5;124m'\u001b[39m\u001b[38;5;124m.\u001b[39m\u001b[38;5;124m'\u001b[39m)\u001b[38;5;241m.\u001b[39msplit(\u001b[38;5;124m'\u001b[39m\u001b[38;5;124m.\u001b[39m\u001b[38;5;124m'\u001b[39m)\u001b[38;5;66;03m#]# == [2,1]\u001b[39;00m\n",
      "\u001b[1;31mTypeError\u001b[0m: 'set' object is not subscriptable"
     ]
    }
   ],
   "source": [
    "# [x for x in output if \n",
    "output[0].replace('?','.').split('.')#]# == [2,1]"
   ]
  },
  {
   "cell_type": "code",
   "execution_count": null,
   "metadata": {},
   "outputs": [],
   "source": []
  },
  {
   "cell_type": "code",
   "execution_count": null,
   "metadata": {},
   "outputs": [],
   "source": []
  },
  {
   "cell_type": "code",
   "execution_count": null,
   "metadata": {},
   "outputs": [],
   "source": [
    "# good. finally, we want to be able to pass the remainder of the string to the next value in our target list:\n",
    "\n"
   ]
  },
  {
   "cell_type": "code",
   "execution_count": null,
   "metadata": {},
   "outputs": [
    {
     "data": {
      "text/plain": [
       "'#.#..#.'"
      ]
     },
     "execution_count": 33,
     "metadata": {},
     "output_type": "execute_result"
    }
   ],
   "source": [
    "# enter the string. \n",
    "# worst case scenario -- all unknown values\n",
    "#  list of integers\n",
    "\n",
    "from itertools import permutations\n",
    "all_permutations = set(permutations(\"##..#..\"))\n",
    "for x in all_permutations:\n",
    "    permutation = \"\".join(x)\n",
    "permutation\n",
    "# print(len(list(all_permutations)))\n"
   ]
  },
  {
   "cell_type": "code",
   "execution_count": null,
   "metadata": {},
   "outputs": [],
   "source": [
    "for y in all_permutations:\n",
    "    permutation = \"\".join(y)\n",
    "    # if (permutation) # the number (and sequence, of remaining) integers is equivalent to the remainder of the integer list;\n",
    "    # store those combinations? add them?"
   ]
  },
  {
   "cell_type": "code",
   "execution_count": null,
   "metadata": {},
   "outputs": [
    {
     "name": "stdout",
     "output_type": "stream",
     "text": [
      "#\n",
      "#\n",
      "#\n",
      "?\n",
      "?\n",
      "?\n",
      "?\n",
      "?\n",
      "?\n",
      "?\n",
      "?\n"
     ]
    }
   ],
   "source": [
    "# each value in the string can one of three values. it can be a pool; it can be empty; or it can be unknown. \n",
    "\n",
    "class Node:\n",
    "    def __init__(self, value):\n",
    "        self.value = value\n",
    "\n",
    "        if self.value == '?':\n",
    "            self.unknown = True\n",
    "        else:\n",
    "            self.unknown = False\n",
    "            \n",
    "\n",
    "    def __repr__(self):\n",
    "        return str(self.value)\n",
    "    \n",
    "class LinkedList:\n",
    "    def __init__(self, values, integers):\n",
    "        self.values = [Node(x) for x in values]\n",
    "        self.integers = integers\n",
    "\n",
    "    \n",
    "    def valid_combos_from_substring(self):\n",
    "        known_values = [self.value[0]]\n",
    "        desired_value = self.integers.pop(0)\n",
    "        \n",
    "        \n",
    "        for val in self.values[1:]:\n",
    "\n",
    "\n",
    "        # beginning from left:\n",
    "        \n",
    "    def __repr__(self):\n",
    "        return \"\".join(str(x) for x in self.values)\n",
    "    \n",
    "\n",
    "my_ll = LinkedList(\"?###????????\", [3,2,1])\n",
    "\n",
    "# for x in my_ll.values:\n",
    "#     print(x.next_node)"
   ]
  },
  {
   "cell_type": "code",
   "execution_count": null,
   "metadata": {},
   "outputs": [],
   "source": [
    "\n",
    "for y in permutations(7*'?'):\n",
    "    if [len(x) for x in y.]\n"
   ]
  },
  {
   "cell_type": "code",
   "execution_count": null,
   "metadata": {},
   "outputs": [],
   "source": [
    "#pairs[6] = (\"?###????????\", [3,2,1])\n",
    "left_side_remaining = \"?#?....##...?##?..\"\n",
    "remaining_indices = [1,2,3]\n",
    "\n",
    "\n",
    "left_side_remaining, remaining_indices =  (\"?###????????\", [3,2,1])\n",
    "left_side_remaining = \"?#?....##...?##?..\"\n",
    "\n"
   ]
  },
  {
   "cell_type": "code",
   "execution_count": null,
   "metadata": {},
   "outputs": [
    {
     "data": {
      "text/plain": [
       "'?#?'"
      ]
     },
     "execution_count": 12,
     "metadata": {},
     "output_type": "execute_result"
    }
   ],
   "source": [
    "import re\n",
    "\n",
    "memo[3] = [[1][1,1][2,][3]] # possible integer combinations...\n",
    "\n",
    "curr_stop = left_side_remaining.index('.')\n",
    "curr_window = left_side_remaining[:curr_stop]\n",
    "curr_window # we know that the window can only have ? and # characters.\n",
    "# this section could be [1,] [1,1], [2], or [3]\n",
    "# we also know that this section WILL refer to at least the first integer in remaining indices"
   ]
  },
  {
   "cell_type": "code",
   "execution_count": null,
   "metadata": {},
   "outputs": [],
   "source": [
    "class Remember:\n",
    "\n",
    "    def __init__(self, data):\n",
    "        self.left_side, self.right_side = data\n",
    "        self.memo_obj = dict() # memo keys are tuples of (remaining_rightside, substring)\n",
    "\n",
    "    \n",
    "    def recursive_search(self, substring, integer):\n",
    "        from collections import Counter\n",
    "        # base_case\n",
    "        if (integer * '#' in substring) and (Counter(substring)['#'] == integer):\n",
    "            \n",
    "            return True"
   ]
  },
  {
   "cell_type": "markdown",
   "metadata": {},
   "source": [
    "Problems:\n",
    "\n",
    "- no '.' to index to -- no '#' to start group -- multiple remaining integers\n",
    "\n"
   ]
  },
  {
   "cell_type": "code",
   "execution_count": null,
   "metadata": {},
   "outputs": [],
   "source": [
    "integer_one_combinations = ['.#.']\n",
    "integer_two_combinations = ['.##.']\n",
    "integer_three_combinations = ['.###.']"
   ]
  },
  {
   "cell_type": "code",
   "execution_count": null,
   "metadata": {},
   "outputs": [
    {
     "name": "stdout",
     "output_type": "stream",
     "text": [
      " analyzing for group 3\n",
      "[{'?###'}]\n",
      "???????\n",
      " analyzing for group 2\n"
     ]
    },
    {
     "ename": "KeyboardInterrupt",
     "evalue": "",
     "output_type": "error",
     "traceback": [
      "\u001b[1;31m---------------------------------------------------------------------------\u001b[0m",
      "\u001b[1;31mKeyboardInterrupt\u001b[0m                         Traceback (most recent call last)",
      "Cell \u001b[1;32mIn[34], line 45\u001b[0m\n\u001b[0;32m     40\u001b[0m     \u001b[38;5;28;01mcontinue\u001b[39;00m\n\u001b[0;32m     43\u001b[0m \u001b[38;5;28;01melse\u001b[39;00m:\n\u001b[1;32m---> 45\u001b[0m     \u001b[38;5;28;01mwhile\u001b[39;00m \u001b[43mCounter\u001b[49m\u001b[43m(\u001b[49m\u001b[43msubstring\u001b[49m\u001b[43m)\u001b[49m[\u001b[38;5;124m'\u001b[39m\u001b[38;5;124m#\u001b[39m\u001b[38;5;124m'\u001b[39m] \u001b[38;5;241m!=\u001b[39m group_length:\n\u001b[0;32m     46\u001b[0m         \u001b[38;5;66;03m# print(substring)\u001b[39;00m\n\u001b[0;32m     47\u001b[0m         substring\u001b[38;5;241m.\u001b[39mreplace(\u001b[38;5;124m'\u001b[39m\u001b[38;5;124m?\u001b[39m\u001b[38;5;124m'\u001b[39m, \u001b[38;5;124m'\u001b[39m\u001b[38;5;124m#\u001b[39m\u001b[38;5;124m'\u001b[39m, \u001b[38;5;241m1\u001b[39m)\n\u001b[0;32m     48\u001b[0m         \u001b[38;5;66;03m# counter = Counter()\u001b[39;00m\n\u001b[0;32m     49\u001b[0m     \u001b[38;5;66;03m# print(substring)\u001b[39;00m\n",
      "File \u001b[1;32mc:\\Users\\polan\\AppData\\Local\\Programs\\Python\\Python311\\Lib\\collections\\__init__.py:596\u001b[0m, in \u001b[0;36mCounter.__init__\u001b[1;34m(self, iterable, **kwds)\u001b[0m\n\u001b[0;32m    585\u001b[0m \u001b[38;5;28;01mdef\u001b[39;00m \u001b[38;5;21m__init__\u001b[39m(\u001b[38;5;28mself\u001b[39m, iterable\u001b[38;5;241m=\u001b[39m\u001b[38;5;28;01mNone\u001b[39;00m, \u001b[38;5;241m/\u001b[39m, \u001b[38;5;241m*\u001b[39m\u001b[38;5;241m*\u001b[39mkwds):\n\u001b[0;32m    586\u001b[0m \u001b[38;5;250m    \u001b[39m\u001b[38;5;124;03m'''Create a new, empty Counter object.  And if given, count elements\u001b[39;00m\n\u001b[0;32m    587\u001b[0m \u001b[38;5;124;03m    from an input iterable.  Or, initialize the count from another mapping\u001b[39;00m\n\u001b[0;32m    588\u001b[0m \u001b[38;5;124;03m    of elements to their counts.\u001b[39;00m\n\u001b[1;32m   (...)\u001b[0m\n\u001b[0;32m    594\u001b[0m \n\u001b[0;32m    595\u001b[0m \u001b[38;5;124;03m    '''\u001b[39;00m\n\u001b[1;32m--> 596\u001b[0m     \u001b[38;5;28msuper\u001b[39m()\u001b[38;5;241m.\u001b[39m\u001b[38;5;21m__init__\u001b[39m()\n\u001b[0;32m    597\u001b[0m     \u001b[38;5;28mself\u001b[39m\u001b[38;5;241m.\u001b[39mupdate(iterable, \u001b[38;5;241m*\u001b[39m\u001b[38;5;241m*\u001b[39mkwds)\n",
      "\u001b[1;31mKeyboardInterrupt\u001b[0m: "
     ]
    }
   ],
   "source": [
    "from collections import Counter\n",
    "from itertools import permutations\n",
    "\n",
    "left_side_remaining = \"?#?....##...?##?..\"\n",
    "remaining_indices = [1,2,3]\n",
    "\n",
    "\n",
    "left_side_remaining, remaining_indices =  (\"?###????????\", [3,2,1])\n",
    "groups = []\n",
    "\n",
    "#current_substring = left_side\n",
    "\n",
    "while len(remaining_indices) > 0:\n",
    "    group_length = remaining_indices.pop(0)\n",
    "    print(f\" analyzing for group_length {group_length}\")\n",
    "\n",
    "    try:\n",
    "        current_hash = left_side_remaining.index('#')\n",
    "        # print(current_hash)\n",
    "    except ValueError:\n",
    "        current_hash = 0\n",
    "    try:\n",
    "        close_group = left_side_remaining[current_hash:].index('.')\n",
    "    except ValueError:\n",
    "        close_group = len(left_side_remaining)\n",
    "\n",
    "    # print(current_hash, close_group)\n",
    "\n",
    "        \n",
    "    substring = left_side_remaining[:current_hash+close_group]\n",
    "\n",
    "    counter = Counter(substring)\n",
    "    if (counter['#'] == group_length) and (len(remaining_indices) > 0) and len(substring) == len(left_side_remaining):\n",
    "        # you already have your next value:\n",
    "        groups.append({left_side_remaining[:substring.rindex('#')+1]})\n",
    "        print(groups)\n",
    "        current_hash = substring.rindex('#')\n",
    "\n",
    "        left_side_remaining = left_side_remaining[substring.rindex('#')+current_hash+1:]\n",
    "        print(left_side_remaining)\n",
    "        continue\n",
    "    \n",
    "    \n",
    "    else:\n",
    "        \n",
    "        while Counter(substring)['#'] != group_length:\n",
    "            # print(substring)\n",
    "            substring.replace('?', '#', 1)\n",
    "            # counter = Counter()\n",
    "        # print(substring)\n",
    "\n",
    "        print(substring)\n",
    "        index_group = set()\n",
    "        ## compute the number of possibles which \n",
    "        for permutation in permutations(substring):\n",
    "            permutation = \"\".join([x for x in permutation if x != '.'])\n",
    "\n",
    "            if \"#\" * group_length in permutation:\n",
    "            # if :\n",
    "                index_group.add(permutation)\n",
    "            # else:\n",
    "            #     substring.index('?')\n",
    "\n",
    "        groups.append(index_group)\n",
    "        print(groups)\n",
    "    # print(groups)\n",
    "        left_side_remaining = left_side_remaining[current_hash+close_group:]\n"
   ]
  },
  {
   "cell_type": "code",
   "execution_count": null,
   "metadata": {},
   "outputs": [],
   "source": [
    "\n",
    "from math import prod\n",
    "prod([len(x) for x in groups])"
   ]
  },
  {
   "cell_type": "code",
   "execution_count": null,
   "metadata": {},
   "outputs": [
    {
     "name": "stdout",
     "output_type": "stream",
     "text": [
      "3\n",
      "?###????????\n"
     ]
    },
    {
     "ename": "KeyboardInterrupt",
     "evalue": "",
     "output_type": "error",
     "traceback": [
      "\u001b[1;31m---------------------------------------------------------------------------\u001b[0m",
      "\u001b[1;31mKeyboardInterrupt\u001b[0m                         Traceback (most recent call last)",
      "Cell \u001b[1;32mIn[322], line 35\u001b[0m\n\u001b[0;32m     33\u001b[0m \u001b[38;5;66;03m## compute the number of possibles which \u001b[39;00m\n\u001b[0;32m     34\u001b[0m \u001b[38;5;28;01mfor\u001b[39;00m permutation \u001b[38;5;129;01min\u001b[39;00m permutations(substring):\n\u001b[1;32m---> 35\u001b[0m     permutation \u001b[38;5;241m=\u001b[39m \u001b[38;5;124m\"\u001b[39m\u001b[38;5;124m\"\u001b[39m\u001b[38;5;241m.\u001b[39mjoin(\u001b[43m[\u001b[49m\u001b[43mx\u001b[49m\u001b[43m \u001b[49m\u001b[38;5;28;43;01mfor\u001b[39;49;00m\u001b[43m \u001b[49m\u001b[43mx\u001b[49m\u001b[43m \u001b[49m\u001b[38;5;129;43;01min\u001b[39;49;00m\u001b[43m \u001b[49m\u001b[43mpermutation\u001b[49m\u001b[43m \u001b[49m\u001b[38;5;28;43;01mif\u001b[39;49;00m\u001b[43m \u001b[49m\u001b[43mx\u001b[49m\u001b[43m \u001b[49m\u001b[38;5;241;43m!=\u001b[39;49m\u001b[43m \u001b[49m\u001b[38;5;124;43m'\u001b[39;49m\u001b[38;5;124;43m.\u001b[39;49m\u001b[38;5;124;43m'\u001b[39;49m\u001b[43m]\u001b[49m)\n\u001b[0;32m     37\u001b[0m     \u001b[38;5;28;01mif\u001b[39;00m \u001b[38;5;124m\"\u001b[39m\u001b[38;5;124m#\u001b[39m\u001b[38;5;124m\"\u001b[39m \u001b[38;5;241m*\u001b[39m group_length \u001b[38;5;129;01min\u001b[39;00m permutation:\n\u001b[0;32m     38\u001b[0m     \u001b[38;5;66;03m# if :\u001b[39;00m\n\u001b[0;32m     39\u001b[0m         index_group\u001b[38;5;241m.\u001b[39madd(permutation)\n",
      "Cell \u001b[1;32mIn[322], line 35\u001b[0m, in \u001b[0;36m<listcomp>\u001b[1;34m(.0)\u001b[0m\n\u001b[0;32m     33\u001b[0m \u001b[38;5;66;03m## compute the number of possibles which \u001b[39;00m\n\u001b[0;32m     34\u001b[0m \u001b[38;5;28;01mfor\u001b[39;00m permutation \u001b[38;5;129;01min\u001b[39;00m permutations(substring):\n\u001b[1;32m---> 35\u001b[0m     permutation \u001b[38;5;241m=\u001b[39m \u001b[38;5;124m\"\u001b[39m\u001b[38;5;124m\"\u001b[39m\u001b[38;5;241m.\u001b[39mjoin([x \u001b[38;5;28;01mfor\u001b[39;00m x \u001b[38;5;129;01min\u001b[39;00m permutation \u001b[38;5;28;01mif\u001b[39;00m x \u001b[38;5;241m!=\u001b[39m \u001b[38;5;124m'\u001b[39m\u001b[38;5;124m.\u001b[39m\u001b[38;5;124m'\u001b[39m])\n\u001b[0;32m     37\u001b[0m     \u001b[38;5;28;01mif\u001b[39;00m \u001b[38;5;124m\"\u001b[39m\u001b[38;5;124m#\u001b[39m\u001b[38;5;124m\"\u001b[39m \u001b[38;5;241m*\u001b[39m group_length \u001b[38;5;129;01min\u001b[39;00m permutation:\n\u001b[0;32m     38\u001b[0m     \u001b[38;5;66;03m# if :\u001b[39;00m\n\u001b[0;32m     39\u001b[0m         index_group\u001b[38;5;241m.\u001b[39madd(permutation)\n",
      "\u001b[1;31mKeyboardInterrupt\u001b[0m: "
     ]
    }
   ],
   "source": [
    "from collections import Counter\n",
    "from itertools import permutations\n",
    "\n",
    "left_side_remaining = \"?#?....##...?##?..\"\n",
    "remaining_indices = [1,2,3]\n",
    "\n",
    "\n",
    "left_side_remaining, remaining_indices =  (\"?###????????\", [3,2,1])\n",
    "groups = []\n",
    "\n",
    "#current_substring = left_side\n",
    "\n",
    "while len(remaining_indices) > 0:\n",
    "    group_length = remaining_indices.pop(0)\n",
    "    print(group_length)\n",
    "    try:\n",
    "        current_hash = left_side_remaining.index('#')\n",
    "    except ValueError:\n",
    "        current_has = len(left_side_remaining)\n",
    "    try:\n",
    "        close_group = left_side_remaining[current_hash:].index('.')\n",
    "    except ValueError:\n",
    "        close_group = len(left_side_remaining)\n",
    "    substring = left_side_remaining[:current_hash+close_group]\n",
    "    print(substring)\n",
    "\n",
    "    while Counter(substring)['#'] != group_length:\n",
    "        new_pool = substring.index('?')\n",
    "        substring = [x for x in substring]\n",
    "        substring[new_pool] = '#'\n",
    "\n",
    "    index_group = set()\n",
    "    ## compute the number of possibles which \n",
    "    for permutation in permutations(substring):\n",
    "        permutation = \"\".join([x for x in permutation if x != '.'])\n",
    "\n",
    "        if \"#\" * group_length in permutation:\n",
    "        # if :\n",
    "            index_group.add(permutation)\n",
    "        else:\n",
    "            substring.index('?')\n",
    "\n",
    "    groups.append(index_group)\n",
    "    print(index)\n",
    "    left_side_remaining = left_side_remaining[current_hash+close_group:]\n",
    "groups"
   ]
  },
  {
   "cell_type": "code",
   "execution_count": null,
   "metadata": {},
   "outputs": [],
   "source": [
    "from collections import Counter\n",
    "from itertools import permutations\n",
    "\n",
    "left_side_remaining = \"?#!....##...?##?..\"\n",
    "remaining_indices = [1,2,3]\n",
    "\n",
    "groups = []\n",
    "\n",
    "#current_substring = left_side\n",
    "\n",
    "# while len(remaining_indices) > 0:\n",
    "group_length = remaining_indices.pop(0)\n",
    "\n",
    "current_hash = left_side_remaining.index('#')\n",
    "close_group = left_side_remaining[current_hash:].index('.')\n",
    "substring = left_side_remaining[:current_hash+close_group]\n",
    "\n",
    "if group_length + remaining_indices[0] > len(substring):\n",
    "    \n",
    "print(substring)\n",
    "\n",
    "\n",
    "index_group = []\n",
    "## compute the number of possibles which \n",
    "for permutation in permutations(substring):\n",
    "\n",
    "# for permutation in permutations(['#' if x=='#' else '.' for x in substring]):\n",
    "    print(permutation)\n",
    "#     permutation = \"\".join(permutation)\n",
    "#     counter = Counter(substring)\n",
    "\n",
    "#     if \"#\" * group_length in permutation and counter['#'] == group_length:\n",
    "#     # if :\n",
    "#         index_group.append(permutation)\n",
    "\n",
    "# groups.append(index_group)\n",
    "# left_side_remaining = left_side_remaining[current_hash+close_group:]\n",
    "# groups"
   ]
  },
  {
   "cell_type": "code",
   "execution_count": null,
   "metadata": {},
   "outputs": [
    {
     "name": "stdout",
     "output_type": "stream",
     "text": [
      "['?', '#']\n"
     ]
    }
   ],
   "source": [
    "\n",
    "\n",
    "len([x for x in \"?#?....##...?##?..\".split('.') if x!=\"\"]) == len([1,2,3])\n",
    "\n",
    "# for pair in pairs:\n",
    "#     print(pairs[pair])\n",
    "#     print(len([x for x in pairs[pair][0].split('.') if x!=\"\"]))# == len(pairs[pair][1]))\n",
    "    # print(pairs[pair][0].split('.') if x!=\"\"]) == len(pairs[pair][1]))\n",
    "\n",
    "\n",
    "# move right through string. stop at the first question mark..\n",
    "staring_string = [x for x in pairs[6][0]]\n",
    "\n",
    "composed_groups_list = []\n",
    "_integer_values = pairs[6][1]\n",
    "\n",
    "\n",
    "queue = []\n",
    "while len(staring_string)>0:\n",
    "    queue.append(staring_string.pop(0))\n",
    "    if queue[-1] != '?':\n",
    "        break\n",
    "print(queue)\n"
   ]
  },
  {
   "cell_type": "code",
   "execution_count": null,
   "metadata": {},
   "outputs": [],
   "source": [
    "from itertools import permutations\n",
    "\n",
    "\n",
    "class HotSprings:\n",
    "\n",
    "    def __init__(self, data):\n",
    "        self.left_side, self.right_side = data\n",
    "        self._refined_permutations = []\n",
    "\n",
    "    # self.left\n",
    "    @property\n",
    "    def hardcoded_filter(self):\n",
    "        return [False if (x=='?') else True for x in self.left_side]\n",
    "\n",
    "\n",
    "    @property\n",
    "    def all_permutations(self):\n",
    "        return permutations([True if x=='#' else False for x in self.left_side])\n",
    "\n",
    "    # @property\n",
    "    # def refined_permutations(self):\n",
    "    #     return list(self.all_permutations) #self._refined_permutations\n",
    "\n",
    "    def refined_permutations(self):\n",
    "        while True:\n",
    "            for y in self.all_permutations:\n",
    "                if all([y[i] == True for i in self.hardcoded_filter]):\n",
    "                    yield y\n",
    "\n",
    "\n",
    "\n",
    "\n",
    "    def func(self):\n",
    "\n",
    "        # return a list[list[str] for each string of len(x)  on this substring which produce two groups of hashes, \n",
    "        pass\n",
    "\n",
    "\n",
    "\n",
    "\n",
    "    def combos_from_substring(self, substring):\n",
    "        '''iterating either forwards or backwards over self.left_side, with an accompanying list of self.right_side integers\n",
    "        \n",
    "        process the list into X sections, where x is the number of hashtag groups.\n",
    "        \n",
    "        there is a far side boundary; each list should be indexed '''\n",
    "        pass\n",
    "        return list[list] # --> return all  combos for this HotSprings line"
   ]
  },
  {
   "cell_type": "code",
   "execution_count": null,
   "metadata": {},
   "outputs": [],
   "source": [
    "hs = HotSprings(pairs[6])"
   ]
  },
  {
   "cell_type": "code",
   "execution_count": null,
   "metadata": {},
   "outputs": [
    {
     "data": {
      "text/plain": [
       "[]"
      ]
     },
     "execution_count": 230,
     "metadata": {},
     "output_type": "execute_result"
    },
    {
     "name": "stderr",
     "output_type": "stream",
     "text": [
      "\n",
      "KeyboardInterrupt\n",
      "\n"
     ]
    }
   ],
   "source": [
    "hs.refined_permutations"
   ]
  },
  {
   "cell_type": "code",
   "execution_count": null,
   "metadata": {},
   "outputs": [
    {
     "data": {
      "text/plain": [
       "0"
      ]
     },
     "execution_count": 227,
     "metadata": {},
     "output_type": "execute_result"
    }
   ],
   "source": [
    "len(hs.refined_permutations)"
   ]
  },
  {
   "cell_type": "code",
   "execution_count": null,
   "metadata": {},
   "outputs": [],
   "source": [
    "# from a high level; each contiguous group of damaged springs WILL relate to one of the numbers in the base truth\n",
    "# we can only operate on '?' characters -- not '.' or '#' characters.\n",
    "# generate all permutations of the string which "
   ]
  },
  {
   "cell_type": "code",
   "execution_count": null,
   "metadata": {},
   "outputs": [
    {
     "data": {
      "text/plain": [
       "['?###????????']"
      ]
     },
     "execution_count": 162,
     "metadata": {},
     "output_type": "execute_result"
    }
   ],
   "source": [
    "\n",
    "acceptable_combinations = []\n",
    " \n",
    " # start from the right side, or the left?\n",
    " # make a tree of possibilities. eliminate all impossible branches.\n",
    " # flesh out the recursive tree. If the same sequence comes up multiple times for the same integer, you can reuse it.\n",
    " #\n",
    "\n",
    "if row[1][-1] > row[1][0]:\n",
    "    find_me = row[1][-1].pop()\n",
    "    # find all possible groups from the left side...\n",
    "    # list\n",
    "\n",
    "\n",
    "\n",
    "# acceptable_substrings = []\n",
    "\n",
    "\n",
    "\n",
    "\n"
   ]
  },
  {
   "cell_type": "code",
   "execution_count": null,
   "metadata": {},
   "outputs": [],
   "source": [
    "[len(x) for x in test if len(x) > 0] == [int(y) for y in row[1].split(',')]"
   ]
  },
  {
   "cell_type": "code",
   "execution_count": null,
   "metadata": {},
   "outputs": [
    {
     "name": "stdout",
     "output_type": "stream",
     "text": [
      "(['#', '#', '#'],)\n",
      "(['.', '.', '.'],)\n"
     ]
    }
   ],
   "source": [
    "def combinations():\n",
    "    left_side,right_side = \"???.###\", [1,1,3]\n",
    "    # starting from the right hand side:\n",
    "    pieces = []\n",
    "    pieces.append((left_side[-4:], 3))\n",
    "\n",
    "    from itertools import permutations\n",
    "    remaining_string = left_side[:-4]\n",
    "    all_combos = permutations(remaining_string)\n",
    "    for combo in all_combos:\n",
    "        print(combo)\n",
    "        # if [len(x) for x in combo.split('.')]\n",
    "\n",
    "\n",
    "    #return total_combos\n",
    "combinations()"
   ]
  },
  {
   "cell_type": "code",
   "execution_count": null,
   "metadata": {},
   "outputs": [
    {
     "name": "stdout",
     "output_type": "stream",
     "text": [
      "('#.#.###', [1, 1, 3])\n",
      "[True, False, True, False, True, True, True]\n",
      "2400\n",
      "('.#...#....###.', [1, 1, 3])\n",
      "[False, True, False, False, False, True, False, False, False, False, True, True, True, False]\n"
     ]
    },
    {
     "ename": "KeyboardInterrupt",
     "evalue": "",
     "output_type": "error",
     "traceback": [
      "\u001b[1;31m---------------------------------------------------------------------------\u001b[0m",
      "\u001b[1;31mKeyboardInterrupt\u001b[0m                         Traceback (most recent call last)",
      "Cell \u001b[1;32mIn[145], line 18\u001b[0m\n\u001b[0;32m     15\u001b[0m \u001b[38;5;28mprint\u001b[39m(truth_filter)\n\u001b[0;32m     17\u001b[0m all_permutations \u001b[38;5;241m=\u001b[39m permutations([\u001b[38;5;28;01mTrue\u001b[39;00m \u001b[38;5;28;01mif\u001b[39;00m x\u001b[38;5;241m==\u001b[39m\u001b[38;5;124m'\u001b[39m\u001b[38;5;124m#\u001b[39m\u001b[38;5;124m'\u001b[39m \u001b[38;5;28;01melse\u001b[39;00m \u001b[38;5;28;01mFalse\u001b[39;00m \u001b[38;5;28;01mfor\u001b[39;00m x \u001b[38;5;129;01min\u001b[39;00m pairs[i][\u001b[38;5;241m0\u001b[39m]])\n\u001b[1;32m---> 18\u001b[0m refined_permutations \u001b[38;5;241m=\u001b[39m \u001b[43m[\u001b[49m\u001b[43mx\u001b[49m\u001b[43m \u001b[49m\u001b[38;5;28;43;01mfor\u001b[39;49;00m\u001b[43m \u001b[49m\u001b[43mx\u001b[49m\u001b[43m \u001b[49m\u001b[38;5;129;43;01min\u001b[39;49;00m\u001b[43m \u001b[49m\u001b[43mall_permutations\u001b[49m\u001b[43m \u001b[49m\u001b[38;5;28;43;01mif\u001b[39;49;00m\u001b[43m \u001b[49m\u001b[38;5;28;43mall\u001b[39;49m\u001b[43m(\u001b[49m\u001b[43m[\u001b[49m\u001b[43mx\u001b[49m\u001b[43m[\u001b[49m\u001b[43mi\u001b[49m\u001b[43m]\u001b[49m\u001b[43m \u001b[49m\u001b[38;5;241;43m==\u001b[39;49m\u001b[43m \u001b[49m\u001b[38;5;28;43;01mTrue\u001b[39;49;00m\u001b[43m \u001b[49m\u001b[38;5;28;43;01mfor\u001b[39;49;00m\u001b[43m \u001b[49m\u001b[43mi\u001b[49m\u001b[43m \u001b[49m\u001b[38;5;129;43;01min\u001b[39;49;00m\u001b[43m \u001b[49m\u001b[43mtruth_filter\u001b[49m\u001b[43m]\u001b[49m\u001b[43m)\u001b[49m\u001b[43m]\u001b[49m\n\u001b[0;32m     19\u001b[0m \u001b[38;5;28mprint\u001b[39m(\u001b[38;5;28mlen\u001b[39m(refined_permutations))\n",
      "Cell \u001b[1;32mIn[145], line 18\u001b[0m, in \u001b[0;36m<listcomp>\u001b[1;34m(.0)\u001b[0m\n\u001b[0;32m     15\u001b[0m \u001b[38;5;28mprint\u001b[39m(truth_filter)\n\u001b[0;32m     17\u001b[0m all_permutations \u001b[38;5;241m=\u001b[39m permutations([\u001b[38;5;28;01mTrue\u001b[39;00m \u001b[38;5;28;01mif\u001b[39;00m x\u001b[38;5;241m==\u001b[39m\u001b[38;5;124m'\u001b[39m\u001b[38;5;124m#\u001b[39m\u001b[38;5;124m'\u001b[39m \u001b[38;5;28;01melse\u001b[39;00m \u001b[38;5;28;01mFalse\u001b[39;00m \u001b[38;5;28;01mfor\u001b[39;00m x \u001b[38;5;129;01min\u001b[39;00m pairs[i][\u001b[38;5;241m0\u001b[39m]])\n\u001b[1;32m---> 18\u001b[0m refined_permutations \u001b[38;5;241m=\u001b[39m [x \u001b[38;5;28;01mfor\u001b[39;00m x \u001b[38;5;129;01min\u001b[39;00m all_permutations \u001b[38;5;28;01mif\u001b[39;00m \u001b[38;5;28mall\u001b[39m(\u001b[43m[\u001b[49m\u001b[43mx\u001b[49m\u001b[43m[\u001b[49m\u001b[43mi\u001b[49m\u001b[43m]\u001b[49m\u001b[43m \u001b[49m\u001b[38;5;241;43m==\u001b[39;49m\u001b[43m \u001b[49m\u001b[38;5;28;43;01mTrue\u001b[39;49;00m\u001b[43m \u001b[49m\u001b[38;5;28;43;01mfor\u001b[39;49;00m\u001b[43m \u001b[49m\u001b[43mi\u001b[49m\u001b[43m \u001b[49m\u001b[38;5;129;43;01min\u001b[39;49;00m\u001b[43m \u001b[49m\u001b[43mtruth_filter\u001b[49m\u001b[43m]\u001b[49m)]\n\u001b[0;32m     19\u001b[0m \u001b[38;5;28mprint\u001b[39m(\u001b[38;5;28mlen\u001b[39m(refined_permutations))\n",
      "Cell \u001b[1;32mIn[145], line 18\u001b[0m, in \u001b[0;36m<listcomp>\u001b[1;34m(.0)\u001b[0m\n\u001b[0;32m     15\u001b[0m \u001b[38;5;28mprint\u001b[39m(truth_filter)\n\u001b[0;32m     17\u001b[0m all_permutations \u001b[38;5;241m=\u001b[39m permutations([\u001b[38;5;28;01mTrue\u001b[39;00m \u001b[38;5;28;01mif\u001b[39;00m x\u001b[38;5;241m==\u001b[39m\u001b[38;5;124m'\u001b[39m\u001b[38;5;124m#\u001b[39m\u001b[38;5;124m'\u001b[39m \u001b[38;5;28;01melse\u001b[39;00m \u001b[38;5;28;01mFalse\u001b[39;00m \u001b[38;5;28;01mfor\u001b[39;00m x \u001b[38;5;129;01min\u001b[39;00m pairs[i][\u001b[38;5;241m0\u001b[39m]])\n\u001b[1;32m---> 18\u001b[0m refined_permutations \u001b[38;5;241m=\u001b[39m [x \u001b[38;5;28;01mfor\u001b[39;00m x \u001b[38;5;129;01min\u001b[39;00m all_permutations \u001b[38;5;28;01mif\u001b[39;00m \u001b[38;5;28mall\u001b[39m([x[i] \u001b[38;5;241m==\u001b[39m \u001b[38;5;28;01mTrue\u001b[39;00m \u001b[38;5;28;01mfor\u001b[39;00m i \u001b[38;5;129;01min\u001b[39;00m truth_filter])]\n\u001b[0;32m     19\u001b[0m \u001b[38;5;28mprint\u001b[39m(\u001b[38;5;28mlen\u001b[39m(refined_permutations))\n",
      "\u001b[1;31mKeyboardInterrupt\u001b[0m: "
     ]
    }
   ],
   "source": [
    "# print(pairs)\n",
    "from itertools import permutations\n",
    "\n",
    "\n",
    "for i in pairs:\n",
    "    print(pairs[i])\n",
    "\n",
    "    # all_permutations = permutations([True if x=='#' else False for x in pairs[i][0]])\n",
    "    #print(len(list(all_permutations)))\n",
    "    # import pandas as pd\n",
    "    # truth_filter = pd.Series([True if x=='#' else False for x in pairs[0][0]])\n",
    "\n",
    "    truth_filter = [True if x=='#' else False for x in pairs[i][0]]\n",
    "    # truth_filter = [idx for idx, x in enumerate(pairs[0][0]) if x=='#']\n",
    "    print(truth_filter)\n",
    "\n",
    "    all_permutations = permutations([True if x=='#' else False for x in pairs[i][0]])\n",
    "    refined_permutations = [x for x in all_permutations if all([x[i] == True for i in truth_filter])]\n",
    "    print(len(refined_permutations))\n"
   ]
  },
  {
   "cell_type": "code",
   "execution_count": null,
   "metadata": {},
   "outputs": [
    {
     "data": {
      "text/plain": [
       "[1, 1, 3]"
      ]
     },
     "execution_count": 125,
     "metadata": {},
     "output_type": "execute_result"
    }
   ],
   "source": [
    "pairs[0][1]"
   ]
  },
  {
   "cell_type": "code",
   "execution_count": null,
   "metadata": {},
   "outputs": [
    {
     "data": {
      "text/plain": [
       "True"
      ]
     },
     "execution_count": 129,
     "metadata": {},
     "output_type": "execute_result"
    }
   ],
   "source": [
    "row = pairs[0][0]\n",
    "\n",
    "[len(z) for z in \"\".join(['1' if x=='#' else '0' for x in row]).split('0') if len(z) > 0] == pairs[0][1]"
   ]
  },
  {
   "cell_type": "code",
   "execution_count": null,
   "metadata": {},
   "outputs": [
    {
     "ename": "IndentationError",
     "evalue": "unexpected indent (1295581199.py, line 21)",
     "output_type": "error",
     "traceback": [
      "\u001b[1;36m  Cell \u001b[1;32mIn[107], line 21\u001b[1;36m\u001b[0m\n\u001b[1;33m    if local_lengths == substring_length:\u001b[0m\n\u001b[1;37m    ^\u001b[0m\n\u001b[1;31mIndentationError\u001b[0m\u001b[1;31m:\u001b[0m unexpected indent\n"
     ]
    }
   ],
   "source": [
    "#for row in ...\n",
    "# row = refined_permutations[0]\n",
    "# print(row)\n",
    "# print(\"\".join(['1' if x=='#' else '0' for x in row[0]]))\n",
    "viable_combos = 0\n",
    "lengths = []\n",
    "\n",
    "for row in refined_permutations:\n",
    "    local_lengths = []\n",
    "    substring_length = 0\n",
    "    for x in row:\n",
    "        if x == True:\n",
    "            substring_length += 1\n",
    "        elif x == False:\n",
    "            lengths.append(substring_length)\n",
    "            substring_length = 0\n",
    "        else:\n",
    "            lengths.append(substring_length)\n",
    "    lengths.append(substring_length)\n",
    "\n",
    "print(lengths)\n",
    "    if lengths == substring_length:\n",
    "        viable_combos += 1\n",
    "    \n",
    "\n",
    "#     if x == substring[0]:\n",
    "\n",
    "# print(\"\".join([x for x in \"\".join(['1' if x==True else '0' for x in row])]))"
   ]
  },
  {
   "cell_type": "code",
   "execution_count": null,
   "metadata": {},
   "outputs": [
    {
     "data": {
      "text/plain": [
       "0"
      ]
     },
     "execution_count": 95,
     "metadata": {},
     "output_type": "execute_result"
    }
   ],
   "source": [
    "viable_combos"
   ]
  },
  {
   "cell_type": "code",
   "execution_count": null,
   "metadata": {},
   "outputs": [],
   "source": [
    "counter = 0\n",
    "for permutation in permutations:\n",
    "    # true_indices = if [len(x) for x in permutation.split(False)]"
   ]
  },
  {
   "cell_type": "code",
   "execution_count": null,
   "metadata": {},
   "outputs": [],
   "source": []
  },
  {
   "cell_type": "code",
   "execution_count": null,
   "metadata": {},
   "outputs": [
    {
     "ename": "TypeError",
     "evalue": "'itertools.permutations' object is not subscriptable",
     "output_type": "error",
     "traceback": [
      "\u001b[1;31m---------------------------------------------------------------------------\u001b[0m",
      "\u001b[1;31mTypeError\u001b[0m                                 Traceback (most recent call last)",
      "Cell \u001b[1;32mIn[38], line 1\u001b[0m\n\u001b[1;32m----> 1\u001b[0m np\u001b[38;5;241m.\u001b[39marray(\u001b[43mall_permutations\u001b[49m\u001b[43m[\u001b[49m\u001b[38;5;241;43m0\u001b[39;49m\u001b[43m]\u001b[49m)\n",
      "\u001b[1;31mTypeError\u001b[0m: 'itertools.permutations' object is not subscriptable"
     ]
    }
   ],
   "source": [
    "np.array(all_permutations[0])"
   ]
  },
  {
   "cell_type": "code",
   "execution_count": null,
   "metadata": {},
   "outputs": [
    {
     "data": {
      "text/plain": [
       "2"
      ]
     },
     "execution_count": 6,
     "metadata": {},
     "output_type": "execute_result"
    }
   ],
   "source": [
    "sum([1,True])"
   ]
  },
  {
   "cell_type": "code",
   "execution_count": null,
   "metadata": {},
   "outputs": [],
   "source": [
    "from itertools import permutations()\n",
    "\n",
    "\n",
    "# total_combos = 0\n",
    "# for i,_ in enumerate(pairs):\n",
    "    \n",
    "#     total_combos += iteration_over_left_side(pairs[i])\n",
    "    # print(total_combos)\n",
    "iteration_over_left_side(pairs[0])"
   ]
  },
  {
   "cell_type": "code",
   "execution_count": null,
   "metadata": {},
   "outputs": [],
   "source": []
  },
  {
   "cell_type": "code",
   "execution_count": null,
   "metadata": {},
   "outputs": [],
   "source": []
  },
  {
   "cell_type": "code",
   "execution_count": null,
   "metadata": {},
   "outputs": [],
   "source": []
  },
  {
   "cell_type": "code",
   "execution_count": null,
   "metadata": {},
   "outputs": [],
   "source": [
    "\n",
    "\"\"\"..#...##...###.......#### 1,2,3,4\"\"\"\n",
    "\n",
    "\n",
    "for each (actual_length, gap) in zip(numbered_list, [x for x in string]):\n",
    "    for each number:\n",
    "    left side = \n",
    "    right side_len\n"
   ]
  },
  {
   "cell_type": "code",
   "execution_count": null,
   "metadata": {},
   "outputs": [
    {
     "data": {
      "text/plain": [
       "'\\n\\n???.### 1,1,3\\n.??..??...?##. 1,1,3\\n?#?#?#?#?#?#?#? 1,3,1,6\\n????.#...#... 4,1,1\\n\"????.######..#####. 1,6,5\"\\n\"?###???????? 3,2,1\"\\n\\n'"
      ]
     },
     "execution_count": 1,
     "metadata": {},
     "output_type": "execute_result"
    }
   ],
   "source": [
    "\"\"\"\n",
    "\n",
    "\"???.###\" 1,1,3\n",
    "\".??..??...?##.\" 1,1,3\n",
    "\"?#?#?#?#?#?#?#?\" 1,3,1,6\n",
    "\"????.#...#... 4,1,1\"\n",
    "\"????.######..#####. 1,6,5\"\n",
    "\"?###???????? 3,2,1\"\n",
    "\n",
    "\"\"\""
   ]
  },
  {
   "cell_type": "code",
   "execution_count": null,
   "metadata": {},
   "outputs": [],
   "source": []
  }
 ],
 "metadata": {
  "kernelspec": {
   "display_name": "Python 3",
   "language": "python",
   "name": "python3"
  },
  "language_info": {
   "codemirror_mode": {
    "name": "ipython",
    "version": 3
   },
   "file_extension": ".py",
   "mimetype": "text/x-python",
   "name": "python",
   "nbconvert_exporter": "python",
   "pygments_lexer": "ipython3",
   "version": "3.11.4"
  }
 },
 "nbformat": 4,
 "nbformat_minor": 2
}

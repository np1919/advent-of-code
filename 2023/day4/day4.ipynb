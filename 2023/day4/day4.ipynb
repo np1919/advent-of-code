{
 "cells": [
  {
   "cell_type": "code",
   "execution_count": 1,
   "metadata": {},
   "outputs": [],
   "source": [
    "#day 4 part 1\n",
    "\n",
    "with open('puzzle_input.txt', 'r') as f:\n",
    "    data = f.readlines()\n",
    "\n",
    "def get_points(x):\n",
    "    output = dict()\n",
    "    index, row = x[4:].strip().strip('\\n').split(':')\n",
    "    index = int(index)\n",
    "    output[index] = dict()\n",
    "    winning, yours = row.split('|')\n",
    "    winning = [y.strip() for y in winning.split()]\n",
    "    yours = [y.strip() for y in yours.split()]\n",
    "\n",
    "    output[index]['w'] = winning\n",
    "    output[index]['yours'] = yours\n",
    "\n",
    "    matches = list(set(output[index]['w']).intersection(set(output[index]['yours'])))\n",
    "    # print(matches)\n",
    "\n",
    "    if len(matches) == 0:\n",
    "        return 0\n",
    "    elif len(matches) == 1:\n",
    "        return 1\n",
    "    else:\n",
    "        # print(f'{len(matches)} winning numbers')\n",
    "        start = 1\n",
    "        for i, val in enumerate(matches[1:]):\n",
    "            start *= 2\n",
    "    return start\n",
    "\n",
    "    # return output\n",
    "\n",
    "\n",
    "# output = clean_row(data[0])\n",
    "sum(get_points(x) for x in data)"
   ]
  },
  {
   "cell_type": "code",
   "execution_count": 58,
   "metadata": {},
   "outputs": [],
   "source": [
    "# day 4 part 2\n",
    "\n",
    "#day 4 part 1\n",
    "\n",
    "with open('puzzle_input.txt', 'r') as f:\n",
    "    data = f.readlines()\n",
    "\n",
    "def process_row(x):\n",
    "    output = dict()\n",
    "    index, row = x[4:].strip().strip('\\n').split(':')\n",
    "    index = int(index)\n",
    "    output[index] = dict()\n",
    "    winning, yours = row.split('|')\n",
    "    winning = [y.strip() for y in winning.split()]\n",
    "    yours = [y.strip() for y in yours.split()]\n",
    "\n",
    "    output[index]['w'] = winning\n",
    "    output[index]['yours'] = yours\n",
    "    return output[index]\n",
    "\n",
    "def calculate_matches(x):\n",
    "    matches = list(set(x['w']).intersection(set(x['yours'])))\n",
    "    return len(matches)\n",
    "\n",
    "\n",
    "original = dict()\n",
    "\n",
    "for index, x in enumerate(data):\n",
    "    # adjust for 0-indexing\n",
    "    original[index+1] = process_row(x)\n",
    "    original[index+1]['num_matches'] = calculate_matches(original[index+1])\n",
    "    original[index+1]['repeats'] = 1\n",
    "    \n",
    "assert len(original) == len(data)\n",
    "for card in original:\n",
    "    for repeats in range(original[card]['repeats']):\n",
    "        # add the repeats to the subsequent cards\n",
    "        for i in range(1, original[card]['num_matches']+1):\n",
    "            original[card+i]['repeats'] += 1\n",
    "\n",
    "    \n",
    "total_cards = 0\n",
    "\n",
    "for x in original:\n",
    "    total_cards += original[x]['repeats']\n",
    "\n",
    "total_cards # 9924412 is the right answer"
   ]
  },
  {
   "cell_type": "code",
   "execution_count": null,
   "metadata": {},
   "outputs": [
    {
     "data": {
      "text/plain": [
       "973"
      ]
     },
     "metadata": {},
     "output_type": "display_data"
    }
   ],
   "source": [
    "total_matches = 0\n",
    "\n",
    "for x in original:\n",
    "    total_matches += original[x]['num_matches']\n",
    "total_matches"
   ]
  }
 ],
 "metadata": {
  "kernelspec": {
   "display_name": "Python 3",
   "language": "python",
   "name": "python3"
  },
  "language_info": {
   "codemirror_mode": {
    "name": "ipython",
    "version": 3
   },
   "file_extension": ".py",
   "mimetype": "text/x-python",
   "name": "python",
   "nbconvert_exporter": "python",
   "pygments_lexer": "ipython3",
   "version": "3.11.4"
  }
 },
 "nbformat": 4,
 "nbformat_minor": 2
}

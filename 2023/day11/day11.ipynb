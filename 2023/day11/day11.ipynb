{
 "cells": [
  {
   "cell_type": "code",
   "execution_count": 4,
   "metadata": {},
   "outputs": [
    {
     "name": "stdout",
     "output_type": "stream",
     "text": [
      "140 140\n",
      "140 140\n"
     ]
    },
    {
     "data": {
      "text/plain": [
       "9312968"
      ]
     },
     "execution_count": 4,
     "metadata": {},
     "output_type": "execute_result"
    }
   ],
   "source": [
    "from itertools import combinations\n",
    "\n",
    "data = \"\"\"...#......\n",
    ".......#..\n",
    "#.........\n",
    "..........\n",
    "......#...\n",
    ".#........\n",
    ".........#\n",
    "..........\n",
    ".......#..\n",
    "#...#.....\"\"\".split('\\n')\n",
    "\n",
    "with open('puzzle_input.txt') as f:\n",
    "    data = [x.strip('\\n') for x in f.readlines()]\n",
    "print(len(data[0]), len(data))\n",
    "print(len(data[0]), len(data))\n",
    "\n",
    "\n",
    "col_indexes = []\n",
    "for colidx, val in enumerate(data[0]):\n",
    "    # print(-colidx-1)\n",
    "    col = [row[colidx] for row in data]\n",
    "    # print(col)\n",
    "    if all([x=='.' for x in col]):\n",
    "        col_indexes.append(colidx)\n",
    "\n",
    "col_indexes\n",
    "for rowindex, row in enumerate(data):\n",
    "    newrow = [x for x in row]\n",
    "    for colindex in col_indexes[::-1]:\n",
    "        # print(colindex)\n",
    "        newrow.insert(colindex, '.')\n",
    "    # print(\"\".join(newrow))\n",
    "    # print(len(newrow))\n",
    "        data[rowindex] = \"\".join(newrow)\n",
    "\n",
    "# can't alter the strings in place... \n",
    "row_indexes = []\n",
    "# current = 1\n",
    "#newdata = []\n",
    "for idx, row in enumerate(data):\n",
    "    # print(len(row))\n",
    "    if all([x=='.' for x in row]):\n",
    "        row_indexes.append(idx)\n",
    "\n",
    "\n",
    "for num in row_indexes[::-1]:\n",
    "    data.insert(num, '.'*len(data[0]))\n",
    "    # newrow = [x for x in row]\n",
    "    # for colindex in col_indexes[::-1]:\n",
    "        # print(colindex)\n",
    "        # newrow.insert(colindex, '.')\n",
    "    # print(\"\".join(newrow))\n",
    "    # print(len(newrow))\n",
    "        # data[rowindex] = \"\".join(newrow)\n",
    "\n",
    "grid = [[x for x in y] for y in data]\n",
    "# print(len(grid), len(grid[0]))\n",
    "\n",
    "galaxy_coords = list()\n",
    "\n",
    "\n",
    "for x, row in enumerate(grid):\n",
    "    for y, col in enumerate(row):\n",
    "        if data[x][y] != '.':\n",
    "            galaxy_coords.append(((x+1), (y+1)))\n",
    "galaxy_coords\n",
    "\n",
    "from itertools import combinations\n",
    "len(galaxy_coords)\n",
    "len(list(combinations(galaxy_coords, 2)))\n",
    "shortest_distance_sum = 0\n",
    "for pair in combinations(galaxy_coords, 2):\n",
    "    distance = abs(pair[0][0] - pair[1][0]) + abs(pair[0][1] - pair[1][1])\n",
    "    # print(f'pair is {pair} distance is {distance}')\n",
    "    shortest_distance_sum += distance\n",
    "\n",
    "shortest_distance_sum\n",
    "\n",
    "#9312968 is correct"
   ]
  },
  {
   "cell_type": "markdown",
   "metadata": {},
   "source": [
    "# Day 11 Part 2"
   ]
  },
  {
   "cell_type": "code",
   "execution_count": null,
   "metadata": {},
   "outputs": [],
   "source": []
  },
  {
   "cell_type": "code",
   "execution_count": null,
   "metadata": {},
   "outputs": [],
   "source": [
    "is there a mathematical approach to solving this? Obviously. "
   ]
  },
  {
   "cell_type": "code",
   "execution_count": 7,
   "metadata": {},
   "outputs": [
    {
     "data": {
      "text/html": [
       "<div>\n",
       "<style scoped>\n",
       "    .dataframe tbody tr th:only-of-type {\n",
       "        vertical-align: middle;\n",
       "    }\n",
       "\n",
       "    .dataframe tbody tr th {\n",
       "        vertical-align: top;\n",
       "    }\n",
       "\n",
       "    .dataframe thead th {\n",
       "        text-align: right;\n",
       "    }\n",
       "</style>\n",
       "<table border=\"1\" class=\"dataframe\">\n",
       "  <thead>\n",
       "    <tr style=\"text-align: right;\">\n",
       "      <th></th>\n",
       "      <th>0</th>\n",
       "    </tr>\n",
       "  </thead>\n",
       "  <tbody>\n",
       "    <tr>\n",
       "      <th>0</th>\n",
       "      <td>.................................................</td>\n",
       "    </tr>\n",
       "    <tr>\n",
       "      <th>1</th>\n",
       "      <td>............................#................#...</td>\n",
       "    </tr>\n",
       "    <tr>\n",
       "      <th>2</th>\n",
       "      <td>....#...............................#............</td>\n",
       "    </tr>\n",
       "    <tr>\n",
       "      <th>3</th>\n",
       "      <td>................#.....#..........................</td>\n",
       "    </tr>\n",
       "    <tr>\n",
       "      <th>4</th>\n",
       "      <td>..........................................#......</td>\n",
       "    </tr>\n",
       "    <tr>\n",
       "      <th>...</th>\n",
       "      <td>...</td>\n",
       "    </tr>\n",
       "    <tr>\n",
       "      <th>135</th>\n",
       "      <td>.....................#...........................</td>\n",
       "    </tr>\n",
       "    <tr>\n",
       "      <th>136</th>\n",
       "      <td>......................................#..........</td>\n",
       "    </tr>\n",
       "    <tr>\n",
       "      <th>137</th>\n",
       "      <td>..#..............................................</td>\n",
       "    </tr>\n",
       "    <tr>\n",
       "      <th>138</th>\n",
       "      <td>..........................#......................</td>\n",
       "    </tr>\n",
       "    <tr>\n",
       "      <th>139</th>\n",
       "      <td>......#.........#.................#..............</td>\n",
       "    </tr>\n",
       "  </tbody>\n",
       "</table>\n",
       "<p>140 rows × 1 columns</p>\n",
       "</div>"
      ],
      "text/plain": [
       "                                                     0\n",
       "0    .................................................\n",
       "1    ............................#................#...\n",
       "2    ....#...............................#............\n",
       "3    ................#.....#..........................\n",
       "4    ..........................................#......\n",
       "..                                                 ...\n",
       "135  .....................#...........................\n",
       "136  ......................................#..........\n",
       "137  ..#..............................................\n",
       "138  ..........................#......................\n",
       "139  ......#.........#.................#..............\n",
       "\n",
       "[140 rows x 1 columns]"
      ]
     },
     "execution_count": 7,
     "metadata": {},
     "output_type": "execute_result"
    }
   ],
   "source": [
    "import pandas as pd\n",
    "\n",
    "with open('puzzle_input.txt') as f:\n",
    "    data = [x.strip('\\n') for x in f.readlines()]\n",
    "\n",
    "pd.DataFrame([x for x in data])"
   ]
  },
  {
   "cell_type": "code",
   "execution_count": null,
   "metadata": {},
   "outputs": [],
   "source": []
  },
  {
   "cell_type": "code",
   "execution_count": null,
   "metadata": {},
   "outputs": [],
   "source": []
  },
  {
   "cell_type": "code",
   "execution_count": 3,
   "metadata": {},
   "outputs": [],
   "source": [
    "\n",
    "# output = dict()\n",
    "# for galaxy in galaxy_coords:\n",
    "#     # total_distance = 0\n",
    "#     min_distance = None\n",
    "#     for other_galaxy in galaxy_coords:\n",
    "#         if other_galaxy != galaxy:\n",
    "#             manhattan_distance = abs(galaxy_coords[galaxy][0] - galaxy_coords[other_galaxy][0]) + abs(galaxy_coords[galaxy][1] - galaxy_coords[other_galaxy][1])\n",
    "#             # total_distance += manhattan_distance\n",
    "#             if min_distance == None:\n",
    "#                 min_distance = manhattan_distance\n",
    "#             elif manhattan_distance < min_distance:\n",
    "#                 min_distance = manhattan_distance\n",
    "#             else:\n",
    "#                 pass\n",
    "#     output[galaxy] =min_distance#,  total_distance, "
   ]
  }
 ],
 "metadata": {
  "kernelspec": {
   "display_name": "Python 3",
   "language": "python",
   "name": "python3"
  },
  "language_info": {
   "codemirror_mode": {
    "name": "ipython",
    "version": 3
   },
   "file_extension": ".py",
   "mimetype": "text/x-python",
   "name": "python",
   "nbconvert_exporter": "python",
   "pygments_lexer": "ipython3",
   "version": "3.11.4"
  }
 },
 "nbformat": 4,
 "nbformat_minor": 2
}
